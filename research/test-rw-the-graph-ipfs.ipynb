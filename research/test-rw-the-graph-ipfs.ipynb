{
 "cells": [
  {
   "cell_type": "code",
   "execution_count": 97,
   "id": "29be2f89-d553-42bb-91c3-043932fb508d",
   "metadata": {
    "scrolled": true
   },
   "outputs": [
    {
     "name": "stdout",
     "output_type": "stream",
     "text": [
      "Requirement already satisfied: ipfs-api==0.2.3 in /opt/homebrew/lib/python3.12/site-packages (0.2.3)\n",
      "Requirement already satisfied: urllib3 in /opt/homebrew/lib/python3.12/site-packages (2.2.1)\n",
      "Requirement already satisfied: IPFS-Toolkit in /opt/homebrew/lib/python3.12/site-packages (0.5.23)\n",
      "Requirement already satisfied: subgrounds in /opt/homebrew/lib/python3.12/site-packages (1.8.1)\n",
      "Requirement already satisfied: torch in /opt/homebrew/lib/python3.12/site-packages (2.3.0)\n",
      "Requirement already satisfied: web3 in /opt/homebrew/lib/python3.12/site-packages (6.19.0)\n",
      "Collecting python-dotenv\n",
      "  Downloading python_dotenv-1.0.1-py3-none-any.whl.metadata (23 kB)\n",
      "Requirement already satisfied: requests>=2.2.1 in /opt/homebrew/lib/python3.12/site-packages (from ipfs-api==0.2.3) (2.31.0)\n",
      "Requirement already satisfied: six in /opt/homebrew/lib/python3.12/site-packages (from ipfs-api==0.2.3) (1.16.0)\n",
      "Requirement already satisfied: appdirs in /opt/homebrew/lib/python3.12/site-packages (from IPFS-Toolkit) (1.4.4)\n",
      "Requirement already satisfied: httpcore in /opt/homebrew/lib/python3.12/site-packages (from IPFS-Toolkit) (0.17.3)\n",
      "Requirement already satisfied: httpx in /opt/homebrew/lib/python3.12/site-packages (from IPFS-Toolkit) (0.24.1)\n",
      "Requirement already satisfied: idna in /opt/homebrew/lib/python3.12/site-packages (from IPFS-Toolkit) (3.6)\n",
      "Requirement already satisfied: multiaddr in /opt/homebrew/lib/python3.12/site-packages (from IPFS-Toolkit) (0.0.9)\n",
      "Requirement already satisfied: termcolor in /opt/homebrew/lib/python3.12/site-packages (from IPFS-Toolkit) (2.4.0)\n",
      "Requirement already satisfied: varint in /opt/homebrew/lib/python3.12/site-packages (from IPFS-Toolkit) (1.0.2)\n",
      "Requirement already satisfied: pandas<3.0,>=2.1 in /opt/homebrew/lib/python3.12/site-packages (from subgrounds) (2.2.2)\n",
      "Requirement already satisfied: pipe<3.0,>=2.0 in /opt/homebrew/lib/python3.12/site-packages (from subgrounds) (2.2)\n",
      "Requirement already satisfied: pydantic<3.0,>=2.0 in /opt/homebrew/lib/python3.12/site-packages (from subgrounds) (2.7.2)\n",
      "Requirement already satisfied: pytest-asyncio<0.22.0,>=0.21.0 in /opt/homebrew/lib/python3.12/site-packages (from subgrounds) (0.21.2)\n",
      "Requirement already satisfied: filelock in /opt/homebrew/lib/python3.12/site-packages (from torch) (3.13.3)\n",
      "Requirement already satisfied: typing-extensions>=4.8.0 in /opt/homebrew/lib/python3.12/site-packages (from torch) (4.11.0)\n",
      "Requirement already satisfied: sympy in /opt/homebrew/lib/python3.12/site-packages (from torch) (1.12.1)\n",
      "Requirement already satisfied: networkx in /opt/homebrew/lib/python3.12/site-packages (from torch) (3.3)\n",
      "Requirement already satisfied: jinja2 in /opt/homebrew/lib/python3.12/site-packages (from torch) (3.1.3)\n",
      "Requirement already satisfied: fsspec in /opt/homebrew/lib/python3.12/site-packages (from torch) (2024.3.1)\n",
      "Requirement already satisfied: aiohttp>=3.7.4.post0 in /opt/homebrew/lib/python3.12/site-packages (from web3) (3.9.5)\n",
      "Requirement already satisfied: eth-abi>=4.0.0 in /opt/homebrew/lib/python3.12/site-packages (from web3) (5.1.0)\n",
      "Requirement already satisfied: eth-account<0.13,>=0.8.0 in /opt/homebrew/lib/python3.12/site-packages (from web3) (0.11.2)\n",
      "Requirement already satisfied: eth-hash>=0.5.1 in /opt/homebrew/lib/python3.12/site-packages (from eth-hash[pycryptodome]>=0.5.1->web3) (0.7.0)\n",
      "Requirement already satisfied: eth-typing!=4.2.0,>=3.0.0 in /opt/homebrew/lib/python3.12/site-packages (from web3) (4.2.3)\n",
      "Requirement already satisfied: eth-utils>=2.1.0 in /opt/homebrew/lib/python3.12/site-packages (from web3) (4.1.1)\n",
      "Requirement already satisfied: hexbytes<0.4.0,>=0.1.0 in /opt/homebrew/lib/python3.12/site-packages (from web3) (0.3.1)\n",
      "Requirement already satisfied: jsonschema>=4.0.0 in /opt/homebrew/lib/python3.12/site-packages (from web3) (4.21.1)\n",
      "Requirement already satisfied: lru-dict<1.3.0,>=1.1.6 in /opt/homebrew/lib/python3.12/site-packages (from web3) (1.2.0)\n",
      "Requirement already satisfied: protobuf>=4.21.6 in /opt/homebrew/lib/python3.12/site-packages (from web3) (4.25.3)\n",
      "Requirement already satisfied: websockets>=10.0.0 in /opt/homebrew/lib/python3.12/site-packages (from web3) (12.0)\n",
      "Requirement already satisfied: pyunormalize>=15.0.0 in /opt/homebrew/lib/python3.12/site-packages (from web3) (15.1.0)\n",
      "Requirement already satisfied: aiosignal>=1.1.2 in /opt/homebrew/lib/python3.12/site-packages (from aiohttp>=3.7.4.post0->web3) (1.3.1)\n",
      "Requirement already satisfied: attrs>=17.3.0 in /opt/homebrew/lib/python3.12/site-packages (from aiohttp>=3.7.4.post0->web3) (23.2.0)\n",
      "Requirement already satisfied: frozenlist>=1.1.1 in /opt/homebrew/lib/python3.12/site-packages (from aiohttp>=3.7.4.post0->web3) (1.4.1)\n",
      "Requirement already satisfied: multidict<7.0,>=4.5 in /opt/homebrew/lib/python3.12/site-packages (from aiohttp>=3.7.4.post0->web3) (6.0.5)\n",
      "Requirement already satisfied: yarl<2.0,>=1.0 in /opt/homebrew/lib/python3.12/site-packages (from aiohttp>=3.7.4.post0->web3) (1.9.4)\n",
      "Requirement already satisfied: parsimonious<0.11.0,>=0.10.0 in /opt/homebrew/lib/python3.12/site-packages (from eth-abi>=4.0.0->web3) (0.10.0)\n",
      "Requirement already satisfied: bitarray>=2.4.0 in /opt/homebrew/lib/python3.12/site-packages (from eth-account<0.13,>=0.8.0->web3) (2.9.2)\n",
      "Requirement already satisfied: eth-keyfile>=0.6.0 in /opt/homebrew/lib/python3.12/site-packages (from eth-account<0.13,>=0.8.0->web3) (0.8.1)\n",
      "Requirement already satisfied: eth-keys>=0.4.0 in /opt/homebrew/lib/python3.12/site-packages (from eth-account<0.13,>=0.8.0->web3) (0.5.1)\n",
      "Requirement already satisfied: eth-rlp>=0.3.0 in /opt/homebrew/lib/python3.12/site-packages (from eth-account<0.13,>=0.8.0->web3) (1.0.1)\n",
      "Requirement already satisfied: rlp>=1.0.0 in /opt/homebrew/lib/python3.12/site-packages (from eth-account<0.13,>=0.8.0->web3) (4.0.1)\n",
      "Requirement already satisfied: ckzg>=0.4.3 in /opt/homebrew/lib/python3.12/site-packages (from eth-account<0.13,>=0.8.0->web3) (1.0.2)\n",
      "Requirement already satisfied: pycryptodome<4,>=3.6.6 in /opt/homebrew/lib/python3.12/site-packages (from eth-hash[pycryptodome]>=0.5.1->web3) (3.20.0)\n",
      "Requirement already satisfied: cytoolz>=0.10.1 in /opt/homebrew/lib/python3.12/site-packages (from eth-utils>=2.1.0->web3) (0.12.3)\n",
      "Requirement already satisfied: certifi in /opt/homebrew/lib/python3.12/site-packages (from httpx->IPFS-Toolkit) (2024.2.2)\n",
      "Requirement already satisfied: sniffio in /opt/homebrew/lib/python3.12/site-packages (from httpx->IPFS-Toolkit) (1.3.1)\n",
      "Requirement already satisfied: h11<0.15,>=0.13 in /opt/homebrew/lib/python3.12/site-packages (from httpcore->IPFS-Toolkit) (0.14.0)\n",
      "Requirement already satisfied: anyio<5.0,>=3.0 in /opt/homebrew/lib/python3.12/site-packages (from httpcore->IPFS-Toolkit) (4.3.0)\n",
      "Requirement already satisfied: h2<5,>=3 in /opt/homebrew/lib/python3.12/site-packages (from httpx[http2]<0.25.0,>=0.24.1->subgrounds) (4.1.0)\n",
      "Requirement already satisfied: jsonschema-specifications>=2023.03.6 in /opt/homebrew/lib/python3.12/site-packages (from jsonschema>=4.0.0->web3) (2023.12.1)\n",
      "Requirement already satisfied: referencing>=0.28.4 in /opt/homebrew/lib/python3.12/site-packages (from jsonschema>=4.0.0->web3) (0.34.0)\n",
      "Requirement already satisfied: rpds-py>=0.7.1 in /opt/homebrew/lib/python3.12/site-packages (from jsonschema>=4.0.0->web3) (0.18.0)\n",
      "Requirement already satisfied: numpy>=1.26.0 in /opt/homebrew/lib/python3.12/site-packages (from pandas<3.0,>=2.1->subgrounds) (1.26.4)\n",
      "Requirement already satisfied: python-dateutil>=2.8.2 in /opt/homebrew/lib/python3.12/site-packages (from pandas<3.0,>=2.1->subgrounds) (2.9.0.post0)\n",
      "Requirement already satisfied: pytz>=2020.1 in /opt/homebrew/lib/python3.12/site-packages (from pandas<3.0,>=2.1->subgrounds) (2024.1)\n",
      "Requirement already satisfied: tzdata>=2022.7 in /opt/homebrew/lib/python3.12/site-packages (from pandas<3.0,>=2.1->subgrounds) (2024.1)\n",
      "Requirement already satisfied: annotated-types>=0.4.0 in /opt/homebrew/lib/python3.12/site-packages (from pydantic<3.0,>=2.0->subgrounds) (0.7.0)\n",
      "Requirement already satisfied: pydantic-core==2.18.3 in /opt/homebrew/lib/python3.12/site-packages (from pydantic<3.0,>=2.0->subgrounds) (2.18.3)\n",
      "Requirement already satisfied: pytest>=7.0.0 in /opt/homebrew/lib/python3.12/site-packages (from pytest-asyncio<0.22.0,>=0.21.0->subgrounds) (8.2.1)\n",
      "Requirement already satisfied: charset-normalizer<4,>=2 in /opt/homebrew/lib/python3.12/site-packages (from requests>=2.2.1->ipfs-api==0.2.3) (3.3.2)\n",
      "Requirement already satisfied: MarkupSafe>=2.0 in /opt/homebrew/lib/python3.12/site-packages (from jinja2->torch) (2.1.5)\n",
      "Requirement already satisfied: base58 in /opt/homebrew/lib/python3.12/site-packages (from multiaddr->IPFS-Toolkit) (2.1.1)\n",
      "Requirement already satisfied: netaddr in /opt/homebrew/lib/python3.12/site-packages (from multiaddr->IPFS-Toolkit) (1.3.0)\n",
      "Requirement already satisfied: mpmath<1.4.0,>=1.1.0 in /opt/homebrew/lib/python3.12/site-packages (from sympy->torch) (1.3.0)\n",
      "Requirement already satisfied: toolz>=0.8.0 in /opt/homebrew/lib/python3.12/site-packages (from cytoolz>=0.10.1->eth-utils>=2.1.0->web3) (0.12.1)\n",
      "Requirement already satisfied: hyperframe<7,>=6.0 in /opt/homebrew/lib/python3.12/site-packages (from h2<5,>=3->httpx[http2]<0.25.0,>=0.24.1->subgrounds) (6.0.1)\n",
      "Requirement already satisfied: hpack<5,>=4.0 in /opt/homebrew/lib/python3.12/site-packages (from h2<5,>=3->httpx[http2]<0.25.0,>=0.24.1->subgrounds) (4.0.0)\n",
      "Requirement already satisfied: regex>=2022.3.15 in /opt/homebrew/lib/python3.12/site-packages (from parsimonious<0.11.0,>=0.10.0->eth-abi>=4.0.0->web3) (2023.12.25)\n",
      "Requirement already satisfied: iniconfig in /opt/homebrew/lib/python3.12/site-packages (from pytest>=7.0.0->pytest-asyncio<0.22.0,>=0.21.0->subgrounds) (2.0.0)\n",
      "Requirement already satisfied: packaging in /opt/homebrew/lib/python3.12/site-packages (from pytest>=7.0.0->pytest-asyncio<0.22.0,>=0.21.0->subgrounds) (24.0)\n",
      "Requirement already satisfied: pluggy<2.0,>=1.5 in /opt/homebrew/lib/python3.12/site-packages (from pytest>=7.0.0->pytest-asyncio<0.22.0,>=0.21.0->subgrounds) (1.5.0)\n",
      "Downloading python_dotenv-1.0.1-py3-none-any.whl (19 kB)\n",
      "Installing collected packages: python-dotenv\n",
      "Successfully installed python-dotenv-1.0.1\n"
     ]
    }
   ],
   "source": [
    "!python3 -m pip install ipfs-api==0.2.3 urllib3 IPFS-Toolkit subgrounds torch web3 python-dotenv --upgrade --break-system-packages"
   ]
  },
  {
   "cell_type": "code",
   "execution_count": 12,
   "id": "05bf3fb4-6eb4-41c6-9073-028a059d73ef",
   "metadata": {
    "editable": true,
    "slideshow": {
     "slide_type": ""
    },
    "tags": []
   },
   "outputs": [],
   "source": [
    "import ipfsApi\n",
    "\n",
    "def write_to_ipfs(client, file_path):\n",
    "    # Connect to the local IPFS node\n",
    "\n",
    "    # Add a file to IPFS\n",
    "    res = client.add(file_path)\n",
    "    \n",
    "    # Print the IPFS hash (CID) of the added file\n",
    "    print(f\"Added file to IPFS with CID: {res['Hash']}\")\n",
    "\n",
    "    return res['Hash']"
   ]
  },
  {
   "cell_type": "code",
   "execution_count": 275,
   "id": "3e32879f-b4a6-415e-939b-730a8488fbe3",
   "metadata": {},
   "outputs": [],
   "source": [
    "# client = ipfsApi.Client('http://34.32.233.93', 5001)\n",
    "# client = ipfshttpclient.connect()"
   ]
  },
  {
   "cell_type": "code",
   "execution_count": 277,
   "id": "93e7eb38-1972-40ea-a9b8-2db4ac8a7d4e",
   "metadata": {},
   "outputs": [],
   "source": [
    "# client.id()"
   ]
  },
  {
   "cell_type": "code",
   "execution_count": 271,
   "id": "18ae66b8-c782-43f1-8925-0da28d3d05a7",
   "metadata": {},
   "outputs": [],
   "source": [
    "# client.version()"
   ]
  },
  {
   "cell_type": "code",
   "execution_count": 16,
   "id": "1d77e42d-1450-4362-9b2b-9cdf68d8198b",
   "metadata": {},
   "outputs": [
    {
     "data": {
      "text/plain": [
       "'QmVocnDjam1EUunBKVNQpX4RGftscxKYkUfC4RDL1uq5to'"
      ]
     },
     "execution_count": 16,
     "metadata": {},
     "output_type": "execute_result"
    }
   ],
   "source": [
    "lst = [1, 77, 'lol']\n",
    "h = client.add_pyobj(lst)\n",
    "h"
   ]
  },
  {
   "cell_type": "code",
   "execution_count": 8,
   "id": "3c4e1540-5245-4b95-8ebb-385f200584bf",
   "metadata": {},
   "outputs": [
    {
     "data": {
      "text/plain": [
       "'QmYfNcRcvvyPKmc1DoDkZsA7HnZnyMoeoADegEsimXaxSL'"
      ]
     },
     "execution_count": 8,
     "metadata": {},
     "output_type": "execute_result"
    }
   ],
   "source": [
    "client.add_json({\"a\": \"b\"})"
   ]
  },
  {
   "cell_type": "code",
   "execution_count": 9,
   "id": "a0c28dc1-c63e-43b1-91d3-c48234bab64b",
   "metadata": {
    "scrolled": true
   },
   "outputs": [
    {
     "ename": "HTTPError",
     "evalue": "405 Client Error: Method Not Allowed for url: http://127.0.0.1:5001/api/v0/cat?stream-channels=true&encoding=json&arg=QmYfNcRcvvyPKmc1DoDkZsA7HnZnyMoeoADegEsimXaxSL",
     "output_type": "error",
     "traceback": [
      "\u001b[0;31m---------------------------------------------------------------------------\u001b[0m",
      "\u001b[0;31mHTTPError\u001b[0m                                 Traceback (most recent call last)",
      "Cell \u001b[0;32mIn[9], line 1\u001b[0m\n\u001b[0;32m----> 1\u001b[0m \u001b[43mclient\u001b[49m\u001b[38;5;241;43m.\u001b[39;49m\u001b[43mget_json\u001b[49m\u001b[43m(\u001b[49m\u001b[38;5;124;43m\"\u001b[39;49m\u001b[38;5;124;43mQmYfNcRcvvyPKmc1DoDkZsA7HnZnyMoeoADegEsimXaxSL\u001b[39;49m\u001b[38;5;124;43m\"\u001b[39;49m\u001b[43m)\u001b[49m\n",
      "File \u001b[0;32m/opt/homebrew/lib/python3.12/site-packages/ipfsApi/client.py:529\u001b[0m, in \u001b[0;36mClient.get_json\u001b[0;34m(self, multihash, **kwargs)\u001b[0m\n\u001b[1;32m    522\u001b[0m \u001b[38;5;28;01mdef\u001b[39;00m \u001b[38;5;21mget_json\u001b[39m(\u001b[38;5;28mself\u001b[39m, multihash, \u001b[38;5;241m*\u001b[39m\u001b[38;5;241m*\u001b[39mkwargs):\n\u001b[1;32m    523\u001b[0m \u001b[38;5;250m    \u001b[39m\u001b[38;5;124;03m\"\"\"\u001b[39;00m\n\u001b[1;32m    524\u001b[0m \u001b[38;5;124;03m    Loads a json object from IPFS.\u001b[39;00m\n\u001b[1;32m    525\u001b[0m \n\u001b[1;32m    526\u001b[0m \u001b[38;5;124;03m    >> c.get_json('QmVz9g7m5u3oHiNKHj2CJX1dbG1gtismRS3g9NaPBBLbob')\u001b[39;00m\n\u001b[1;32m    527\u001b[0m \u001b[38;5;124;03m    {u'one': 1, u'two': 2, u'three': 3}\u001b[39;00m\n\u001b[1;32m    528\u001b[0m \u001b[38;5;124;03m    \"\"\"\u001b[39;00m\n\u001b[0;32m--> 529\u001b[0m     \u001b[38;5;28;01mreturn\u001b[39;00m \u001b[38;5;28;43mself\u001b[39;49m\u001b[38;5;241;43m.\u001b[39;49m\u001b[43mcat\u001b[49m\u001b[43m(\u001b[49m\u001b[43mmultihash\u001b[49m\u001b[43m,\u001b[49m\u001b[43m \u001b[49m\u001b[43mdecoder\u001b[49m\u001b[38;5;241;43m=\u001b[39;49m\u001b[38;5;124;43m'\u001b[39;49m\u001b[38;5;124;43mjson\u001b[39;49m\u001b[38;5;124;43m'\u001b[39;49m\u001b[43m,\u001b[49m\u001b[43m \u001b[49m\u001b[38;5;241;43m*\u001b[39;49m\u001b[38;5;241;43m*\u001b[39;49m\u001b[43mkwargs\u001b[49m\u001b[43m)\u001b[49m\n",
      "File \u001b[0;32m/opt/homebrew/lib/python3.12/site-packages/ipfsApi/client.py:126\u001b[0m, in \u001b[0;36mClient.cat\u001b[0;34m(self, multihash, **kwargs)\u001b[0m\n\u001b[1;32m    115\u001b[0m \u001b[38;5;28;01mdef\u001b[39;00m \u001b[38;5;21mcat\u001b[39m(\u001b[38;5;28mself\u001b[39m, multihash, \u001b[38;5;241m*\u001b[39m\u001b[38;5;241m*\u001b[39mkwargs):\n\u001b[1;32m    116\u001b[0m \u001b[38;5;250m    \u001b[39m\u001b[38;5;124mr\u001b[39m\u001b[38;5;124;03m\"\"\"\u001b[39;00m\n\u001b[1;32m    117\u001b[0m \u001b[38;5;124;03m    Returns the contents of a file identified by hash, as a string\u001b[39;00m\n\u001b[1;32m    118\u001b[0m \n\u001b[0;32m   (...)\u001b[0m\n\u001b[1;32m    124\u001b[0m \u001b[38;5;124;03m    u'<!DOCTYPE html>\\n<html>\\n\\n<head>\\n<title>ipfs example viewer</t'\u001b[39;00m\n\u001b[1;32m    125\u001b[0m \u001b[38;5;124;03m    \"\"\"\u001b[39;00m\n\u001b[0;32m--> 126\u001b[0m     \u001b[38;5;28;01mreturn\u001b[39;00m \u001b[38;5;28;43mself\u001b[39;49m\u001b[38;5;241;43m.\u001b[39;49m\u001b[43m_cat\u001b[49m\u001b[38;5;241;43m.\u001b[39;49m\u001b[43mrequest\u001b[49m\u001b[43m(\u001b[49m\u001b[38;5;28;43mself\u001b[39;49m\u001b[38;5;241;43m.\u001b[39;49m\u001b[43m_client\u001b[49m\u001b[43m,\u001b[49m\u001b[43m \u001b[49m\u001b[43mmultihash\u001b[49m\u001b[43m,\u001b[49m\u001b[43m \u001b[49m\u001b[38;5;241;43m*\u001b[39;49m\u001b[38;5;241;43m*\u001b[39;49m\u001b[43mkwargs\u001b[49m\u001b[43m)\u001b[49m\n",
      "File \u001b[0;32m/opt/homebrew/lib/python3.12/site-packages/ipfsApi/commands.py:31\u001b[0m, in \u001b[0;36mArgCommand.request\u001b[0;34m(self, client, *args, **kwargs)\u001b[0m\n\u001b[1;32m     28\u001b[0m \u001b[38;5;28;01mif\u001b[39;00m \u001b[38;5;28mself\u001b[39m\u001b[38;5;241m.\u001b[39margc \u001b[38;5;129;01mand\u001b[39;00m \u001b[38;5;28mlen\u001b[39m(args) \u001b[38;5;241m!=\u001b[39m \u001b[38;5;28mself\u001b[39m\u001b[38;5;241m.\u001b[39margc:\n\u001b[1;32m     29\u001b[0m     \u001b[38;5;28;01mraise\u001b[39;00m InvalidArguments(\u001b[38;5;124m\"\u001b[39m\u001b[38;5;124m[\u001b[39m\u001b[38;5;132;01m%s\u001b[39;00m\u001b[38;5;124m] command requires \u001b[39m\u001b[38;5;132;01m%d\u001b[39;00m\u001b[38;5;124m arguments.\u001b[39m\u001b[38;5;124m\"\u001b[39m \u001b[38;5;241m%\u001b[39m (\n\u001b[1;32m     30\u001b[0m         \u001b[38;5;28mself\u001b[39m\u001b[38;5;241m.\u001b[39mpath, \u001b[38;5;28mself\u001b[39m\u001b[38;5;241m.\u001b[39margc))\n\u001b[0;32m---> 31\u001b[0m \u001b[38;5;28;01mreturn\u001b[39;00m \u001b[43mclient\u001b[49m\u001b[38;5;241;43m.\u001b[39;49m\u001b[43mrequest\u001b[49m\u001b[43m(\u001b[49m\u001b[38;5;28;43mself\u001b[39;49m\u001b[38;5;241;43m.\u001b[39;49m\u001b[43mpath\u001b[49m\u001b[43m,\u001b[49m\u001b[43m \u001b[49m\u001b[43margs\u001b[49m\u001b[38;5;241;43m=\u001b[39;49m\u001b[43margs\u001b[49m\u001b[43m,\u001b[49m\u001b[43m \u001b[49m\u001b[38;5;241;43m*\u001b[39;49m\u001b[38;5;241;43m*\u001b[39;49m\u001b[43mkwargs\u001b[49m\u001b[43m)\u001b[49m\n",
      "File \u001b[0;32m/opt/homebrew/lib/python3.12/site-packages/ipfsApi/http.py:25\u001b[0m, in \u001b[0;36mpass_defaults.<locals>.wrapper\u001b[0;34m(self, *args, **kwargs)\u001b[0m\n\u001b[1;32m     23\u001b[0m merged\u001b[38;5;241m.\u001b[39mupdate(\u001b[38;5;28mself\u001b[39m\u001b[38;5;241m.\u001b[39mdefaults)\n\u001b[1;32m     24\u001b[0m merged\u001b[38;5;241m.\u001b[39mupdate(kwargs)\n\u001b[0;32m---> 25\u001b[0m \u001b[38;5;28;01mreturn\u001b[39;00m \u001b[43mf\u001b[49m\u001b[43m(\u001b[49m\u001b[38;5;28;43mself\u001b[39;49m\u001b[43m,\u001b[49m\u001b[43m \u001b[49m\u001b[38;5;241;43m*\u001b[39;49m\u001b[43margs\u001b[49m\u001b[43m,\u001b[49m\u001b[43m \u001b[49m\u001b[38;5;241;43m*\u001b[39;49m\u001b[38;5;241;43m*\u001b[39;49m\u001b[43mmerged\u001b[49m\u001b[43m)\u001b[49m\n",
      "File \u001b[0;32m/opt/homebrew/lib/python3.12/site-packages/ipfsApi/http.py:95\u001b[0m, in \u001b[0;36mHTTPClient.request\u001b[0;34m(self, path, args, files, opts, decoder, **kwargs)\u001b[0m\n\u001b[1;32m     92\u001b[0m         ret \u001b[38;5;241m=\u001b[39m res\u001b[38;5;241m.\u001b[39mtext\n\u001b[1;32m     94\u001b[0m \u001b[38;5;28;01mtry\u001b[39;00m:\n\u001b[0;32m---> 95\u001b[0m     \u001b[43mres\u001b[49m\u001b[38;5;241;43m.\u001b[39;49m\u001b[43mraise_for_status\u001b[49m\u001b[43m(\u001b[49m\u001b[43m)\u001b[49m\n\u001b[1;32m     96\u001b[0m \u001b[38;5;28;01mexcept\u001b[39;00m requests\u001b[38;5;241m.\u001b[39mexceptions\u001b[38;5;241m.\u001b[39mHTTPError:\n\u001b[1;32m     97\u001b[0m     \u001b[38;5;66;03m# If we have decoded an error response from the server,\u001b[39;00m\n\u001b[1;32m     98\u001b[0m     \u001b[38;5;66;03m# use that as the exception message; otherwise, just pass\u001b[39;00m\n\u001b[1;32m     99\u001b[0m     \u001b[38;5;66;03m# the exception on to the caller.\u001b[39;00m\n\u001b[1;32m    100\u001b[0m     \u001b[38;5;28;01mif\u001b[39;00m \u001b[38;5;124m'\u001b[39m\u001b[38;5;124mMessage\u001b[39m\u001b[38;5;124m'\u001b[39m \u001b[38;5;129;01min\u001b[39;00m ret:\n",
      "File \u001b[0;32m/opt/homebrew/lib/python3.12/site-packages/requests/models.py:1021\u001b[0m, in \u001b[0;36mResponse.raise_for_status\u001b[0;34m(self)\u001b[0m\n\u001b[1;32m   1016\u001b[0m     http_error_msg \u001b[38;5;241m=\u001b[39m (\n\u001b[1;32m   1017\u001b[0m         \u001b[38;5;124mf\u001b[39m\u001b[38;5;124m\"\u001b[39m\u001b[38;5;132;01m{\u001b[39;00m\u001b[38;5;28mself\u001b[39m\u001b[38;5;241m.\u001b[39mstatus_code\u001b[38;5;132;01m}\u001b[39;00m\u001b[38;5;124m Server Error: \u001b[39m\u001b[38;5;132;01m{\u001b[39;00mreason\u001b[38;5;132;01m}\u001b[39;00m\u001b[38;5;124m for url: \u001b[39m\u001b[38;5;132;01m{\u001b[39;00m\u001b[38;5;28mself\u001b[39m\u001b[38;5;241m.\u001b[39murl\u001b[38;5;132;01m}\u001b[39;00m\u001b[38;5;124m\"\u001b[39m\n\u001b[1;32m   1018\u001b[0m     )\n\u001b[1;32m   1020\u001b[0m \u001b[38;5;28;01mif\u001b[39;00m http_error_msg:\n\u001b[0;32m-> 1021\u001b[0m     \u001b[38;5;28;01mraise\u001b[39;00m HTTPError(http_error_msg, response\u001b[38;5;241m=\u001b[39m\u001b[38;5;28mself\u001b[39m)\n",
      "\u001b[0;31mHTTPError\u001b[0m: 405 Client Error: Method Not Allowed for url: http://127.0.0.1:5001/api/v0/cat?stream-channels=true&encoding=json&arg=QmYfNcRcvvyPKmc1DoDkZsA7HnZnyMoeoADegEsimXaxSL"
     ]
    }
   ],
   "source": [
    "client.get_json(\"QmYfNcRcvvyPKmc1DoDkZsA7HnZnyMoeoADegEsimXaxSL\")"
   ]
  },
  {
   "cell_type": "code",
   "execution_count": 92,
   "id": "9cda03a7-3295-49e4-9fc8-92ea947b453d",
   "metadata": {
    "scrolled": true
   },
   "outputs": [],
   "source": [
    "import requests"
   ]
  },
  {
   "cell_type": "code",
   "execution_count": 93,
   "id": "b2571871-2240-4dda-b5d0-e504339fe379",
   "metadata": {},
   "outputs": [],
   "source": [
    "r = requests.get(\"https://ipfs.io/ipfs/Qmdc4HtimQNcjUyQUp1FPQ8SQSMa54eqN1azUPUifX13jc\")"
   ]
  },
  {
   "cell_type": "code",
   "execution_count": 94,
   "id": "424bd236-07b7-4147-99d9-c2ebef306e72",
   "metadata": {},
   "outputs": [
    {
     "data": {
      "text/plain": [
       "'\"test\"\\n'"
      ]
     },
     "execution_count": 94,
     "metadata": {},
     "output_type": "execute_result"
    }
   ],
   "source": [
    "r.content.decode()"
   ]
  },
  {
   "cell_type": "code",
   "execution_count": 17,
   "id": "109d288c-c54e-4479-9728-2a9c6039aeb9",
   "metadata": {},
   "outputs": [],
   "source": [
    "import torch\n",
    "\n",
    "model_fn = lambda: torch.nn.Sequential(\n",
    "    torch.nn.Linear(4, 8),\n",
    "    torch.nn.ReLU(),\n",
    "    torch.nn.Linear(8, 4))"
   ]
  },
  {
   "cell_type": "code",
   "execution_count": 18,
   "id": "7d992fa3-0683-4507-9ff0-12bd5da6f142",
   "metadata": {},
   "outputs": [],
   "source": [
    "model = model_fn()\n",
    "torch.save(model.state_dict(), \"/Users/sergmiller/Downloads/test_state.pth\")"
   ]
  },
  {
   "cell_type": "code",
   "execution_count": 87,
   "id": "8db99cc6-a14f-46f0-9d21-7edf56c912fb",
   "metadata": {
    "editable": true,
    "slideshow": {
     "slide_type": ""
    },
    "tags": []
   },
   "outputs": [
    {
     "name": "stdout",
     "output_type": "stream",
     "text": [
      "QmZG8N5mxLiNCzE8Vnvtcr7UXbSVMQnHw4oCauJzpRkPM6\n",
      "QmZPLDcxYVxwTwpKU36xmmJ6kiFiVL5BqWjf6K5bWfLD8n\n",
      "QmW3Tar6cPjufwkgAfZrfsRRWM7RJSqCxiRJNPfv6X54Uy\n",
      "QmaufME9pY9m416Z5UW5XFMaNyykGLmJnoe78oFr86TFcP\n",
      "QmZRLQqeazAjcu3PMdJstq2hN1vC8oMrEMBS3eGiHcnP5E\n"
     ]
    }
   ],
   "source": [
    "import ipfs_api\n",
    "\n",
    "N = 5\n",
    "for i in range(N):\n",
    "    model = model_fn()\n",
    "    torch.save(model.state_dict(), \"/Users/sergmiller/Downloads/test_state.pth\")\n",
    "    r = ipfs_api.http_client.add(\"/Users/sergmiller/Downloads/test_state.pth\")\n",
    "    print(r.as_json()[\"Hash\"])"
   ]
  },
  {
   "cell_type": "code",
   "execution_count": 289,
   "id": "a0251605-94ef-4167-9dde-fb7afb0fa9f3",
   "metadata": {
    "editable": true,
    "slideshow": {
     "slide_type": ""
    },
    "tags": []
   },
   "outputs": [],
   "source": [
    "# client = ipfs_api.ipfshttpclient.Client('http://34.32.233.93:5001', 'api/v0')"
   ]
  },
  {
   "cell_type": "code",
   "execution_count": 291,
   "id": "e861206d-0195-4f74-a1dc-264a59d0d295",
   "metadata": {},
   "outputs": [],
   "source": [
    "# ipfs_api.__dict__"
   ]
  },
  {
   "cell_type": "code",
   "execution_count": 273,
   "id": "e1c3e28b-cc9b-4f38-b4be-18079f4de2cb",
   "metadata": {},
   "outputs": [
    {
     "name": "stderr",
     "output_type": "stream",
     "text": [
      "/opt/homebrew/lib/python3.12/site-packages/urllib3/poolmanager.py:316: DeprecationWarning: The 'strict' parameter is no longer needed on Python 3+. This will raise an error in urllib3 v2.1.0.\n",
      "  warnings.warn(\n",
      "/opt/homebrew/Cellar/python@3.12/3.12.3/Frameworks/Python.framework/Versions/3.12/lib/python3.12/tarfile.py:2221: DeprecationWarning: Python 3.14 will, by default, filter extracted tar archives and reject files or modify their metadata. Use the filter argument to control this behavior.\n",
      "  warnings.warn(\n"
     ]
    },
    {
     "data": {
      "text/plain": [
       "OrderedDict([('0.weight',\n",
       "              tensor([[-0.0738,  0.0869,  0.3928, -0.3066],\n",
       "                      [ 0.2424,  0.3876, -0.1660, -0.4336],\n",
       "                      [ 0.1969, -0.4670,  0.3551,  0.0669],\n",
       "                      [-0.3318,  0.2161, -0.0250, -0.1481],\n",
       "                      [-0.4831,  0.2456,  0.3855, -0.1747],\n",
       "                      [ 0.4800, -0.4479,  0.4367,  0.0232],\n",
       "                      [ 0.2181,  0.3120,  0.1250,  0.3864],\n",
       "                      [-0.2516, -0.0652,  0.0953, -0.1061]])),\n",
       "             ('0.bias',\n",
       "              tensor([-0.0860, -0.1118, -0.0499, -0.0563, -0.3263,  0.4066,  0.4809, -0.1290])),\n",
       "             ('2.weight',\n",
       "              tensor([[ 0.1098,  0.1189, -0.3490,  0.2884, -0.2645,  0.1749, -0.2509, -0.0190],\n",
       "                      [-0.2114, -0.2610,  0.0658, -0.3206, -0.2349,  0.0206, -0.0151,  0.1680],\n",
       "                      [-0.1545, -0.1870,  0.2346, -0.2231,  0.0326, -0.2143, -0.3130,  0.0949],\n",
       "                      [-0.1196, -0.1716,  0.3493,  0.2558,  0.1881,  0.0762, -0.2476, -0.3327]])),\n",
       "             ('2.bias', tensor([-0.0853, -0.2996, -0.2258, -0.0642]))])"
      ]
     },
     "execution_count": 273,
     "metadata": {},
     "output_type": "execute_result"
    }
   ],
   "source": [
    "import ipfs_api\n",
    "ipfs_hash = \"QmZG8N5mxLiNCzE8Vnvtcr7UXbSVMQnHw4oCauJzpRkPM6\"\n",
    "ipfs_api.http_client.get(ipfs_hash, \"data\")\n",
    "state_dict = torch.load(\"data/\" + ipfs_hash)\n",
    "state_dict"
   ]
  },
  {
   "cell_type": "code",
   "execution_count": null,
   "id": "478633ce-99c1-4681-87e7-18075b71aa37",
   "metadata": {},
   "outputs": [],
   "source": [
    "import ipfsApi\n",
    "api = ipfsApi.Client('127.0.0.1', 5001)\n",
    "res = api.add('test.txt')"
   ]
  },
  {
   "cell_type": "code",
   "execution_count": 278,
   "id": "0544e75e-e758-4375-b53d-66605dd6b725",
   "metadata": {},
   "outputs": [],
   "source": [
    "import ipfs_api"
   ]
  },
  {
   "cell_type": "code",
   "execution_count": 85,
   "id": "86b7669e-32e2-4ec9-9bd9-2c23f34a75fa",
   "metadata": {
    "scrolled": true
   },
   "outputs": [
    {
     "data": {
      "text/plain": [
       "<All keys matched successfully>"
      ]
     },
     "execution_count": 85,
     "metadata": {},
     "output_type": "execute_result"
    }
   ],
   "source": [
    "model.load_state_dict(torch.load(r.as_json()[\"Hash\"]))"
   ]
  },
  {
   "cell_type": "code",
   "execution_count": 46,
   "id": "633ecec1-8379-481c-8097-454dca7d294a",
   "metadata": {},
   "outputs": [
    {
     "data": {
      "text/plain": [
       "Sequential(\n",
       "  (0): Linear(in_features=4, out_features=8, bias=True)\n",
       "  (1): ReLU()\n",
       "  (2): Linear(in_features=8, out_features=4, bias=True)\n",
       ")"
      ]
     },
     "execution_count": 46,
     "metadata": {},
     "output_type": "execute_result"
    }
   ],
   "source": [
    "model"
   ]
  },
  {
   "cell_type": "code",
   "execution_count": 259,
   "id": "48e8589b-9451-46b9-a4a1-3f4434265028",
   "metadata": {
    "editable": true,
    "slideshow": {
     "slide_type": ""
    },
    "tags": []
   },
   "outputs": [
    {
     "name": "stderr",
     "output_type": "stream",
     "text": [
      "/var/folders/t7/03tm_x3j5_g71h1nsvq1wv780000gq/T/ipykernel_58312/397916585.py:3: ResourceWarning: unclosed <socket.socket fd=90, family=30, type=1, proto=6, laddr=('::1', 53258, 0, 0), raddr=('::1', 8000, 0, 0)>\n",
      "  sg = Subgrounds()\n",
      "ResourceWarning: Enable tracemalloc to get the object allocation traceback\n"
     ]
    }
   ],
   "source": [
    "from subgrounds import Subgrounds\n",
    "\n",
    "sg = Subgrounds()\n",
    "\n",
    "# Load the subgraph\n",
    "sub = sg.load_subgraph(\n",
    "    \"http://localhost:8000/subgraphs/name/unstoppable-models\")"
   ]
  },
  {
   "cell_type": "code",
   "execution_count": 260,
   "id": "9d8ff0a8-eb8c-40aa-a65c-6c3c9a6a505f",
   "metadata": {
    "scrolled": true
   },
   "outputs": [],
   "source": [
    "# sub"
   ]
  },
  {
   "cell_type": "code",
   "execution_count": 261,
   "id": "9dd550fa-0909-4bad-a07b-f67e7b5f0df2",
   "metadata": {
    "editable": true,
    "slideshow": {
     "slide_type": ""
    },
    "tags": []
   },
   "outputs": [],
   "source": [
    "states = sg.query_df(sub.Query.modelStates())"
   ]
  },
  {
   "cell_type": "code",
   "execution_count": 262,
   "id": "ccbefd8a-463f-412f-9306-06670740ec65",
   "metadata": {
    "editable": true,
    "slideshow": {
     "slide_type": ""
    },
    "tags": []
   },
   "outputs": [
    {
     "data": {
      "text/plain": [
       "0     False\n",
       "1     False\n",
       "2     False\n",
       "3     False\n",
       "4     False\n",
       "5     False\n",
       "6     False\n",
       "7     False\n",
       "8     False\n",
       "9     False\n",
       "10    False\n",
       "11    False\n",
       "12    False\n",
       "13    False\n",
       "14    False\n",
       "15    False\n",
       "16    False\n",
       "17    False\n",
       "18    False\n",
       "19    False\n",
       "20    False\n",
       "21    False\n",
       "22    False\n",
       "23    False\n",
       "24    False\n",
       "25    False\n",
       "26    False\n",
       "27    False\n",
       "28    False\n",
       "29    False\n",
       "30    False\n",
       "31    False\n",
       "32    False\n",
       "33    False\n",
       "34    False\n",
       "35    False\n",
       "36    False\n",
       "37    False\n",
       "38    False\n",
       "39    False\n",
       "40    False\n",
       "41    False\n",
       "42    False\n",
       "43    False\n",
       "44    False\n",
       "45    False\n",
       "Name: modelStates_deleted, dtype: bool"
      ]
     },
     "execution_count": 262,
     "metadata": {},
     "output_type": "execute_result"
    }
   ],
   "source": [
    "states[\"modelStates_deleted\"]"
   ]
  },
  {
   "cell_type": "code",
   "execution_count": 263,
   "id": "dd88674a-424d-45ad-b01b-d63dc7fd5ce3",
   "metadata": {},
   "outputs": [
    {
     "data": {
      "text/html": [
       "<div>\n",
       "<style scoped>\n",
       "    .dataframe tbody tr th:only-of-type {\n",
       "        vertical-align: middle;\n",
       "    }\n",
       "\n",
       "    .dataframe tbody tr th {\n",
       "        vertical-align: top;\n",
       "    }\n",
       "\n",
       "    .dataframe thead th {\n",
       "        text-align: right;\n",
       "    }\n",
       "</style>\n",
       "<table border=\"1\" class=\"dataframe\">\n",
       "  <thead>\n",
       "    <tr style=\"text-align: right;\">\n",
       "      <th></th>\n",
       "      <th>modelStates_id</th>\n",
       "      <th>modelStates_url</th>\n",
       "      <th>modelStates_submittedAt</th>\n",
       "      <th>modelStates_suspectedAt</th>\n",
       "      <th>modelStates_suspectedBy</th>\n",
       "      <th>modelStates_learningPeriod_id</th>\n",
       "      <th>modelStates_deleted</th>\n",
       "    </tr>\n",
       "  </thead>\n",
       "  <tbody>\n",
       "    <tr>\n",
       "      <th>0</th>\n",
       "      <td>QmPH444npVYr267vtbB5H9aJYdi9DfmbdW8GLSQAzSHeg1</td>\n",
       "      <td>QmPH444npVYr267vtbB5H9aJYdi9DfmbdW8GLSQAzSHeg1</td>\n",
       "      <td>1717291399</td>\n",
       "      <td>None</td>\n",
       "      <td>None</td>\n",
       "      <td>0x2e</td>\n",
       "      <td>False</td>\n",
       "    </tr>\n",
       "    <tr>\n",
       "      <th>1</th>\n",
       "      <td>QmPrR7rTJSmnTU9owBfnXJMEnuoacPRo1bFXhCemNjauNi</td>\n",
       "      <td>QmPrR7rTJSmnTU9owBfnXJMEnuoacPRo1bFXhCemNjauNi</td>\n",
       "      <td>1717291014</td>\n",
       "      <td>None</td>\n",
       "      <td>None</td>\n",
       "      <td>0xb</td>\n",
       "      <td>False</td>\n",
       "    </tr>\n",
       "    <tr>\n",
       "      <th>2</th>\n",
       "      <td>QmQ9JLGLbgGNjQyMz3TgEQJhJ5rH8zGFz85KrzKKE5sSPQ</td>\n",
       "      <td>QmQ9JLGLbgGNjQyMz3TgEQJhJ5rH8zGFz85KrzKKE5sSPQ</td>\n",
       "      <td>1717291040</td>\n",
       "      <td>None</td>\n",
       "      <td>None</td>\n",
       "      <td>0xf</td>\n",
       "      <td>False</td>\n",
       "    </tr>\n",
       "    <tr>\n",
       "      <th>3</th>\n",
       "      <td>QmQAtdYT3iVbEVzeTy84imH7WhwMixYRycj1wQYewz8PRF</td>\n",
       "      <td>QmQAtdYT3iVbEVzeTy84imH7WhwMixYRycj1wQYewz8PRF</td>\n",
       "      <td>1717291089</td>\n",
       "      <td>None</td>\n",
       "      <td>None</td>\n",
       "      <td>0x16</td>\n",
       "      <td>False</td>\n",
       "    </tr>\n",
       "    <tr>\n",
       "      <th>4</th>\n",
       "      <td>QmQJdnR8AD4cwRGuGid75AHevqos7KaJHn1dwMs3eHpecD</td>\n",
       "      <td>QmQJdnR8AD4cwRGuGid75AHevqos7KaJHn1dwMs3eHpecD</td>\n",
       "      <td>1717291321</td>\n",
       "      <td>None</td>\n",
       "      <td>None</td>\n",
       "      <td>0x25</td>\n",
       "      <td>False</td>\n",
       "    </tr>\n",
       "    <tr>\n",
       "      <th>5</th>\n",
       "      <td>QmR3Tzx2FJEMDkHRyGzb42DBxamJjUPJuBExS6mWKHa7W3</td>\n",
       "      <td>QmR3Tzx2FJEMDkHRyGzb42DBxamJjUPJuBExS6mWKHa7W3</td>\n",
       "      <td>1717291033</td>\n",
       "      <td>None</td>\n",
       "      <td>None</td>\n",
       "      <td>0xe</td>\n",
       "      <td>False</td>\n",
       "    </tr>\n",
       "    <tr>\n",
       "      <th>6</th>\n",
       "      <td>QmR9ZFPyfXve4hyrciBa1FPjtwUGQs6QmCeE82NoPKG9Gt</td>\n",
       "      <td>QmR9ZFPyfXve4hyrciBa1FPjtwUGQs6QmCeE82NoPKG9Gt</td>\n",
       "      <td>1717291020</td>\n",
       "      <td>None</td>\n",
       "      <td>None</td>\n",
       "      <td>0xc</td>\n",
       "      <td>False</td>\n",
       "    </tr>\n",
       "    <tr>\n",
       "      <th>7</th>\n",
       "      <td>QmRDeEST44FiRRtUXGsbN7FcsgmfxXMzqnMSjAh4D1dHmD</td>\n",
       "      <td>QmRDeEST44FiRRtUXGsbN7FcsgmfxXMzqnMSjAh4D1dHmD</td>\n",
       "      <td>1717291134</td>\n",
       "      <td>None</td>\n",
       "      <td>None</td>\n",
       "      <td>0x1c</td>\n",
       "      <td>False</td>\n",
       "    </tr>\n",
       "    <tr>\n",
       "      <th>8</th>\n",
       "      <td>QmRcMasTRj2m3AHFbVMkS8nrPRpR4NzNCS4GHphptJDbMm</td>\n",
       "      <td>QmRcMasTRj2m3AHFbVMkS8nrPRpR4NzNCS4GHphptJDbMm</td>\n",
       "      <td>1717291304</td>\n",
       "      <td>None</td>\n",
       "      <td>None</td>\n",
       "      <td>0x23</td>\n",
       "      <td>False</td>\n",
       "    </tr>\n",
       "    <tr>\n",
       "      <th>9</th>\n",
       "      <td>QmSESgr1hUB24UH7qBa5FSdqHENWYi4rtHGbdWVFCifENc</td>\n",
       "      <td>QmSESgr1hUB24UH7qBa5FSdqHENWYi4rtHGbdWVFCifENc</td>\n",
       "      <td>1717291296</td>\n",
       "      <td>None</td>\n",
       "      <td>None</td>\n",
       "      <td>0x22</td>\n",
       "      <td>False</td>\n",
       "    </tr>\n",
       "    <tr>\n",
       "      <th>10</th>\n",
       "      <td>QmSWTXEZwoLQyxsTEP9feitGqhjupuSTSxJZ9h2A7yRHQA</td>\n",
       "      <td>QmSWTXEZwoLQyxsTEP9feitGqhjupuSTSxJZ9h2A7yRHQA</td>\n",
       "      <td>1717291111</td>\n",
       "      <td>None</td>\n",
       "      <td>None</td>\n",
       "      <td>0x19</td>\n",
       "      <td>False</td>\n",
       "    </tr>\n",
       "    <tr>\n",
       "      <th>11</th>\n",
       "      <td>QmSgkQTJeBQzSMHztx1BeFvLPnGT81sg84GgzCEzsvCQBF</td>\n",
       "      <td>QmSgkQTJeBQzSMHztx1BeFvLPnGT81sg84GgzCEzsvCQBF</td>\n",
       "      <td>1717291103</td>\n",
       "      <td>None</td>\n",
       "      <td>None</td>\n",
       "      <td>0x18</td>\n",
       "      <td>False</td>\n",
       "    </tr>\n",
       "    <tr>\n",
       "      <th>12</th>\n",
       "      <td>QmSws138dy1FQPQnrJhJHkLJqSrnKiPT31bP5Q4xGGgQBV</td>\n",
       "      <td>QmSws138dy1FQPQnrJhJHkLJqSrnKiPT31bP5Q4xGGgQBV</td>\n",
       "      <td>1717291007</td>\n",
       "      <td>None</td>\n",
       "      <td>None</td>\n",
       "      <td>0xa</td>\n",
       "      <td>False</td>\n",
       "    </tr>\n",
       "    <tr>\n",
       "      <th>13</th>\n",
       "      <td>QmSyvV9DBQ3DMgbfpJmoZgUxFJEAFhuQLybsnjGbc1Vu9v</td>\n",
       "      <td>QmSyvV9DBQ3DMgbfpJmoZgUxFJEAFhuQLybsnjGbc1Vu9v</td>\n",
       "      <td>1717290983</td>\n",
       "      <td>None</td>\n",
       "      <td>None</td>\n",
       "      <td>0x6</td>\n",
       "      <td>False</td>\n",
       "    </tr>\n",
       "    <tr>\n",
       "      <th>14</th>\n",
       "      <td>QmTbF9A3FMZaDrvVKWZbujtfmTmMfbttXZPkuhsNUsKt6q</td>\n",
       "      <td>QmTbF9A3FMZaDrvVKWZbujtfmTmMfbttXZPkuhsNUsKt6q</td>\n",
       "      <td>1717291264</td>\n",
       "      <td>None</td>\n",
       "      <td>None</td>\n",
       "      <td>0x1e</td>\n",
       "      <td>False</td>\n",
       "    </tr>\n",
       "    <tr>\n",
       "      <th>15</th>\n",
       "      <td>QmU2Qzp3LNRArgMnU9TMeNGSattQswZXSeRfPXChrjTxiS</td>\n",
       "      <td>QmU2Qzp3LNRArgMnU9TMeNGSattQswZXSeRfPXChrjTxiS</td>\n",
       "      <td>1717291256</td>\n",
       "      <td>None</td>\n",
       "      <td>None</td>\n",
       "      <td>0x1d</td>\n",
       "      <td>False</td>\n",
       "    </tr>\n",
       "    <tr>\n",
       "      <th>16</th>\n",
       "      <td>QmV1BQ1dWM3yt5DF8SRZUSaifutPqofJ1hbzMVfAP1nKuo</td>\n",
       "      <td>QmV1BQ1dWM3yt5DF8SRZUSaifutPqofJ1hbzMVfAP1nKuo</td>\n",
       "      <td>1717291382</td>\n",
       "      <td>None</td>\n",
       "      <td>None</td>\n",
       "      <td>0x2c</td>\n",
       "      <td>False</td>\n",
       "    </tr>\n",
       "    <tr>\n",
       "      <th>17</th>\n",
       "      <td>QmVjVioXuCMXaLeF6pHz9ZRFadGddMdSB2dnFVpW4b26jA</td>\n",
       "      <td>QmVjVioXuCMXaLeF6pHz9ZRFadGddMdSB2dnFVpW4b26jA</td>\n",
       "      <td>1717290989</td>\n",
       "      <td>None</td>\n",
       "      <td>None</td>\n",
       "      <td>0x7</td>\n",
       "      <td>False</td>\n",
       "    </tr>\n",
       "    <tr>\n",
       "      <th>18</th>\n",
       "      <td>QmVtqvscABkxF41wgfEJx1dS3yYuDbQLh3EucqwySY4WZ2</td>\n",
       "      <td>QmVtqvscABkxF41wgfEJx1dS3yYuDbQLh3EucqwySY4WZ2</td>\n",
       "      <td>1717291027</td>\n",
       "      <td>None</td>\n",
       "      <td>None</td>\n",
       "      <td>0xd</td>\n",
       "      <td>False</td>\n",
       "    </tr>\n",
       "    <tr>\n",
       "      <th>19</th>\n",
       "      <td>QmXGZgAZnmKaW1TvMF3Kf4T6unMo7gfpUgpKa91zuve7ZT</td>\n",
       "      <td>QmXGZgAZnmKaW1TvMF3Kf4T6unMo7gfpUgpKa91zuve7ZT</td>\n",
       "      <td>1717291001</td>\n",
       "      <td>None</td>\n",
       "      <td>None</td>\n",
       "      <td>0x9</td>\n",
       "      <td>False</td>\n",
       "    </tr>\n",
       "    <tr>\n",
       "      <th>20</th>\n",
       "      <td>QmXapc2RVbEFPnocYPBMoxJ99CwcX32kK8bohQzKtuYuNa</td>\n",
       "      <td>QmXapc2RVbEFPnocYPBMoxJ99CwcX32kK8bohQzKtuYuNa</td>\n",
       "      <td>1717292980</td>\n",
       "      <td>None</td>\n",
       "      <td>None</td>\n",
       "      <td>0x68</td>\n",
       "      <td>False</td>\n",
       "    </tr>\n",
       "    <tr>\n",
       "      <th>21</th>\n",
       "      <td>QmXcyL7c4BVcvnWdrCpof4uN8vni6uJbsNf7AXbg4eYf8L</td>\n",
       "      <td>QmXcyL7c4BVcvnWdrCpof4uN8vni6uJbsNf7AXbg4eYf8L</td>\n",
       "      <td>1717291053</td>\n",
       "      <td>None</td>\n",
       "      <td>None</td>\n",
       "      <td>0x11</td>\n",
       "      <td>False</td>\n",
       "    </tr>\n",
       "    <tr>\n",
       "      <th>22</th>\n",
       "      <td>QmYFH5kWo9HWHn3JJT3tayB9EovvNZHzymHhTyUDtPkFwU</td>\n",
       "      <td>QmYFH5kWo9HWHn3JJT3tayB9EovvNZHzymHhTyUDtPkFwU</td>\n",
       "      <td>1717291409</td>\n",
       "      <td>None</td>\n",
       "      <td>None</td>\n",
       "      <td>0x2f</td>\n",
       "      <td>False</td>\n",
       "    </tr>\n",
       "    <tr>\n",
       "      <th>23</th>\n",
       "      <td>QmYKkmNFkEMGHDGNJvS44qJsXhrqBNWymgaUfoekzraaAM</td>\n",
       "      <td>QmYKkmNFkEMGHDGNJvS44qJsXhrqBNWymgaUfoekzraaAM</td>\n",
       "      <td>1717291126</td>\n",
       "      <td>None</td>\n",
       "      <td>None</td>\n",
       "      <td>0x1b</td>\n",
       "      <td>False</td>\n",
       "    </tr>\n",
       "    <tr>\n",
       "      <th>24</th>\n",
       "      <td>QmYa82SNcfSD8u26vLdguhTPfiJ312H4NKWsK5Yzjm2Kzw</td>\n",
       "      <td>QmYa82SNcfSD8u26vLdguhTPfiJ312H4NKWsK5Yzjm2Kzw</td>\n",
       "      <td>1717291075</td>\n",
       "      <td>None</td>\n",
       "      <td>None</td>\n",
       "      <td>0x14</td>\n",
       "      <td>False</td>\n",
       "    </tr>\n",
       "    <tr>\n",
       "      <th>25</th>\n",
       "      <td>QmZ3GEtCfgZ6Vsf5RLH27uGvPfrWtZeUYwJjsEmye8U8XL</td>\n",
       "      <td>QmZ3GEtCfgZ6Vsf5RLH27uGvPfrWtZeUYwJjsEmye8U8XL</td>\n",
       "      <td>1717291329</td>\n",
       "      <td>None</td>\n",
       "      <td>None</td>\n",
       "      <td>0x26</td>\n",
       "      <td>False</td>\n",
       "    </tr>\n",
       "    <tr>\n",
       "      <th>26</th>\n",
       "      <td>QmZG8N5mxLiNCzE8Vnvtcr7UXbSVMQnHw4oCauJzpRkPM6</td>\n",
       "      <td>QmZG8N5mxLiNCzE8Vnvtcr7UXbSVMQnHw4oCauJzpRkPM6</td>\n",
       "      <td>1717290546</td>\n",
       "      <td>None</td>\n",
       "      <td>None</td>\n",
       "      <td>0x0</td>\n",
       "      <td>False</td>\n",
       "    </tr>\n",
       "    <tr>\n",
       "      <th>27</th>\n",
       "      <td>QmZRLQqeazAjcu3PMdJstq2hN1vC8oMrEMBS3eGiHcnP5E</td>\n",
       "      <td>QmZRLQqeazAjcu3PMdJstq2hN1vC8oMrEMBS3eGiHcnP5E</td>\n",
       "      <td>1717293247</td>\n",
       "      <td>None</td>\n",
       "      <td>None</td>\n",
       "      <td>0x69</td>\n",
       "      <td>False</td>\n",
       "    </tr>\n",
       "    <tr>\n",
       "      <th>28</th>\n",
       "      <td>QmZydneRGxz85RkkX4XxCQ69n6vfgc84evcw1ZJ9DoKUxD</td>\n",
       "      <td>QmZydneRGxz85RkkX4XxCQ69n6vfgc84evcw1ZJ9DoKUxD</td>\n",
       "      <td>1717290995</td>\n",
       "      <td>None</td>\n",
       "      <td>None</td>\n",
       "      <td>0x8</td>\n",
       "      <td>False</td>\n",
       "    </tr>\n",
       "    <tr>\n",
       "      <th>29</th>\n",
       "      <td>QmaQmJaW3uQaXJ3R4355oG1Kxc48RKumH2bmFMi7Ny6z9E</td>\n",
       "      <td>QmaQmJaW3uQaXJ3R4355oG1Kxc48RKumH2bmFMi7Ny6z9E</td>\n",
       "      <td>1717291312</td>\n",
       "      <td>None</td>\n",
       "      <td>None</td>\n",
       "      <td>0x24</td>\n",
       "      <td>False</td>\n",
       "    </tr>\n",
       "    <tr>\n",
       "      <th>30</th>\n",
       "      <td>QmahkHGvTDJMbcp4Qw7H7FbxQjyyaF9uygDLceZkGicYjw</td>\n",
       "      <td>QmahkHGvTDJMbcp4Qw7H7FbxQjyyaF9uygDLceZkGicYjw</td>\n",
       "      <td>1717291364</td>\n",
       "      <td>None</td>\n",
       "      <td>None</td>\n",
       "      <td>0x2a</td>\n",
       "      <td>False</td>\n",
       "    </tr>\n",
       "    <tr>\n",
       "      <th>31</th>\n",
       "      <td>QmbWVZ3K3aFvXz5izbo5s1kZYaww3dDEDM5x2iH1dfPd6F</td>\n",
       "      <td>QmbWVZ3K3aFvXz5izbo5s1kZYaww3dDEDM5x2iH1dfPd6F</td>\n",
       "      <td>1717291272</td>\n",
       "      <td>None</td>\n",
       "      <td>None</td>\n",
       "      <td>0x1f</td>\n",
       "      <td>False</td>\n",
       "    </tr>\n",
       "    <tr>\n",
       "      <th>32</th>\n",
       "      <td>Qmbt41Yfzj98fk8NzzdQGrh6nyFFs8mT2YmMDDJDpQKDYB</td>\n",
       "      <td>Qmbt41Yfzj98fk8NzzdQGrh6nyFFs8mT2YmMDDJDpQKDYB</td>\n",
       "      <td>1717291118</td>\n",
       "      <td>None</td>\n",
       "      <td>None</td>\n",
       "      <td>0x1a</td>\n",
       "      <td>False</td>\n",
       "    </tr>\n",
       "    <tr>\n",
       "      <th>33</th>\n",
       "      <td>QmbvhpvjYng9x3Bke125QTHr2mq3EEy2ybDgqK1ENGLGH6</td>\n",
       "      <td>QmbvhpvjYng9x3Bke125QTHr2mq3EEy2ybDgqK1ENGLGH6</td>\n",
       "      <td>1717291355</td>\n",
       "      <td>None</td>\n",
       "      <td>None</td>\n",
       "      <td>0x29</td>\n",
       "      <td>False</td>\n",
       "    </tr>\n",
       "    <tr>\n",
       "      <th>34</th>\n",
       "      <td>Qmc9DCwcDYUyobHC3XT2jBw3RvUeoP9i6pLyQfnSkbEr6r</td>\n",
       "      <td>Qmc9DCwcDYUyobHC3XT2jBw3RvUeoP9i6pLyQfnSkbEr6r</td>\n",
       "      <td>1717290977</td>\n",
       "      <td>None</td>\n",
       "      <td>None</td>\n",
       "      <td>0x5</td>\n",
       "      <td>False</td>\n",
       "    </tr>\n",
       "    <tr>\n",
       "      <th>35</th>\n",
       "      <td>QmcGQsNW3bxvwDTtq4LHtS1awyEjeYMyMz6HoD2kMU5syy</td>\n",
       "      <td>QmcGQsNW3bxvwDTtq4LHtS1awyEjeYMyMz6HoD2kMU5syy</td>\n",
       "      <td>1717291060</td>\n",
       "      <td>None</td>\n",
       "      <td>None</td>\n",
       "      <td>0x12</td>\n",
       "      <td>False</td>\n",
       "    </tr>\n",
       "    <tr>\n",
       "      <th>36</th>\n",
       "      <td>QmcUBMMRuFnHxcmKdihh9zrCx4tkmUEPAztnUmfUtidnHe</td>\n",
       "      <td>QmcUBMMRuFnHxcmKdihh9zrCx4tkmUEPAztnUmfUtidnHe</td>\n",
       "      <td>1717291346</td>\n",
       "      <td>None</td>\n",
       "      <td>None</td>\n",
       "      <td>0x28</td>\n",
       "      <td>False</td>\n",
       "    </tr>\n",
       "    <tr>\n",
       "      <th>37</th>\n",
       "      <td>QmchVXiZY7sAhdu1Tg9Sh8GHrPNrphTC6dDhtXmMX3EbYm</td>\n",
       "      <td>QmchVXiZY7sAhdu1Tg9Sh8GHrPNrphTC6dDhtXmMX3EbYm</td>\n",
       "      <td>1717291096</td>\n",
       "      <td>None</td>\n",
       "      <td>None</td>\n",
       "      <td>0x17</td>\n",
       "      <td>False</td>\n",
       "    </tr>\n",
       "    <tr>\n",
       "      <th>38</th>\n",
       "      <td>QmcmmKNw7krjUSgPbmvBfgixQ6fZDq18KZg6W4pSHLHbKW</td>\n",
       "      <td>QmcmmKNw7krjUSgPbmvBfgixQ6fZDq18KZg6W4pSHLHbKW</td>\n",
       "      <td>1717291391</td>\n",
       "      <td>None</td>\n",
       "      <td>None</td>\n",
       "      <td>0x2d</td>\n",
       "      <td>False</td>\n",
       "    </tr>\n",
       "    <tr>\n",
       "      <th>39</th>\n",
       "      <td>Qmd4m8TLtKxVctFS6ZhMbejXtvkGzzmWjNAYZVyfXSfAE6</td>\n",
       "      <td>Qmd4m8TLtKxVctFS6ZhMbejXtvkGzzmWjNAYZVyfXSfAE6</td>\n",
       "      <td>1717291372</td>\n",
       "      <td>None</td>\n",
       "      <td>None</td>\n",
       "      <td>0x2b</td>\n",
       "      <td>False</td>\n",
       "    </tr>\n",
       "    <tr>\n",
       "      <th>40</th>\n",
       "      <td>QmdcaX8qeBe7SbR6qyadpSeRzYd57GhCM3EPevcscFmE3D</td>\n",
       "      <td>QmdcaX8qeBe7SbR6qyadpSeRzYd57GhCM3EPevcscFmE3D</td>\n",
       "      <td>1717291287</td>\n",
       "      <td>None</td>\n",
       "      <td>None</td>\n",
       "      <td>0x21</td>\n",
       "      <td>False</td>\n",
       "    </tr>\n",
       "    <tr>\n",
       "      <th>41</th>\n",
       "      <td>QmeDEQbdAvQMrfMfRXQBcGhSJ3ZyuSC7VcZmi6uSpfLv3U</td>\n",
       "      <td>QmeDEQbdAvQMrfMfRXQBcGhSJ3ZyuSC7VcZmi6uSpfLv3U</td>\n",
       "      <td>1717291067</td>\n",
       "      <td>None</td>\n",
       "      <td>None</td>\n",
       "      <td>0x13</td>\n",
       "      <td>False</td>\n",
       "    </tr>\n",
       "    <tr>\n",
       "      <th>42</th>\n",
       "      <td>QmeKqMSx5uDbHjthUYabtKroe1KZEgm3b7fBnRZVMis3cE</td>\n",
       "      <td>QmeKqMSx5uDbHjthUYabtKroe1KZEgm3b7fBnRZVMis3cE</td>\n",
       "      <td>1717291338</td>\n",
       "      <td>None</td>\n",
       "      <td>None</td>\n",
       "      <td>0x27</td>\n",
       "      <td>False</td>\n",
       "    </tr>\n",
       "    <tr>\n",
       "      <th>43</th>\n",
       "      <td>QmfB5g5hUpMCLKNvvAqGGNQd1V49bpKdbNfzCaThePEh9G</td>\n",
       "      <td>QmfB5g5hUpMCLKNvvAqGGNQd1V49bpKdbNfzCaThePEh9G</td>\n",
       "      <td>1717291047</td>\n",
       "      <td>None</td>\n",
       "      <td>None</td>\n",
       "      <td>0x10</td>\n",
       "      <td>False</td>\n",
       "    </tr>\n",
       "    <tr>\n",
       "      <th>44</th>\n",
       "      <td>QmfLqnN7L7nnuZvhtD2qC1wy3qNJGG8Nouw5ojawMG8tG1</td>\n",
       "      <td>QmfLqnN7L7nnuZvhtD2qC1wy3qNJGG8Nouw5ojawMG8tG1</td>\n",
       "      <td>1717291082</td>\n",
       "      <td>None</td>\n",
       "      <td>None</td>\n",
       "      <td>0x15</td>\n",
       "      <td>False</td>\n",
       "    </tr>\n",
       "    <tr>\n",
       "      <th>45</th>\n",
       "      <td>QmfWXogKgSSEHWVngRPgGjKVHodHzPhPsUwDWV2JWyCLJj</td>\n",
       "      <td>QmfWXogKgSSEHWVngRPgGjKVHodHzPhPsUwDWV2JWyCLJj</td>\n",
       "      <td>1717291279</td>\n",
       "      <td>None</td>\n",
       "      <td>None</td>\n",
       "      <td>0x20</td>\n",
       "      <td>False</td>\n",
       "    </tr>\n",
       "  </tbody>\n",
       "</table>\n",
       "</div>"
      ],
      "text/plain": [
       "                                    modelStates_id  \\\n",
       "0   QmPH444npVYr267vtbB5H9aJYdi9DfmbdW8GLSQAzSHeg1   \n",
       "1   QmPrR7rTJSmnTU9owBfnXJMEnuoacPRo1bFXhCemNjauNi   \n",
       "2   QmQ9JLGLbgGNjQyMz3TgEQJhJ5rH8zGFz85KrzKKE5sSPQ   \n",
       "3   QmQAtdYT3iVbEVzeTy84imH7WhwMixYRycj1wQYewz8PRF   \n",
       "4   QmQJdnR8AD4cwRGuGid75AHevqos7KaJHn1dwMs3eHpecD   \n",
       "5   QmR3Tzx2FJEMDkHRyGzb42DBxamJjUPJuBExS6mWKHa7W3   \n",
       "6   QmR9ZFPyfXve4hyrciBa1FPjtwUGQs6QmCeE82NoPKG9Gt   \n",
       "7   QmRDeEST44FiRRtUXGsbN7FcsgmfxXMzqnMSjAh4D1dHmD   \n",
       "8   QmRcMasTRj2m3AHFbVMkS8nrPRpR4NzNCS4GHphptJDbMm   \n",
       "9   QmSESgr1hUB24UH7qBa5FSdqHENWYi4rtHGbdWVFCifENc   \n",
       "10  QmSWTXEZwoLQyxsTEP9feitGqhjupuSTSxJZ9h2A7yRHQA   \n",
       "11  QmSgkQTJeBQzSMHztx1BeFvLPnGT81sg84GgzCEzsvCQBF   \n",
       "12  QmSws138dy1FQPQnrJhJHkLJqSrnKiPT31bP5Q4xGGgQBV   \n",
       "13  QmSyvV9DBQ3DMgbfpJmoZgUxFJEAFhuQLybsnjGbc1Vu9v   \n",
       "14  QmTbF9A3FMZaDrvVKWZbujtfmTmMfbttXZPkuhsNUsKt6q   \n",
       "15  QmU2Qzp3LNRArgMnU9TMeNGSattQswZXSeRfPXChrjTxiS   \n",
       "16  QmV1BQ1dWM3yt5DF8SRZUSaifutPqofJ1hbzMVfAP1nKuo   \n",
       "17  QmVjVioXuCMXaLeF6pHz9ZRFadGddMdSB2dnFVpW4b26jA   \n",
       "18  QmVtqvscABkxF41wgfEJx1dS3yYuDbQLh3EucqwySY4WZ2   \n",
       "19  QmXGZgAZnmKaW1TvMF3Kf4T6unMo7gfpUgpKa91zuve7ZT   \n",
       "20  QmXapc2RVbEFPnocYPBMoxJ99CwcX32kK8bohQzKtuYuNa   \n",
       "21  QmXcyL7c4BVcvnWdrCpof4uN8vni6uJbsNf7AXbg4eYf8L   \n",
       "22  QmYFH5kWo9HWHn3JJT3tayB9EovvNZHzymHhTyUDtPkFwU   \n",
       "23  QmYKkmNFkEMGHDGNJvS44qJsXhrqBNWymgaUfoekzraaAM   \n",
       "24  QmYa82SNcfSD8u26vLdguhTPfiJ312H4NKWsK5Yzjm2Kzw   \n",
       "25  QmZ3GEtCfgZ6Vsf5RLH27uGvPfrWtZeUYwJjsEmye8U8XL   \n",
       "26  QmZG8N5mxLiNCzE8Vnvtcr7UXbSVMQnHw4oCauJzpRkPM6   \n",
       "27  QmZRLQqeazAjcu3PMdJstq2hN1vC8oMrEMBS3eGiHcnP5E   \n",
       "28  QmZydneRGxz85RkkX4XxCQ69n6vfgc84evcw1ZJ9DoKUxD   \n",
       "29  QmaQmJaW3uQaXJ3R4355oG1Kxc48RKumH2bmFMi7Ny6z9E   \n",
       "30  QmahkHGvTDJMbcp4Qw7H7FbxQjyyaF9uygDLceZkGicYjw   \n",
       "31  QmbWVZ3K3aFvXz5izbo5s1kZYaww3dDEDM5x2iH1dfPd6F   \n",
       "32  Qmbt41Yfzj98fk8NzzdQGrh6nyFFs8mT2YmMDDJDpQKDYB   \n",
       "33  QmbvhpvjYng9x3Bke125QTHr2mq3EEy2ybDgqK1ENGLGH6   \n",
       "34  Qmc9DCwcDYUyobHC3XT2jBw3RvUeoP9i6pLyQfnSkbEr6r   \n",
       "35  QmcGQsNW3bxvwDTtq4LHtS1awyEjeYMyMz6HoD2kMU5syy   \n",
       "36  QmcUBMMRuFnHxcmKdihh9zrCx4tkmUEPAztnUmfUtidnHe   \n",
       "37  QmchVXiZY7sAhdu1Tg9Sh8GHrPNrphTC6dDhtXmMX3EbYm   \n",
       "38  QmcmmKNw7krjUSgPbmvBfgixQ6fZDq18KZg6W4pSHLHbKW   \n",
       "39  Qmd4m8TLtKxVctFS6ZhMbejXtvkGzzmWjNAYZVyfXSfAE6   \n",
       "40  QmdcaX8qeBe7SbR6qyadpSeRzYd57GhCM3EPevcscFmE3D   \n",
       "41  QmeDEQbdAvQMrfMfRXQBcGhSJ3ZyuSC7VcZmi6uSpfLv3U   \n",
       "42  QmeKqMSx5uDbHjthUYabtKroe1KZEgm3b7fBnRZVMis3cE   \n",
       "43  QmfB5g5hUpMCLKNvvAqGGNQd1V49bpKdbNfzCaThePEh9G   \n",
       "44  QmfLqnN7L7nnuZvhtD2qC1wy3qNJGG8Nouw5ojawMG8tG1   \n",
       "45  QmfWXogKgSSEHWVngRPgGjKVHodHzPhPsUwDWV2JWyCLJj   \n",
       "\n",
       "                                   modelStates_url  modelStates_submittedAt  \\\n",
       "0   QmPH444npVYr267vtbB5H9aJYdi9DfmbdW8GLSQAzSHeg1               1717291399   \n",
       "1   QmPrR7rTJSmnTU9owBfnXJMEnuoacPRo1bFXhCemNjauNi               1717291014   \n",
       "2   QmQ9JLGLbgGNjQyMz3TgEQJhJ5rH8zGFz85KrzKKE5sSPQ               1717291040   \n",
       "3   QmQAtdYT3iVbEVzeTy84imH7WhwMixYRycj1wQYewz8PRF               1717291089   \n",
       "4   QmQJdnR8AD4cwRGuGid75AHevqos7KaJHn1dwMs3eHpecD               1717291321   \n",
       "5   QmR3Tzx2FJEMDkHRyGzb42DBxamJjUPJuBExS6mWKHa7W3               1717291033   \n",
       "6   QmR9ZFPyfXve4hyrciBa1FPjtwUGQs6QmCeE82NoPKG9Gt               1717291020   \n",
       "7   QmRDeEST44FiRRtUXGsbN7FcsgmfxXMzqnMSjAh4D1dHmD               1717291134   \n",
       "8   QmRcMasTRj2m3AHFbVMkS8nrPRpR4NzNCS4GHphptJDbMm               1717291304   \n",
       "9   QmSESgr1hUB24UH7qBa5FSdqHENWYi4rtHGbdWVFCifENc               1717291296   \n",
       "10  QmSWTXEZwoLQyxsTEP9feitGqhjupuSTSxJZ9h2A7yRHQA               1717291111   \n",
       "11  QmSgkQTJeBQzSMHztx1BeFvLPnGT81sg84GgzCEzsvCQBF               1717291103   \n",
       "12  QmSws138dy1FQPQnrJhJHkLJqSrnKiPT31bP5Q4xGGgQBV               1717291007   \n",
       "13  QmSyvV9DBQ3DMgbfpJmoZgUxFJEAFhuQLybsnjGbc1Vu9v               1717290983   \n",
       "14  QmTbF9A3FMZaDrvVKWZbujtfmTmMfbttXZPkuhsNUsKt6q               1717291264   \n",
       "15  QmU2Qzp3LNRArgMnU9TMeNGSattQswZXSeRfPXChrjTxiS               1717291256   \n",
       "16  QmV1BQ1dWM3yt5DF8SRZUSaifutPqofJ1hbzMVfAP1nKuo               1717291382   \n",
       "17  QmVjVioXuCMXaLeF6pHz9ZRFadGddMdSB2dnFVpW4b26jA               1717290989   \n",
       "18  QmVtqvscABkxF41wgfEJx1dS3yYuDbQLh3EucqwySY4WZ2               1717291027   \n",
       "19  QmXGZgAZnmKaW1TvMF3Kf4T6unMo7gfpUgpKa91zuve7ZT               1717291001   \n",
       "20  QmXapc2RVbEFPnocYPBMoxJ99CwcX32kK8bohQzKtuYuNa               1717292980   \n",
       "21  QmXcyL7c4BVcvnWdrCpof4uN8vni6uJbsNf7AXbg4eYf8L               1717291053   \n",
       "22  QmYFH5kWo9HWHn3JJT3tayB9EovvNZHzymHhTyUDtPkFwU               1717291409   \n",
       "23  QmYKkmNFkEMGHDGNJvS44qJsXhrqBNWymgaUfoekzraaAM               1717291126   \n",
       "24  QmYa82SNcfSD8u26vLdguhTPfiJ312H4NKWsK5Yzjm2Kzw               1717291075   \n",
       "25  QmZ3GEtCfgZ6Vsf5RLH27uGvPfrWtZeUYwJjsEmye8U8XL               1717291329   \n",
       "26  QmZG8N5mxLiNCzE8Vnvtcr7UXbSVMQnHw4oCauJzpRkPM6               1717290546   \n",
       "27  QmZRLQqeazAjcu3PMdJstq2hN1vC8oMrEMBS3eGiHcnP5E               1717293247   \n",
       "28  QmZydneRGxz85RkkX4XxCQ69n6vfgc84evcw1ZJ9DoKUxD               1717290995   \n",
       "29  QmaQmJaW3uQaXJ3R4355oG1Kxc48RKumH2bmFMi7Ny6z9E               1717291312   \n",
       "30  QmahkHGvTDJMbcp4Qw7H7FbxQjyyaF9uygDLceZkGicYjw               1717291364   \n",
       "31  QmbWVZ3K3aFvXz5izbo5s1kZYaww3dDEDM5x2iH1dfPd6F               1717291272   \n",
       "32  Qmbt41Yfzj98fk8NzzdQGrh6nyFFs8mT2YmMDDJDpQKDYB               1717291118   \n",
       "33  QmbvhpvjYng9x3Bke125QTHr2mq3EEy2ybDgqK1ENGLGH6               1717291355   \n",
       "34  Qmc9DCwcDYUyobHC3XT2jBw3RvUeoP9i6pLyQfnSkbEr6r               1717290977   \n",
       "35  QmcGQsNW3bxvwDTtq4LHtS1awyEjeYMyMz6HoD2kMU5syy               1717291060   \n",
       "36  QmcUBMMRuFnHxcmKdihh9zrCx4tkmUEPAztnUmfUtidnHe               1717291346   \n",
       "37  QmchVXiZY7sAhdu1Tg9Sh8GHrPNrphTC6dDhtXmMX3EbYm               1717291096   \n",
       "38  QmcmmKNw7krjUSgPbmvBfgixQ6fZDq18KZg6W4pSHLHbKW               1717291391   \n",
       "39  Qmd4m8TLtKxVctFS6ZhMbejXtvkGzzmWjNAYZVyfXSfAE6               1717291372   \n",
       "40  QmdcaX8qeBe7SbR6qyadpSeRzYd57GhCM3EPevcscFmE3D               1717291287   \n",
       "41  QmeDEQbdAvQMrfMfRXQBcGhSJ3ZyuSC7VcZmi6uSpfLv3U               1717291067   \n",
       "42  QmeKqMSx5uDbHjthUYabtKroe1KZEgm3b7fBnRZVMis3cE               1717291338   \n",
       "43  QmfB5g5hUpMCLKNvvAqGGNQd1V49bpKdbNfzCaThePEh9G               1717291047   \n",
       "44  QmfLqnN7L7nnuZvhtD2qC1wy3qNJGG8Nouw5ojawMG8tG1               1717291082   \n",
       "45  QmfWXogKgSSEHWVngRPgGjKVHodHzPhPsUwDWV2JWyCLJj               1717291279   \n",
       "\n",
       "   modelStates_suspectedAt modelStates_suspectedBy  \\\n",
       "0                     None                    None   \n",
       "1                     None                    None   \n",
       "2                     None                    None   \n",
       "3                     None                    None   \n",
       "4                     None                    None   \n",
       "5                     None                    None   \n",
       "6                     None                    None   \n",
       "7                     None                    None   \n",
       "8                     None                    None   \n",
       "9                     None                    None   \n",
       "10                    None                    None   \n",
       "11                    None                    None   \n",
       "12                    None                    None   \n",
       "13                    None                    None   \n",
       "14                    None                    None   \n",
       "15                    None                    None   \n",
       "16                    None                    None   \n",
       "17                    None                    None   \n",
       "18                    None                    None   \n",
       "19                    None                    None   \n",
       "20                    None                    None   \n",
       "21                    None                    None   \n",
       "22                    None                    None   \n",
       "23                    None                    None   \n",
       "24                    None                    None   \n",
       "25                    None                    None   \n",
       "26                    None                    None   \n",
       "27                    None                    None   \n",
       "28                    None                    None   \n",
       "29                    None                    None   \n",
       "30                    None                    None   \n",
       "31                    None                    None   \n",
       "32                    None                    None   \n",
       "33                    None                    None   \n",
       "34                    None                    None   \n",
       "35                    None                    None   \n",
       "36                    None                    None   \n",
       "37                    None                    None   \n",
       "38                    None                    None   \n",
       "39                    None                    None   \n",
       "40                    None                    None   \n",
       "41                    None                    None   \n",
       "42                    None                    None   \n",
       "43                    None                    None   \n",
       "44                    None                    None   \n",
       "45                    None                    None   \n",
       "\n",
       "   modelStates_learningPeriod_id  modelStates_deleted  \n",
       "0                           0x2e                False  \n",
       "1                            0xb                False  \n",
       "2                            0xf                False  \n",
       "3                           0x16                False  \n",
       "4                           0x25                False  \n",
       "5                            0xe                False  \n",
       "6                            0xc                False  \n",
       "7                           0x1c                False  \n",
       "8                           0x23                False  \n",
       "9                           0x22                False  \n",
       "10                          0x19                False  \n",
       "11                          0x18                False  \n",
       "12                           0xa                False  \n",
       "13                           0x6                False  \n",
       "14                          0x1e                False  \n",
       "15                          0x1d                False  \n",
       "16                          0x2c                False  \n",
       "17                           0x7                False  \n",
       "18                           0xd                False  \n",
       "19                           0x9                False  \n",
       "20                          0x68                False  \n",
       "21                          0x11                False  \n",
       "22                          0x2f                False  \n",
       "23                          0x1b                False  \n",
       "24                          0x14                False  \n",
       "25                          0x26                False  \n",
       "26                           0x0                False  \n",
       "27                          0x69                False  \n",
       "28                           0x8                False  \n",
       "29                          0x24                False  \n",
       "30                          0x2a                False  \n",
       "31                          0x1f                False  \n",
       "32                          0x1a                False  \n",
       "33                          0x29                False  \n",
       "34                           0x5                False  \n",
       "35                          0x12                False  \n",
       "36                          0x28                False  \n",
       "37                          0x17                False  \n",
       "38                          0x2d                False  \n",
       "39                          0x2b                False  \n",
       "40                          0x21                False  \n",
       "41                          0x13                False  \n",
       "42                          0x27                False  \n",
       "43                          0x10                False  \n",
       "44                          0x15                False  \n",
       "45                          0x20                False  "
      ]
     },
     "execution_count": 263,
     "metadata": {},
     "output_type": "execute_result"
    }
   ],
   "source": [
    "states"
   ]
  },
  {
   "cell_type": "code",
   "execution_count": 241,
   "id": "315c7a18-eb14-4a51-87fc-296b56a83297",
   "metadata": {
    "editable": true,
    "slideshow": {
     "slide_type": ""
    },
    "tags": []
   },
   "outputs": [
    {
     "data": {
      "text/plain": [
       "0     QmPH444npVYr267vtbB5H9aJYdi9DfmbdW8GLSQAzSHeg1\n",
       "1     QmPrR7rTJSmnTU9owBfnXJMEnuoacPRo1bFXhCemNjauNi\n",
       "2     QmQ9JLGLbgGNjQyMz3TgEQJhJ5rH8zGFz85KrzKKE5sSPQ\n",
       "3     QmQAtdYT3iVbEVzeTy84imH7WhwMixYRycj1wQYewz8PRF\n",
       "4     QmQJdnR8AD4cwRGuGid75AHevqos7KaJHn1dwMs3eHpecD\n",
       "5     QmR3Tzx2FJEMDkHRyGzb42DBxamJjUPJuBExS6mWKHa7W3\n",
       "6     QmR9ZFPyfXve4hyrciBa1FPjtwUGQs6QmCeE82NoPKG9Gt\n",
       "7     QmRDeEST44FiRRtUXGsbN7FcsgmfxXMzqnMSjAh4D1dHmD\n",
       "8     QmRcMasTRj2m3AHFbVMkS8nrPRpR4NzNCS4GHphptJDbMm\n",
       "9     QmSESgr1hUB24UH7qBa5FSdqHENWYi4rtHGbdWVFCifENc\n",
       "10    QmSWTXEZwoLQyxsTEP9feitGqhjupuSTSxJZ9h2A7yRHQA\n",
       "11    QmSgkQTJeBQzSMHztx1BeFvLPnGT81sg84GgzCEzsvCQBF\n",
       "12    QmSws138dy1FQPQnrJhJHkLJqSrnKiPT31bP5Q4xGGgQBV\n",
       "13    QmSyvV9DBQ3DMgbfpJmoZgUxFJEAFhuQLybsnjGbc1Vu9v\n",
       "14    QmTbF9A3FMZaDrvVKWZbujtfmTmMfbttXZPkuhsNUsKt6q\n",
       "15    QmU2Qzp3LNRArgMnU9TMeNGSattQswZXSeRfPXChrjTxiS\n",
       "16    QmV1BQ1dWM3yt5DF8SRZUSaifutPqofJ1hbzMVfAP1nKuo\n",
       "17    QmVjVioXuCMXaLeF6pHz9ZRFadGddMdSB2dnFVpW4b26jA\n",
       "18    QmVtqvscABkxF41wgfEJx1dS3yYuDbQLh3EucqwySY4WZ2\n",
       "19    QmXGZgAZnmKaW1TvMF3Kf4T6unMo7gfpUgpKa91zuve7ZT\n",
       "20    QmXapc2RVbEFPnocYPBMoxJ99CwcX32kK8bohQzKtuYuNa\n",
       "21    QmXcyL7c4BVcvnWdrCpof4uN8vni6uJbsNf7AXbg4eYf8L\n",
       "22    QmYFH5kWo9HWHn3JJT3tayB9EovvNZHzymHhTyUDtPkFwU\n",
       "23    QmYKkmNFkEMGHDGNJvS44qJsXhrqBNWymgaUfoekzraaAM\n",
       "24    QmYa82SNcfSD8u26vLdguhTPfiJ312H4NKWsK5Yzjm2Kzw\n",
       "25    QmZ3GEtCfgZ6Vsf5RLH27uGvPfrWtZeUYwJjsEmye8U8XL\n",
       "26    QmZG8N5mxLiNCzE8Vnvtcr7UXbSVMQnHw4oCauJzpRkPM6\n",
       "27    QmZydneRGxz85RkkX4XxCQ69n6vfgc84evcw1ZJ9DoKUxD\n",
       "28    QmaQmJaW3uQaXJ3R4355oG1Kxc48RKumH2bmFMi7Ny6z9E\n",
       "29    QmahkHGvTDJMbcp4Qw7H7FbxQjyyaF9uygDLceZkGicYjw\n",
       "30    QmbWVZ3K3aFvXz5izbo5s1kZYaww3dDEDM5x2iH1dfPd6F\n",
       "31    Qmbt41Yfzj98fk8NzzdQGrh6nyFFs8mT2YmMDDJDpQKDYB\n",
       "32    QmbvhpvjYng9x3Bke125QTHr2mq3EEy2ybDgqK1ENGLGH6\n",
       "33    Qmc9DCwcDYUyobHC3XT2jBw3RvUeoP9i6pLyQfnSkbEr6r\n",
       "34    QmcGQsNW3bxvwDTtq4LHtS1awyEjeYMyMz6HoD2kMU5syy\n",
       "35    QmcUBMMRuFnHxcmKdihh9zrCx4tkmUEPAztnUmfUtidnHe\n",
       "36    QmchVXiZY7sAhdu1Tg9Sh8GHrPNrphTC6dDhtXmMX3EbYm\n",
       "37    QmcmmKNw7krjUSgPbmvBfgixQ6fZDq18KZg6W4pSHLHbKW\n",
       "38    Qmd4m8TLtKxVctFS6ZhMbejXtvkGzzmWjNAYZVyfXSfAE6\n",
       "39    QmdcaX8qeBe7SbR6qyadpSeRzYd57GhCM3EPevcscFmE3D\n",
       "40    QmeDEQbdAvQMrfMfRXQBcGhSJ3ZyuSC7VcZmi6uSpfLv3U\n",
       "41    QmeKqMSx5uDbHjthUYabtKroe1KZEgm3b7fBnRZVMis3cE\n",
       "42    QmfB5g5hUpMCLKNvvAqGGNQd1V49bpKdbNfzCaThePEh9G\n",
       "43    QmfLqnN7L7nnuZvhtD2qC1wy3qNJGG8Nouw5ojawMG8tG1\n",
       "44    QmfWXogKgSSEHWVngRPgGjKVHodHzPhPsUwDWV2JWyCLJj\n",
       "Name: modelStates_url, dtype: object"
      ]
     },
     "execution_count": 241,
     "metadata": {},
     "output_type": "execute_result"
    }
   ],
   "source": [
    "states[\"modelStates_url\"]"
   ]
  },
  {
   "cell_type": "code",
   "execution_count": 264,
   "id": "9ec7a022-a53a-4c99-9060-f539804db9ce",
   "metadata": {
    "editable": true,
    "slideshow": {
     "slide_type": ""
    },
    "tags": []
   },
   "outputs": [
    {
     "data": {
      "text/plain": [
       "<module 'web3_utils' from '/Users/sergmiller/Documents/my/eth-prague-2024/research/web3_utils.py'>"
      ]
     },
     "execution_count": 264,
     "metadata": {},
     "output_type": "execute_result"
    }
   ],
   "source": [
    "import web3_utils\n",
    "from importlib import reload\n",
    "reload(web3_utils)"
   ]
  },
  {
   "cell_type": "code",
   "execution_count": 265,
   "id": "6d8cf827-d28f-4df9-a40d-c04c2bd035f3",
   "metadata": {},
   "outputs": [],
   "source": [
    "import json"
   ]
  },
  {
   "cell_type": "code",
   "execution_count": 252,
   "id": "a5f67c8e-7265-448d-b90a-24ab27338c0a",
   "metadata": {
    "editable": true,
    "slideshow": {
     "slide_type": ""
    },
    "tags": []
   },
   "outputs": [],
   "source": [
    "h = \"QmZRLQqeazAjcu3PMdJstq2hN1vC8oMrEMBS3eGiHcnP5E\""
   ]
  },
  {
   "cell_type": "code",
   "execution_count": 266,
   "id": "c74e7ed7-90d0-49e4-8433-e0a1ea048266",
   "metadata": {
    "editable": true,
    "scrolled": true,
    "slideshow": {
     "slide_type": ""
    },
    "tags": []
   },
   "outputs": [
    {
     "name": "stdout",
     "output_type": "stream",
     "text": [
      "contract_address 0x1429859428C0aBc9C2C47C8Ee9FBaf82cFA0F20f\n"
     ]
    },
    {
     "ename": "ContractLogicError",
     "evalue": "('execution reverted: revert: Not possible to apply now.', '0x08c379a00000000000000000000000000000000000000000000000000000000000000020000000000000000000000000000000000000000000000000000000000000001a4e6f7420706f737369626c6520746f206170706c79206e6f772e000000000000')",
     "output_type": "error",
     "traceback": [
      "\u001b[0;31m---------------------------------------------------------------------------\u001b[0m",
      "\u001b[0;31mContractLogicError\u001b[0m                        Traceback (most recent call last)",
      "Cell \u001b[0;32mIn[266], line 1\u001b[0m\n\u001b[0;32m----> 1\u001b[0m \u001b[43mweb3_utils\u001b[49m\u001b[38;5;241;43m.\u001b[39;49m\u001b[43mcall_contract\u001b[49m\u001b[43m(\u001b[49m\u001b[38;5;124;43m\"\u001b[39;49m\u001b[38;5;124;43mapplyToLearnPeriod\u001b[39;49m\u001b[38;5;124;43m\"\u001b[39;49m\u001b[43m,\u001b[49m\u001b[43m \u001b[49m\u001b[38;5;28;43mint\u001b[39;49m\u001b[43m(\u001b[49m\u001b[43mtime\u001b[49m\u001b[38;5;241;43m.\u001b[39;49m\u001b[43mtime\u001b[49m\u001b[43m(\u001b[49m\u001b[43m)\u001b[49m\u001b[43m)\u001b[49m\u001b[43m,\u001b[49m\u001b[43m \u001b[49m\u001b[38;5;241;43m1000000000000000\u001b[39;49m\u001b[43m)\u001b[49m\n",
      "File \u001b[0;32m~/Documents/my/eth-prague-2024/research/web3_utils.py:31\u001b[0m, in \u001b[0;36mcall_contract\u001b[0;34m(method, arg, value)\u001b[0m\n\u001b[1;32m     23\u001b[0m contract \u001b[38;5;241m=\u001b[39m w3\u001b[38;5;241m.\u001b[39meth\u001b[38;5;241m.\u001b[39mcontract(address\u001b[38;5;241m=\u001b[39mcontract_addr, abi\u001b[38;5;241m=\u001b[39mabi)\n\u001b[1;32m     25\u001b[0m args \u001b[38;5;241m=\u001b[39m {\n\u001b[1;32m     26\u001b[0m     \u001b[38;5;124m\"\u001b[39m\u001b[38;5;124mfrom\u001b[39m\u001b[38;5;124m\"\u001b[39m: acct\u001b[38;5;241m.\u001b[39maddress,\n\u001b[1;32m     27\u001b[0m     \u001b[38;5;124m\"\u001b[39m\u001b[38;5;124mnonce\u001b[39m\u001b[38;5;124m\"\u001b[39m: w3\u001b[38;5;241m.\u001b[39meth\u001b[38;5;241m.\u001b[39mget_transaction_count(acct\u001b[38;5;241m.\u001b[39maddress),\n\u001b[1;32m     28\u001b[0m     \u001b[38;5;124m\"\u001b[39m\u001b[38;5;124mvalue\u001b[39m\u001b[38;5;124m\"\u001b[39m: value\n\u001b[1;32m     29\u001b[0m }\n\u001b[0;32m---> 31\u001b[0m unsent_tx \u001b[38;5;241m=\u001b[39m \u001b[43mcontract\u001b[49m\u001b[38;5;241;43m.\u001b[39;49m\u001b[43mfunctions\u001b[49m\u001b[43m[\u001b[49m\u001b[43mmethod\u001b[49m\u001b[43m]\u001b[49m\u001b[43m(\u001b[49m\u001b[43marg\u001b[49m\u001b[43m)\u001b[49m\u001b[38;5;241;43m.\u001b[39;49m\u001b[43mbuild_transaction\u001b[49m\u001b[43m(\u001b[49m\u001b[43margs\u001b[49m\u001b[43m)\u001b[49m\n\u001b[1;32m     32\u001b[0m signed_tx \u001b[38;5;241m=\u001b[39m w3\u001b[38;5;241m.\u001b[39meth\u001b[38;5;241m.\u001b[39maccount\u001b[38;5;241m.\u001b[39msign_transaction(unsent_tx, private_key\u001b[38;5;241m=\u001b[39macct\u001b[38;5;241m.\u001b[39mkey)\n\u001b[1;32m     33\u001b[0m tx_hash \u001b[38;5;241m=\u001b[39m w3\u001b[38;5;241m.\u001b[39meth\u001b[38;5;241m.\u001b[39msend_raw_transaction(signed_tx\u001b[38;5;241m.\u001b[39mrawTransaction)\n",
      "File \u001b[0;32m/opt/homebrew/lib/python3.12/site-packages/web3/contract/contract.py:356\u001b[0m, in \u001b[0;36mContractFunction.build_transaction\u001b[0;34m(self, transaction)\u001b[0m\n\u001b[1;32m    354\u001b[0m \u001b[38;5;28;01mdef\u001b[39;00m \u001b[38;5;21mbuild_transaction\u001b[39m(\u001b[38;5;28mself\u001b[39m, transaction: Optional[TxParams] \u001b[38;5;241m=\u001b[39m \u001b[38;5;28;01mNone\u001b[39;00m) \u001b[38;5;241m-\u001b[39m\u001b[38;5;241m>\u001b[39m TxParams:\n\u001b[1;32m    355\u001b[0m     built_transaction \u001b[38;5;241m=\u001b[39m \u001b[38;5;28mself\u001b[39m\u001b[38;5;241m.\u001b[39m_build_transaction(transaction)\n\u001b[0;32m--> 356\u001b[0m     \u001b[38;5;28;01mreturn\u001b[39;00m \u001b[43mbuild_transaction_for_function\u001b[49m\u001b[43m(\u001b[49m\n\u001b[1;32m    357\u001b[0m \u001b[43m        \u001b[49m\u001b[38;5;28;43mself\u001b[39;49m\u001b[38;5;241;43m.\u001b[39;49m\u001b[43maddress\u001b[49m\u001b[43m,\u001b[49m\n\u001b[1;32m    358\u001b[0m \u001b[43m        \u001b[49m\u001b[38;5;28;43mself\u001b[39;49m\u001b[38;5;241;43m.\u001b[39;49m\u001b[43mw3\u001b[49m\u001b[43m,\u001b[49m\n\u001b[1;32m    359\u001b[0m \u001b[43m        \u001b[49m\u001b[38;5;28;43mself\u001b[39;49m\u001b[38;5;241;43m.\u001b[39;49m\u001b[43mfunction_identifier\u001b[49m\u001b[43m,\u001b[49m\n\u001b[1;32m    360\u001b[0m \u001b[43m        \u001b[49m\u001b[43mbuilt_transaction\u001b[49m\u001b[43m,\u001b[49m\n\u001b[1;32m    361\u001b[0m \u001b[43m        \u001b[49m\u001b[38;5;28;43mself\u001b[39;49m\u001b[38;5;241;43m.\u001b[39;49m\u001b[43mcontract_abi\u001b[49m\u001b[43m,\u001b[49m\n\u001b[1;32m    362\u001b[0m \u001b[43m        \u001b[49m\u001b[38;5;28;43mself\u001b[39;49m\u001b[38;5;241;43m.\u001b[39;49m\u001b[43mabi\u001b[49m\u001b[43m,\u001b[49m\n\u001b[1;32m    363\u001b[0m \u001b[43m        \u001b[49m\u001b[38;5;241;43m*\u001b[39;49m\u001b[38;5;28;43mself\u001b[39;49m\u001b[38;5;241;43m.\u001b[39;49m\u001b[43margs\u001b[49m\u001b[43m,\u001b[49m\n\u001b[1;32m    364\u001b[0m \u001b[43m        \u001b[49m\u001b[38;5;241;43m*\u001b[39;49m\u001b[38;5;241;43m*\u001b[39;49m\u001b[38;5;28;43mself\u001b[39;49m\u001b[38;5;241;43m.\u001b[39;49m\u001b[43mkwargs\u001b[49m\u001b[43m,\u001b[49m\n\u001b[1;32m    365\u001b[0m \u001b[43m    \u001b[49m\u001b[43m)\u001b[49m\n",
      "File \u001b[0;32m/opt/homebrew/lib/python3.12/site-packages/web3/contract/utils.py:233\u001b[0m, in \u001b[0;36mbuild_transaction_for_function\u001b[0;34m(address, w3, function_name, transaction, contract_abi, fn_abi, *args, **kwargs)\u001b[0m\n\u001b[1;32m    217\u001b[0m \u001b[38;5;250m\u001b[39m\u001b[38;5;124;03m\"\"\"Builds a dictionary with the fields required to make the given transaction\u001b[39;00m\n\u001b[1;32m    218\u001b[0m \n\u001b[1;32m    219\u001b[0m \u001b[38;5;124;03mDon't call this directly, instead use :meth:`Contract.build_transaction`\u001b[39;00m\n\u001b[1;32m    220\u001b[0m \u001b[38;5;124;03mon your contract instance.\u001b[39;00m\n\u001b[1;32m    221\u001b[0m \u001b[38;5;124;03m\"\"\"\u001b[39;00m\n\u001b[1;32m    222\u001b[0m prepared_transaction \u001b[38;5;241m=\u001b[39m prepare_transaction(\n\u001b[1;32m    223\u001b[0m     address,\n\u001b[1;32m    224\u001b[0m     w3,\n\u001b[0;32m   (...)\u001b[0m\n\u001b[1;32m    230\u001b[0m     fn_kwargs\u001b[38;5;241m=\u001b[39mkwargs,\n\u001b[1;32m    231\u001b[0m )\n\u001b[0;32m--> 233\u001b[0m prepared_transaction \u001b[38;5;241m=\u001b[39m \u001b[43mfill_transaction_defaults\u001b[49m\u001b[43m(\u001b[49m\u001b[43mw3\u001b[49m\u001b[43m,\u001b[49m\u001b[43m \u001b[49m\u001b[43mprepared_transaction\u001b[49m\u001b[43m)\u001b[49m\n\u001b[1;32m    235\u001b[0m \u001b[38;5;28;01mreturn\u001b[39;00m prepared_transaction\n",
      "File \u001b[0;32m/opt/homebrew/lib/python3.12/site-packages/cytoolz/functoolz.pyx:263\u001b[0m, in \u001b[0;36mcytoolz.functoolz.curry.__call__\u001b[0;34m()\u001b[0m\n",
      "File \u001b[0;32m/opt/homebrew/lib/python3.12/site-packages/web3/_utils/transactions.py:136\u001b[0m, in \u001b[0;36mfill_transaction_defaults\u001b[0;34m(w3, transaction)\u001b[0m\n\u001b[1;32m    132\u001b[0m     \u001b[38;5;28;01mif\u001b[39;00m w3 \u001b[38;5;129;01mis\u001b[39;00m \u001b[38;5;28;01mNone\u001b[39;00m:\n\u001b[1;32m    133\u001b[0m         \u001b[38;5;28;01mraise\u001b[39;00m \u001b[38;5;167;01mValueError\u001b[39;00m(\n\u001b[1;32m    134\u001b[0m             \u001b[38;5;124mf\u001b[39m\u001b[38;5;124m\"\u001b[39m\u001b[38;5;124mYou must specify a \u001b[39m\u001b[38;5;124m'\u001b[39m\u001b[38;5;132;01m{\u001b[39;00mkey\u001b[38;5;132;01m}\u001b[39;00m\u001b[38;5;124m'\u001b[39m\u001b[38;5;124m value in the transaction\u001b[39m\u001b[38;5;124m\"\u001b[39m\n\u001b[1;32m    135\u001b[0m         )\n\u001b[0;32m--> 136\u001b[0m     default_val \u001b[38;5;241m=\u001b[39m \u001b[43mdefault_getter\u001b[49m\u001b[43m(\u001b[49m\u001b[43mw3\u001b[49m\u001b[43m,\u001b[49m\u001b[43m \u001b[49m\u001b[43mtransaction\u001b[49m\u001b[43m)\u001b[49m\n\u001b[1;32m    137\u001b[0m \u001b[38;5;28;01melse\u001b[39;00m:\n\u001b[1;32m    138\u001b[0m     default_val \u001b[38;5;241m=\u001b[39m default_getter\n",
      "File \u001b[0;32m/opt/homebrew/lib/python3.12/site-packages/web3/_utils/transactions.py:76\u001b[0m, in \u001b[0;36m<lambda>\u001b[0;34m(w3, tx)\u001b[0m\n\u001b[1;32m     39\u001b[0m TX_PARAM_LITERALS \u001b[38;5;241m=\u001b[39m Literal[\n\u001b[1;32m     40\u001b[0m     \u001b[38;5;124m\"\u001b[39m\u001b[38;5;124mtype\u001b[39m\u001b[38;5;124m\"\u001b[39m,\n\u001b[1;32m     41\u001b[0m     \u001b[38;5;124m\"\u001b[39m\u001b[38;5;124mfrom\u001b[39m\u001b[38;5;124m\"\u001b[39m,\n\u001b[0;32m   (...)\u001b[0m\n\u001b[1;32m     53\u001b[0m     \u001b[38;5;124m\"\u001b[39m\u001b[38;5;124mblobVersionedHashes\u001b[39m\u001b[38;5;124m\"\u001b[39m,\n\u001b[1;32m     54\u001b[0m ]\n\u001b[1;32m     56\u001b[0m VALID_TRANSACTION_PARAMS: List[TX_PARAM_LITERALS] \u001b[38;5;241m=\u001b[39m [\n\u001b[1;32m     57\u001b[0m     \u001b[38;5;124m\"\u001b[39m\u001b[38;5;124mtype\u001b[39m\u001b[38;5;124m\"\u001b[39m,\n\u001b[1;32m     58\u001b[0m     \u001b[38;5;124m\"\u001b[39m\u001b[38;5;124mfrom\u001b[39m\u001b[38;5;124m\"\u001b[39m,\n\u001b[0;32m   (...)\u001b[0m\n\u001b[1;32m     70\u001b[0m     \u001b[38;5;124m\"\u001b[39m\u001b[38;5;124mblobVersionedHashes\u001b[39m\u001b[38;5;124m\"\u001b[39m,\n\u001b[1;32m     71\u001b[0m ]\n\u001b[1;32m     73\u001b[0m TRANSACTION_DEFAULTS \u001b[38;5;241m=\u001b[39m {\n\u001b[1;32m     74\u001b[0m     \u001b[38;5;124m\"\u001b[39m\u001b[38;5;124mvalue\u001b[39m\u001b[38;5;124m\"\u001b[39m: \u001b[38;5;241m0\u001b[39m,\n\u001b[1;32m     75\u001b[0m     \u001b[38;5;124m\"\u001b[39m\u001b[38;5;124mdata\u001b[39m\u001b[38;5;124m\"\u001b[39m: \u001b[38;5;124mb\u001b[39m\u001b[38;5;124m\"\u001b[39m\u001b[38;5;124m\"\u001b[39m,\n\u001b[0;32m---> 76\u001b[0m     \u001b[38;5;124m\"\u001b[39m\u001b[38;5;124mgas\u001b[39m\u001b[38;5;124m\"\u001b[39m: \u001b[38;5;28;01mlambda\u001b[39;00m w3, tx: \u001b[43mw3\u001b[49m\u001b[38;5;241;43m.\u001b[39;49m\u001b[43meth\u001b[49m\u001b[38;5;241;43m.\u001b[39;49m\u001b[43mestimate_gas\u001b[49m\u001b[43m(\u001b[49m\u001b[43mtx\u001b[49m\u001b[43m)\u001b[49m,\n\u001b[1;32m     77\u001b[0m     \u001b[38;5;124m\"\u001b[39m\u001b[38;5;124mgasPrice\u001b[39m\u001b[38;5;124m\"\u001b[39m: \u001b[38;5;28;01mlambda\u001b[39;00m w3, tx: w3\u001b[38;5;241m.\u001b[39meth\u001b[38;5;241m.\u001b[39mgenerate_gas_price(tx),\n\u001b[1;32m     78\u001b[0m     \u001b[38;5;124m\"\u001b[39m\u001b[38;5;124mmaxFeePerGas\u001b[39m\u001b[38;5;124m\"\u001b[39m: (\n\u001b[1;32m     79\u001b[0m         \u001b[38;5;28;01mlambda\u001b[39;00m w3, tx: w3\u001b[38;5;241m.\u001b[39meth\u001b[38;5;241m.\u001b[39mmax_priority_fee\n\u001b[1;32m     80\u001b[0m         \u001b[38;5;241m+\u001b[39m (\u001b[38;5;241m2\u001b[39m \u001b[38;5;241m*\u001b[39m w3\u001b[38;5;241m.\u001b[39meth\u001b[38;5;241m.\u001b[39mget_block(\u001b[38;5;124m\"\u001b[39m\u001b[38;5;124mlatest\u001b[39m\u001b[38;5;124m\"\u001b[39m)[\u001b[38;5;124m\"\u001b[39m\u001b[38;5;124mbaseFeePerGas\u001b[39m\u001b[38;5;124m\"\u001b[39m])\n\u001b[1;32m     81\u001b[0m     ),\n\u001b[1;32m     82\u001b[0m     \u001b[38;5;124m\"\u001b[39m\u001b[38;5;124mmaxPriorityFeePerGas\u001b[39m\u001b[38;5;124m\"\u001b[39m: \u001b[38;5;28;01mlambda\u001b[39;00m w3, tx: w3\u001b[38;5;241m.\u001b[39meth\u001b[38;5;241m.\u001b[39mmax_priority_fee,\n\u001b[1;32m     83\u001b[0m     \u001b[38;5;124m\"\u001b[39m\u001b[38;5;124mchainId\u001b[39m\u001b[38;5;124m\"\u001b[39m: \u001b[38;5;28;01mlambda\u001b[39;00m w3, tx: w3\u001b[38;5;241m.\u001b[39meth\u001b[38;5;241m.\u001b[39mchain_id,\n\u001b[1;32m     84\u001b[0m }\n\u001b[1;32m     86\u001b[0m \u001b[38;5;28;01mif\u001b[39;00m TYPE_CHECKING:\n\u001b[1;32m     87\u001b[0m     \u001b[38;5;28;01mfrom\u001b[39;00m \u001b[38;5;21;01mweb3\u001b[39;00m \u001b[38;5;28;01mimport\u001b[39;00m (  \u001b[38;5;66;03m# noqa: F401\u001b[39;00m\n\u001b[1;32m     88\u001b[0m         AsyncWeb3,\n\u001b[1;32m     89\u001b[0m         Web3,\n\u001b[1;32m     90\u001b[0m     )\n",
      "File \u001b[0;32m/opt/homebrew/lib/python3.12/site-packages/web3/eth/eth.py:316\u001b[0m, in \u001b[0;36mEth.estimate_gas\u001b[0;34m(self, transaction, block_identifier, state_override)\u001b[0m\n\u001b[1;32m    310\u001b[0m \u001b[38;5;28;01mdef\u001b[39;00m \u001b[38;5;21mestimate_gas\u001b[39m(\n\u001b[1;32m    311\u001b[0m     \u001b[38;5;28mself\u001b[39m,\n\u001b[1;32m    312\u001b[0m     transaction: TxParams,\n\u001b[1;32m    313\u001b[0m     block_identifier: Optional[BlockIdentifier] \u001b[38;5;241m=\u001b[39m \u001b[38;5;28;01mNone\u001b[39;00m,\n\u001b[1;32m    314\u001b[0m     state_override: Optional[CallOverride] \u001b[38;5;241m=\u001b[39m \u001b[38;5;28;01mNone\u001b[39;00m,\n\u001b[1;32m    315\u001b[0m ) \u001b[38;5;241m-\u001b[39m\u001b[38;5;241m>\u001b[39m \u001b[38;5;28mint\u001b[39m:\n\u001b[0;32m--> 316\u001b[0m     \u001b[38;5;28;01mreturn\u001b[39;00m \u001b[38;5;28;43mself\u001b[39;49m\u001b[38;5;241;43m.\u001b[39;49m\u001b[43m_estimate_gas\u001b[49m\u001b[43m(\u001b[49m\u001b[43mtransaction\u001b[49m\u001b[43m,\u001b[49m\u001b[43m \u001b[49m\u001b[43mblock_identifier\u001b[49m\u001b[43m,\u001b[49m\u001b[43m \u001b[49m\u001b[43mstate_override\u001b[49m\u001b[43m)\u001b[49m\n",
      "File \u001b[0;32m/opt/homebrew/lib/python3.12/site-packages/web3/module.py:75\u001b[0m, in \u001b[0;36mretrieve_blocking_method_call_fn.<locals>.caller\u001b[0;34m(*args, **kwargs)\u001b[0m\n\u001b[1;32m     68\u001b[0m     \u001b[38;5;28;01mreturn\u001b[39;00m LogFilter(eth_module\u001b[38;5;241m=\u001b[39mmodule, filter_id\u001b[38;5;241m=\u001b[39merr\u001b[38;5;241m.\u001b[39mfilter_id)\n\u001b[1;32m     70\u001b[0m (\n\u001b[1;32m     71\u001b[0m     result_formatters,\n\u001b[1;32m     72\u001b[0m     error_formatters,\n\u001b[1;32m     73\u001b[0m     null_result_formatters,\n\u001b[1;32m     74\u001b[0m ) \u001b[38;5;241m=\u001b[39m response_formatters\n\u001b[0;32m---> 75\u001b[0m result \u001b[38;5;241m=\u001b[39m \u001b[43mw3\u001b[49m\u001b[38;5;241;43m.\u001b[39;49m\u001b[43mmanager\u001b[49m\u001b[38;5;241;43m.\u001b[39;49m\u001b[43mrequest_blocking\u001b[49m\u001b[43m(\u001b[49m\n\u001b[1;32m     76\u001b[0m \u001b[43m    \u001b[49m\u001b[43mmethod_str\u001b[49m\u001b[43m,\u001b[49m\u001b[43m \u001b[49m\u001b[43mparams\u001b[49m\u001b[43m,\u001b[49m\u001b[43m \u001b[49m\u001b[43merror_formatters\u001b[49m\u001b[43m,\u001b[49m\u001b[43m \u001b[49m\u001b[43mnull_result_formatters\u001b[49m\n\u001b[1;32m     77\u001b[0m \u001b[43m\u001b[49m\u001b[43m)\u001b[49m\n\u001b[1;32m     78\u001b[0m \u001b[38;5;28;01mreturn\u001b[39;00m apply_result_formatters(result_formatters, result)\n",
      "File \u001b[0;32m/opt/homebrew/lib/python3.12/site-packages/web3/manager.py:330\u001b[0m, in \u001b[0;36mRequestManager.request_blocking\u001b[0;34m(self, method, params, error_formatters, null_result_formatters)\u001b[0m\n\u001b[1;32m    326\u001b[0m \u001b[38;5;250m\u001b[39m\u001b[38;5;124;03m\"\"\"\u001b[39;00m\n\u001b[1;32m    327\u001b[0m \u001b[38;5;124;03mMake a synchronous request using the provider\u001b[39;00m\n\u001b[1;32m    328\u001b[0m \u001b[38;5;124;03m\"\"\"\u001b[39;00m\n\u001b[1;32m    329\u001b[0m response \u001b[38;5;241m=\u001b[39m \u001b[38;5;28mself\u001b[39m\u001b[38;5;241m.\u001b[39m_make_request(method, params)\n\u001b[0;32m--> 330\u001b[0m \u001b[38;5;28;01mreturn\u001b[39;00m \u001b[38;5;28;43mself\u001b[39;49m\u001b[38;5;241;43m.\u001b[39;49m\u001b[43mformatted_response\u001b[49m\u001b[43m(\u001b[49m\n\u001b[1;32m    331\u001b[0m \u001b[43m    \u001b[49m\u001b[43mresponse\u001b[49m\u001b[43m,\u001b[49m\u001b[43m \u001b[49m\u001b[43mparams\u001b[49m\u001b[43m,\u001b[49m\u001b[43m \u001b[49m\u001b[43merror_formatters\u001b[49m\u001b[43m,\u001b[49m\u001b[43m \u001b[49m\u001b[43mnull_result_formatters\u001b[49m\n\u001b[1;32m    332\u001b[0m \u001b[43m\u001b[49m\u001b[43m)\u001b[49m\n",
      "File \u001b[0;32m/opt/homebrew/lib/python3.12/site-packages/web3/manager.py:291\u001b[0m, in \u001b[0;36mRequestManager.formatted_response\u001b[0;34m(response, params, error_formatters, null_result_formatters)\u001b[0m\n\u001b[1;32m    286\u001b[0m     \u001b[38;5;28;01mif\u001b[39;00m \u001b[38;5;129;01mnot\u001b[39;00m \u001b[38;5;28misinstance\u001b[39m(error\u001b[38;5;241m.\u001b[39mget(\u001b[38;5;124m\"\u001b[39m\u001b[38;5;124mmessage\u001b[39m\u001b[38;5;124m\"\u001b[39m), \u001b[38;5;28mstr\u001b[39m):\n\u001b[1;32m    287\u001b[0m         _raise_bad_response_format(\n\u001b[1;32m    288\u001b[0m             response, \u001b[38;5;124m\"\u001b[39m\u001b[38;5;124merror[\u001b[39m\u001b[38;5;124m'\u001b[39m\u001b[38;5;124mmessage\u001b[39m\u001b[38;5;124m'\u001b[39m\u001b[38;5;124m] must be a string\u001b[39m\u001b[38;5;124m\"\u001b[39m\n\u001b[1;32m    289\u001b[0m         )\n\u001b[0;32m--> 291\u001b[0m     \u001b[43mapply_error_formatters\u001b[49m\u001b[43m(\u001b[49m\u001b[43merror_formatters\u001b[49m\u001b[43m,\u001b[49m\u001b[43m \u001b[49m\u001b[43mresponse\u001b[49m\u001b[43m)\u001b[49m\n\u001b[1;32m    293\u001b[0m     \u001b[38;5;28;01mraise\u001b[39;00m \u001b[38;5;167;01mValueError\u001b[39;00m(error)\n\u001b[1;32m    295\u001b[0m \u001b[38;5;66;03m# Format and validate results\u001b[39;00m\n",
      "File \u001b[0;32m/opt/homebrew/lib/python3.12/site-packages/web3/manager.py:104\u001b[0m, in \u001b[0;36mapply_error_formatters\u001b[0;34m(error_formatters, response)\u001b[0m\n\u001b[1;32m     99\u001b[0m \u001b[38;5;28;01mdef\u001b[39;00m \u001b[38;5;21mapply_error_formatters\u001b[39m(\n\u001b[1;32m    100\u001b[0m     error_formatters: Callable[\u001b[38;5;241m.\u001b[39m\u001b[38;5;241m.\u001b[39m\u001b[38;5;241m.\u001b[39m, Any],\n\u001b[1;32m    101\u001b[0m     response: RPCResponse,\n\u001b[1;32m    102\u001b[0m ) \u001b[38;5;241m-\u001b[39m\u001b[38;5;241m>\u001b[39m RPCResponse:\n\u001b[1;32m    103\u001b[0m     \u001b[38;5;28;01mif\u001b[39;00m error_formatters:\n\u001b[0;32m--> 104\u001b[0m         formatted_resp \u001b[38;5;241m=\u001b[39m \u001b[43mpipe\u001b[49m\u001b[43m(\u001b[49m\u001b[43mresponse\u001b[49m\u001b[43m,\u001b[49m\u001b[43m \u001b[49m\u001b[43merror_formatters\u001b[49m\u001b[43m)\u001b[49m\n\u001b[1;32m    105\u001b[0m         \u001b[38;5;28;01mreturn\u001b[39;00m formatted_resp\n\u001b[1;32m    106\u001b[0m     \u001b[38;5;28;01melse\u001b[39;00m:\n",
      "File \u001b[0;32m/opt/homebrew/lib/python3.12/site-packages/cytoolz/functoolz.pyx:680\u001b[0m, in \u001b[0;36mcytoolz.functoolz.pipe\u001b[0;34m()\u001b[0m\n",
      "File \u001b[0;32m/opt/homebrew/lib/python3.12/site-packages/cytoolz/functoolz.pyx:655\u001b[0m, in \u001b[0;36mcytoolz.functoolz.c_pipe\u001b[0;34m()\u001b[0m\n",
      "File \u001b[0;32m/opt/homebrew/lib/python3.12/site-packages/web3/_utils/error_formatters_utils.py:162\u001b[0m, in \u001b[0;36mraise_contract_logic_error_on_revert\u001b[0;34m(response)\u001b[0m\n\u001b[1;32m    159\u001b[0m \u001b[38;5;28;01mif\u001b[39;00m message_present:\n\u001b[1;32m    160\u001b[0m     \u001b[38;5;66;03m# Geth Revert with error message and code 3 case:\u001b[39;00m\n\u001b[1;32m    161\u001b[0m     \u001b[38;5;28;01mif\u001b[39;00m error\u001b[38;5;241m.\u001b[39mget(\u001b[38;5;124m\"\u001b[39m\u001b[38;5;124mcode\u001b[39m\u001b[38;5;124m\"\u001b[39m) \u001b[38;5;241m==\u001b[39m \u001b[38;5;241m3\u001b[39m:\n\u001b[0;32m--> 162\u001b[0m         \u001b[38;5;28;01mraise\u001b[39;00m ContractLogicError(message, data\u001b[38;5;241m=\u001b[39mdata)\n\u001b[1;32m    163\u001b[0m     \u001b[38;5;66;03m# Geth Revert without error message case:\u001b[39;00m\n\u001b[1;32m    164\u001b[0m     \u001b[38;5;28;01melif\u001b[39;00m \u001b[38;5;124m\"\u001b[39m\u001b[38;5;124mexecution reverted\u001b[39m\u001b[38;5;124m\"\u001b[39m \u001b[38;5;129;01min\u001b[39;00m message:\n",
      "\u001b[0;31mContractLogicError\u001b[0m: ('execution reverted: revert: Not possible to apply now.', '0x08c379a00000000000000000000000000000000000000000000000000000000000000020000000000000000000000000000000000000000000000000000000000000001a4e6f7420706f737369626c6520746f206170706c79206e6f772e000000000000')"
     ]
    }
   ],
   "source": [
    "web3_utils.call_contract(\"applyToLearnPeriod\", int(time.time()), 1000000000000000)"
   ]
  },
  {
   "cell_type": "code",
   "execution_count": 235,
   "id": "ffb5c3d3-839a-437a-8d53-28e90c42462d",
   "metadata": {
    "editable": true,
    "slideshow": {
     "slide_type": ""
    },
    "tags": []
   },
   "outputs": [
    {
     "name": "stdout",
     "output_type": "stream",
     "text": [
      "Call submitState QmZRLQqeazAjcu3PMdJstq2hN1vC8oMrEMBS3eGiHcnP5E AttributeDict({'type': 2, 'status': 1, 'cumulativeGasUsed': 175414, 'logs': [AttributeDict({'address': '0x1429859428C0aBc9C2C47C8Ee9FBaf82cFA0F20f', 'topics': [HexBytes('0x30639130eea58a82aa3b1c5767d739114b2b1cd3f752b4d7b8fb16de61d74fde'), HexBytes('0x0000000000000000000000000000000000000000000000000000000000000004')], 'data': HexBytes('0x000000000000000000000000000000000000000000000000000000000000004000000000000000000000000000000000000000000000000000000000665bd005000000000000000000000000000000000000000000000000000000000000002e516d5a524c517165617a416a637533504d644a73747132684e317643386f4d72454d42533365476948636e503545000000000000000000000000000000000000'), 'blockHash': HexBytes('0x71003e6462a91b03a72ef0289a3dc0a1cf30a25b6b40dceac79f4359379f8e4a'), 'blockNumber': 307, 'blockTimestamp': '0x665bd005', 'transactionHash': HexBytes('0xd9200fab9f54ccf465ce504619c76acde2aaefce4b33422524153275ccd1d7e1'), 'transactionIndex': 0, 'logIndex': 0, 'removed': False})], 'logsBloom': HexBytes('0x00000020000000000000000000000000000000000000000000000000000000010000000000000000000000000000000000000000000000000000000000000000000000000000000000000000000000000000000000000000000000000000000008000000000000000000000000000000000000000100008000000000000000000000000000000000000000000000000000000000000000000000000000400000000000000000000000000000000000000000000000010000002000000000000000000000000000000000000000000000000000008000000000000000000000000000000000000000000000000000000000000000000000000000000000000000'), 'transactionHash': HexBytes('0xd9200fab9f54ccf465ce504619c76acde2aaefce4b33422524153275ccd1d7e1'), 'transactionIndex': 0, 'blockHash': HexBytes('0x71003e6462a91b03a72ef0289a3dc0a1cf30a25b6b40dceac79f4359379f8e4a'), 'blockNumber': 307, 'gasUsed': 175414, 'effectiveGasPrice': 1000000008, 'blobGasPrice': 1, 'from': '0xf39Fd6e51aad88F6F4ce6aB8827279cffFb92266', 'to': '0x1429859428C0aBc9C2C47C8Ee9FBaf82cFA0F20f', 'contractAddress': None, 'root': '0x7a1014d6853b053596447da12a5825b61389e5e41ac570362ff5b668543d791c'})\n"
     ]
    }
   ],
   "source": [
    "web3_utils.call_contract(\"submitState\", h)"
   ]
  },
  {
   "cell_type": "code",
   "execution_count": 242,
   "id": "1646789d-036c-45f4-a850-ef82f27d99f5",
   "metadata": {
    "editable": true,
    "slideshow": {
     "slide_type": ""
    },
    "tags": []
   },
   "outputs": [],
   "source": [
    "from web3 import Web3\n",
    "from dotenv import load_dotenv\n",
    "import os\n",
    "import json\n",
    "\n",
    "load_dotenv()\n",
    "\n",
    "w3 = Web3(Web3.HTTPProvider('http://127.0.0.1:8545'))"
   ]
  },
  {
   "cell_type": "code",
   "execution_count": 243,
   "id": "3398a63a-c7cf-4963-874f-40f1053cb48a",
   "metadata": {
    "editable": true,
    "slideshow": {
     "slide_type": ""
    },
    "tags": []
   },
   "outputs": [],
   "source": [
    "pk = os.environ.get('PRIVATE_KEY')\n",
    "acct = w3.eth.account.from_key(pk)"
   ]
  },
  {
   "cell_type": "code",
   "execution_count": 244,
   "id": "80fbad71-a7fd-4d7e-b22a-fca5310bae66",
   "metadata": {
    "editable": true,
    "slideshow": {
     "slide_type": ""
    },
    "tags": []
   },
   "outputs": [
    {
     "data": {
      "text/plain": [
       "True"
      ]
     },
     "execution_count": 244,
     "metadata": {},
     "output_type": "execute_result"
    }
   ],
   "source": [
    "w3.is_connected()"
   ]
  },
  {
   "cell_type": "code",
   "execution_count": 267,
   "id": "caf46280-a37d-4b82-8ee8-6581514abd29",
   "metadata": {
    "editable": true,
    "slideshow": {
     "slide_type": ""
    },
    "tags": []
   },
   "outputs": [
    {
     "name": "stdout",
     "output_type": "stream",
     "text": [
      "0x1429859428C0aBc9C2C47C8Ee9FBaf82cFA0F20f\n"
     ]
    }
   ],
   "source": [
    "contract_addr = os.environ.get('CONTRACT_ADDRESS')\n",
    "print(contract_addr)\n",
    "# contract_addr = \"0xAD523115cd35a8d4E60B3C0953E0E0ac10418309\"\n",
    "with open(\"../abi.json\", \"r\") as f:\n",
    "    abi = json.load(f)\n",
    "contract = w3.eth.contract(address=contract_addr, abi=abi)"
   ]
  },
  {
   "cell_type": "code",
   "execution_count": 254,
   "id": "0ff6b1e2-8d68-431c-a5cb-1919483e187c",
   "metadata": {
    "editable": true,
    "slideshow": {
     "slide_type": ""
    },
    "tags": []
   },
   "outputs": [
    {
     "data": {
      "text/plain": [
       "'0xAD523115cd35a8d4E60B3C0953E0E0ac10418309'"
      ]
     },
     "execution_count": 254,
     "metadata": {},
     "output_type": "execute_result"
    }
   ],
   "source": [
    "contract_addr"
   ]
  },
  {
   "cell_type": "code",
   "execution_count": 248,
   "id": "0edc7559-6dfc-4588-8479-d6405939b7c1",
   "metadata": {},
   "outputs": [
    {
     "data": {
      "text/plain": [
       "'0xf39Fd6e51aad88F6F4ce6aB8827279cffFb92266'"
      ]
     },
     "execution_count": 248,
     "metadata": {},
     "output_type": "execute_result"
    }
   ],
   "source": [
    "acct.address"
   ]
  },
  {
   "cell_type": "code",
   "execution_count": 249,
   "id": "74a8adec-b751-4581-9f3d-f42f2aface41",
   "metadata": {},
   "outputs": [
    {
     "data": {
      "text/plain": [
       "384"
      ]
     },
     "execution_count": 249,
     "metadata": {},
     "output_type": "execute_result"
    }
   ],
   "source": [
    "w3.eth.get_transaction_count(acct.address)"
   ]
  },
  {
   "cell_type": "code",
   "execution_count": 255,
   "id": "8da5889d-0dc3-4dfc-a72d-db18bbab7204",
   "metadata": {
    "editable": true,
    "scrolled": true,
    "slideshow": {
     "slide_type": ""
    },
    "tags": []
   },
   "outputs": [],
   "source": [
    "import time\n",
    "unsent_tx = contract.functions.applyToLearnPeriod(int(time.time())).build_transaction({\n",
    "    \"from\": acct.address,\n",
    "    \"nonce\": w3.eth.get_transaction_count(acct.address),\n",
    "    'value': 1000000000000000\n",
    "})"
   ]
  },
  {
   "cell_type": "code",
   "execution_count": null,
   "id": "dc088ce3-4bfd-484e-a192-12a4bc9438b0",
   "metadata": {
    "editable": true,
    "slideshow": {
     "slide_type": ""
    },
    "tags": []
   },
   "outputs": [],
   "source": []
  },
  {
   "cell_type": "code",
   "execution_count": 256,
   "id": "03a638b5-f488-4514-b0c7-2eb2e978eacd",
   "metadata": {
    "editable": true,
    "slideshow": {
     "slide_type": ""
    },
    "tags": []
   },
   "outputs": [
    {
     "data": {
      "text/plain": [
       "AttributeDict({'type': 2,\n",
       " 'status': 1,\n",
       " 'cumulativeGasUsed': 118221,\n",
       " 'logs': [AttributeDict({'address': '0xAD523115cd35a8d4E60B3C0953E0E0ac10418309',\n",
       "   'topics': [HexBytes('0x88da22df40e594023efac666521a621f15c10cba4708e3bb26853d578fff25ef'),\n",
       "    HexBytes('0x000000000000000000000000f39fd6e51aad88f6f4ce6ab8827279cfffb92266')],\n",
       "   'data': HexBytes('0x00000000000000000000000000000000000000000000000000000000665bd0bb00000000000000000000000000000000000000000000000000000000665bd1e700000000000000000000000000000000000000000000000000000000000000030000000000000000000000000000000000000000000000000000000000000069'),\n",
       "   'blockHash': HexBytes('0xe416745e6d0437cc452fd979c2692b28c7b5056204722e3b5501610ce3b4ec08'),\n",
       "   'blockNumber': 308,\n",
       "   'blockTimestamp': '0x665bd0bc',\n",
       "   'transactionHash': HexBytes('0x2b6b0c1939e28c0cc5898ac4c63496b11929ad8dbbc544592f37d280b5060d3e'),\n",
       "   'transactionIndex': 0,\n",
       "   'logIndex': 0,\n",
       "   'removed': False})],\n",
       " 'logsBloom': HexBytes('0x00020100000000000000000000000000000000000000000000000000000000000000000000000000000000000000000000000000000000000000000004000000000000000000000000000000000000000000000000000000000000000000000000000000000000000000000100000000000000000000000000000000000000000000010000000000000000000000000000000000000000000000000000000000000000000000000000000000000000000000000004000000000000000000000000000000000000200000000000000000000000002000000000000000000000020000000000000000000000000000000000000000000000000000000000000000'),\n",
       " 'transactionHash': HexBytes('0x2b6b0c1939e28c0cc5898ac4c63496b11929ad8dbbc544592f37d280b5060d3e'),\n",
       " 'transactionIndex': 0,\n",
       " 'blockHash': HexBytes('0xe416745e6d0437cc452fd979c2692b28c7b5056204722e3b5501610ce3b4ec08'),\n",
       " 'blockNumber': 308,\n",
       " 'gasUsed': 118221,\n",
       " 'effectiveGasPrice': 1000000008,\n",
       " 'blobGasPrice': 1,\n",
       " 'from': '0xf39Fd6e51aad88F6F4ce6aB8827279cffFb92266',\n",
       " 'to': '0xAD523115cd35a8d4E60B3C0953E0E0ac10418309',\n",
       " 'contractAddress': None,\n",
       " 'root': '0x8f90f6df581b3cccff60d25e219b15789428dff84c7b892a3fbf845028948013'})"
      ]
     },
     "execution_count": 256,
     "metadata": {},
     "output_type": "execute_result"
    }
   ],
   "source": [
    "signed_tx = w3.eth.account.sign_transaction(unsent_tx, private_key=acct.key)\n",
    "tx_hash = w3.eth.send_raw_transaction(signed_tx.rawTransaction)\n",
    "w3.eth.wait_for_transaction_receipt(tx_hash)"
   ]
  },
  {
   "cell_type": "code",
   "execution_count": 257,
   "id": "025684c6-3307-48cb-a892-0c8e83f5f112",
   "metadata": {
    "editable": true,
    "slideshow": {
     "slide_type": ""
    },
    "tags": []
   },
   "outputs": [],
   "source": [
    "import time\n",
    "unsent_tx = contract.functions.submitState(h).build_transaction({\n",
    "    \"from\": acct.address,\n",
    "    \"nonce\": w3.eth.get_transaction_count(acct.address),\n",
    "    'value': 0\n",
    "})"
   ]
  },
  {
   "cell_type": "code",
   "execution_count": 258,
   "id": "1ab7578a-ff45-4f15-b365-7553c03f75d7",
   "metadata": {
    "editable": true,
    "slideshow": {
     "slide_type": ""
    },
    "tags": []
   },
   "outputs": [
    {
     "data": {
      "text/plain": [
       "AttributeDict({'type': 2,\n",
       " 'status': 1,\n",
       " 'cumulativeGasUsed': 175414,\n",
       " 'logs': [AttributeDict({'address': '0xAD523115cd35a8d4E60B3C0953E0E0ac10418309',\n",
       "   'topics': [HexBytes('0x30639130eea58a82aa3b1c5767d739114b2b1cd3f752b4d7b8fb16de61d74fde'),\n",
       "    HexBytes('0x0000000000000000000000000000000000000000000000000000000000000069')],\n",
       "   'data': HexBytes('0x000000000000000000000000000000000000000000000000000000000000004000000000000000000000000000000000000000000000000000000000665bd0bf000000000000000000000000000000000000000000000000000000000000002e516d5a524c517165617a416a637533504d644a73747132684e317643386f4d72454d42533365476948636e503545000000000000000000000000000000000000'),\n",
       "   'blockHash': HexBytes('0x94a3ebe6e552d856b1c73193c177b9520d3544feaeef30ef83e68bff96581806'),\n",
       "   'blockNumber': 309,\n",
       "   'blockTimestamp': '0x665bd0bf',\n",
       "   'transactionHash': HexBytes('0x3a8ee6ff457ee22a0e123add674de3b6724827fd98e95415897327902141a97c'),\n",
       "   'transactionIndex': 0,\n",
       "   'logIndex': 0,\n",
       "   'removed': False})],\n",
       " 'logsBloom': HexBytes('0x00000120000000000010000000000000000000000000000000000000000000010000000000000000000000000002000000000000000000000000000000000000000000000000000000000000000000000000000000000000000000000000000000000000000000000000000000000000000000000000008000000000000000000000000000000000000000000000000000000000000000000000000000000000000000000000000000000000000000000000000004000000000000000000000000000000000000000000000000000000000000000000000000000000000000020000000000000000000000000000000000000000000000000000400000000000'),\n",
       " 'transactionHash': HexBytes('0x3a8ee6ff457ee22a0e123add674de3b6724827fd98e95415897327902141a97c'),\n",
       " 'transactionIndex': 0,\n",
       " 'blockHash': HexBytes('0x94a3ebe6e552d856b1c73193c177b9520d3544feaeef30ef83e68bff96581806'),\n",
       " 'blockNumber': 309,\n",
       " 'gasUsed': 175414,\n",
       " 'effectiveGasPrice': 1000000008,\n",
       " 'blobGasPrice': 1,\n",
       " 'from': '0xf39Fd6e51aad88F6F4ce6aB8827279cffFb92266',\n",
       " 'to': '0xAD523115cd35a8d4E60B3C0953E0E0ac10418309',\n",
       " 'contractAddress': None,\n",
       " 'root': '0x3b8dbfb00f0fb923f442be5315bd8a063af129fe8b72149cb159c0f6ae721a8c'})"
      ]
     },
     "execution_count": 258,
     "metadata": {},
     "output_type": "execute_result"
    }
   ],
   "source": [
    "signed_tx = w3.eth.account.sign_transaction(unsent_tx, private_key=acct.key)\n",
    "tx_hash = w3.eth.send_raw_transaction(signed_tx.rawTransaction)\n",
    "w3.eth.wait_for_transaction_receipt(tx_hash)"
   ]
  },
  {
   "cell_type": "code",
   "execution_count": 301,
   "id": "0338e2ec-62e7-4ccb-b47b-91f28bd14153",
   "metadata": {},
   "outputs": [],
   "source": [
    "import ipfshttpclient"
   ]
  },
  {
   "cell_type": "code",
   "execution_count": 319,
   "id": "a5fc3346-7398-4050-b4dc-7341dd727e9f",
   "metadata": {},
   "outputs": [
    {
     "ename": "HTTPError",
     "evalue": "405 Client Error: Method Not Allowed for url: http://localhost:5001/api/v0/id?stream-channels=true&encoding=json",
     "output_type": "error",
     "traceback": [
      "\u001b[0;31m---------------------------------------------------------------------------\u001b[0m",
      "\u001b[0;31mHTTPError\u001b[0m                                 Traceback (most recent call last)",
      "Cell \u001b[0;32mIn[319], line 3\u001b[0m\n\u001b[1;32m      1\u001b[0m \u001b[38;5;28;01mimport\u001b[39;00m \u001b[38;5;21;01mipfsApi\u001b[39;00m\n\u001b[1;32m      2\u001b[0m api \u001b[38;5;241m=\u001b[39m ipfsApi\u001b[38;5;241m.\u001b[39mClient(\u001b[38;5;124m'\u001b[39m\u001b[38;5;124mlocalhost\u001b[39m\u001b[38;5;124m'\u001b[39m, \u001b[38;5;241m5001\u001b[39m)\n\u001b[0;32m----> 3\u001b[0m \u001b[43mapi\u001b[49m\u001b[38;5;241;43m.\u001b[39;49m\u001b[43mid\u001b[49m\u001b[43m(\u001b[49m\u001b[43m)\u001b[49m\n",
      "File \u001b[0;32m/opt/homebrew/lib/python3.12/site-packages/ipfsApi/client.py:345\u001b[0m, in \u001b[0;36mClient.id\u001b[0;34m(self, *args, **kwargs)\u001b[0m\n\u001b[1;32m    327\u001b[0m \u001b[38;5;28;01mdef\u001b[39;00m \u001b[38;5;21mid\u001b[39m(\u001b[38;5;28mself\u001b[39m, \u001b[38;5;241m*\u001b[39margs, \u001b[38;5;241m*\u001b[39m\u001b[38;5;241m*\u001b[39mkwargs):\n\u001b[1;32m    328\u001b[0m \u001b[38;5;250m    \u001b[39m\u001b[38;5;124;03m\"\"\"\u001b[39;00m\n\u001b[1;32m    329\u001b[0m \u001b[38;5;124;03m    Returns the PublicKey, ProtocolVersion, ID, AgentVersion and\u001b[39;00m\n\u001b[1;32m    330\u001b[0m \u001b[38;5;124;03m    Addresses of the connected daemon\u001b[39;00m\n\u001b[0;32m   (...)\u001b[0m\n\u001b[1;32m    343\u001b[0m \u001b[38;5;124;03m        u'/ip4/212.159.87.139/tcp/63203/ipfs/QmRA9NuuaJ2GLVgCm ... 1VCn']}\u001b[39;00m\n\u001b[1;32m    344\u001b[0m \u001b[38;5;124;03m    \"\"\"\u001b[39;00m\n\u001b[0;32m--> 345\u001b[0m     \u001b[38;5;28;01mreturn\u001b[39;00m \u001b[38;5;28;43mself\u001b[39;49m\u001b[38;5;241;43m.\u001b[39;49m\u001b[43m_id\u001b[49m\u001b[38;5;241;43m.\u001b[39;49m\u001b[43mrequest\u001b[49m\u001b[43m(\u001b[49m\u001b[38;5;28;43mself\u001b[39;49m\u001b[38;5;241;43m.\u001b[39;49m\u001b[43m_client\u001b[49m\u001b[43m,\u001b[49m\u001b[43m \u001b[49m\u001b[38;5;241;43m*\u001b[39;49m\u001b[43margs\u001b[49m\u001b[43m,\u001b[49m\u001b[43m \u001b[49m\u001b[38;5;241;43m*\u001b[39;49m\u001b[38;5;241;43m*\u001b[39;49m\u001b[43mkwargs\u001b[49m\u001b[43m)\u001b[49m\n",
      "File \u001b[0;32m/opt/homebrew/lib/python3.12/site-packages/ipfsApi/commands.py:18\u001b[0m, in \u001b[0;36mCommand.request\u001b[0;34m(self, client, *args, **kwargs)\u001b[0m\n\u001b[1;32m     17\u001b[0m \u001b[38;5;28;01mdef\u001b[39;00m \u001b[38;5;21mrequest\u001b[39m(\u001b[38;5;28mself\u001b[39m, client, \u001b[38;5;241m*\u001b[39margs, \u001b[38;5;241m*\u001b[39m\u001b[38;5;241m*\u001b[39mkwargs):\n\u001b[0;32m---> 18\u001b[0m     \u001b[38;5;28;01mreturn\u001b[39;00m \u001b[43mclient\u001b[49m\u001b[38;5;241;43m.\u001b[39;49m\u001b[43mrequest\u001b[49m\u001b[43m(\u001b[49m\u001b[38;5;28;43mself\u001b[39;49m\u001b[38;5;241;43m.\u001b[39;49m\u001b[43mpath\u001b[49m\u001b[43m,\u001b[49m\u001b[43m \u001b[49m\u001b[38;5;241;43m*\u001b[39;49m\u001b[38;5;241;43m*\u001b[39;49m\u001b[43mkwargs\u001b[49m\u001b[43m)\u001b[49m\n",
      "File \u001b[0;32m/opt/homebrew/lib/python3.12/site-packages/ipfsApi/http.py:25\u001b[0m, in \u001b[0;36mpass_defaults.<locals>.wrapper\u001b[0;34m(self, *args, **kwargs)\u001b[0m\n\u001b[1;32m     23\u001b[0m merged\u001b[38;5;241m.\u001b[39mupdate(\u001b[38;5;28mself\u001b[39m\u001b[38;5;241m.\u001b[39mdefaults)\n\u001b[1;32m     24\u001b[0m merged\u001b[38;5;241m.\u001b[39mupdate(kwargs)\n\u001b[0;32m---> 25\u001b[0m \u001b[38;5;28;01mreturn\u001b[39;00m \u001b[43mf\u001b[49m\u001b[43m(\u001b[49m\u001b[38;5;28;43mself\u001b[39;49m\u001b[43m,\u001b[49m\u001b[43m \u001b[49m\u001b[38;5;241;43m*\u001b[39;49m\u001b[43margs\u001b[49m\u001b[43m,\u001b[49m\u001b[43m \u001b[49m\u001b[38;5;241;43m*\u001b[39;49m\u001b[38;5;241;43m*\u001b[39;49m\u001b[43mmerged\u001b[49m\u001b[43m)\u001b[49m\n",
      "File \u001b[0;32m/opt/homebrew/lib/python3.12/site-packages/ipfsApi/http.py:95\u001b[0m, in \u001b[0;36mHTTPClient.request\u001b[0;34m(self, path, args, files, opts, decoder, **kwargs)\u001b[0m\n\u001b[1;32m     92\u001b[0m         ret \u001b[38;5;241m=\u001b[39m res\u001b[38;5;241m.\u001b[39mtext\n\u001b[1;32m     94\u001b[0m \u001b[38;5;28;01mtry\u001b[39;00m:\n\u001b[0;32m---> 95\u001b[0m     \u001b[43mres\u001b[49m\u001b[38;5;241;43m.\u001b[39;49m\u001b[43mraise_for_status\u001b[49m\u001b[43m(\u001b[49m\u001b[43m)\u001b[49m\n\u001b[1;32m     96\u001b[0m \u001b[38;5;28;01mexcept\u001b[39;00m requests\u001b[38;5;241m.\u001b[39mexceptions\u001b[38;5;241m.\u001b[39mHTTPError:\n\u001b[1;32m     97\u001b[0m     \u001b[38;5;66;03m# If we have decoded an error response from the server,\u001b[39;00m\n\u001b[1;32m     98\u001b[0m     \u001b[38;5;66;03m# use that as the exception message; otherwise, just pass\u001b[39;00m\n\u001b[1;32m     99\u001b[0m     \u001b[38;5;66;03m# the exception on to the caller.\u001b[39;00m\n\u001b[1;32m    100\u001b[0m     \u001b[38;5;28;01mif\u001b[39;00m \u001b[38;5;124m'\u001b[39m\u001b[38;5;124mMessage\u001b[39m\u001b[38;5;124m'\u001b[39m \u001b[38;5;129;01min\u001b[39;00m ret:\n",
      "File \u001b[0;32m/opt/homebrew/lib/python3.12/site-packages/requests/models.py:1021\u001b[0m, in \u001b[0;36mResponse.raise_for_status\u001b[0;34m(self)\u001b[0m\n\u001b[1;32m   1016\u001b[0m     http_error_msg \u001b[38;5;241m=\u001b[39m (\n\u001b[1;32m   1017\u001b[0m         \u001b[38;5;124mf\u001b[39m\u001b[38;5;124m\"\u001b[39m\u001b[38;5;132;01m{\u001b[39;00m\u001b[38;5;28mself\u001b[39m\u001b[38;5;241m.\u001b[39mstatus_code\u001b[38;5;132;01m}\u001b[39;00m\u001b[38;5;124m Server Error: \u001b[39m\u001b[38;5;132;01m{\u001b[39;00mreason\u001b[38;5;132;01m}\u001b[39;00m\u001b[38;5;124m for url: \u001b[39m\u001b[38;5;132;01m{\u001b[39;00m\u001b[38;5;28mself\u001b[39m\u001b[38;5;241m.\u001b[39murl\u001b[38;5;132;01m}\u001b[39;00m\u001b[38;5;124m\"\u001b[39m\n\u001b[1;32m   1018\u001b[0m     )\n\u001b[1;32m   1020\u001b[0m \u001b[38;5;28;01mif\u001b[39;00m http_error_msg:\n\u001b[0;32m-> 1021\u001b[0m     \u001b[38;5;28;01mraise\u001b[39;00m HTTPError(http_error_msg, response\u001b[38;5;241m=\u001b[39m\u001b[38;5;28mself\u001b[39m)\n",
      "\u001b[0;31mHTTPError\u001b[0m: 405 Client Error: Method Not Allowed for url: http://localhost:5001/api/v0/id?stream-channels=true&encoding=json"
     ]
    }
   ],
   "source": [
    "import ipfsApi\n",
    "api = ipfsApi.Client('localhost', 5001)\n",
    "api.id()"
   ]
  },
  {
   "cell_type": "code",
   "execution_count": 333,
   "id": "2e14afca-ce2e-4e0e-9e77-991308cbd483",
   "metadata": {},
   "outputs": [],
   "source": [
    "# client = ipfshttpclient.connect(addr=\"http://34.32.233.93:5001\")  # Connects to: /dns/localhost/tcp/5001/http"
   ]
  },
  {
   "cell_type": "code",
   "execution_count": null,
   "id": "2707cb0e-fc5d-4288-89c7-70d7d9c75a6a",
   "metadata": {},
   "outputs": [],
   "source": []
  },
  {
   "cell_type": "code",
   "execution_count": 322,
   "id": "68529fac-51d8-4210-9c2f-edbb6d229b6c",
   "metadata": {},
   "outputs": [],
   "source": [
    "import requests"
   ]
  },
  {
   "cell_type": "code",
   "execution_count": 325,
   "id": "e364fba7-20b5-4d94-b1a8-7a005f6928e7",
   "metadata": {
    "editable": true,
    "slideshow": {
     "slide_type": ""
    },
    "tags": []
   },
   "outputs": [],
   "source": [
    "r = requests.post(\"http://34.32.233.93:5001/api/v0/cat?arg=\" + \n",
    "             \"QmZG8N5mxLiNCzE8Vnvtcr7UXbSVMQnHw4oCauJzpRkPM6\")\n",
    "\n",
    "# http://34.32.233.93:5001/api/v0/cat?arg=QmPwCuWtah3NLRhEBcksMmSQvoqrtvzDCnJtrmZiPrRWWq\n",
    "\n"
   ]
  },
  {
   "cell_type": "code",
   "execution_count": 334,
   "id": "00733e25-e65a-4eae-a85a-e2932e0a8133",
   "metadata": {},
   "outputs": [],
   "source": [
    "with open(\"test.pth\", \"wb\") as f:\n",
    "    f.write(r.content)"
   ]
  },
  {
   "cell_type": "code",
   "execution_count": 335,
   "id": "bd4f4bfd-37c8-4b55-83a3-2447a1e455e1",
   "metadata": {},
   "outputs": [
    {
     "data": {
      "text/plain": [
       "<All keys matched successfully>"
      ]
     },
     "execution_count": 335,
     "metadata": {},
     "output_type": "execute_result"
    }
   ],
   "source": [
    "r.content\n",
    "model.load_state_dict(torch.load(\"test.pth\"))"
   ]
  },
  {
   "cell_type": "code",
   "execution_count": null,
   "id": "4ea710e9-698d-423d-a4a0-6fc05d1a05d4",
   "metadata": {},
   "outputs": [],
   "source": []
  }
 ],
 "metadata": {
  "kernelspec": {
   "display_name": "Python 3 (ipykernel)",
   "language": "python",
   "name": "python3"
  },
  "language_info": {
   "codemirror_mode": {
    "name": "ipython",
    "version": 3
   },
   "file_extension": ".py",
   "mimetype": "text/x-python",
   "name": "python",
   "nbconvert_exporter": "python",
   "pygments_lexer": "ipython3",
   "version": "3.12.3"
  }
 },
 "nbformat": 4,
 "nbformat_minor": 5
}
