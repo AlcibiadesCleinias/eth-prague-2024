{
 "cells": [
  {
   "cell_type": "code",
   "execution_count": 97,
   "id": "29be2f89-d553-42bb-91c3-043932fb508d",
   "metadata": {
    "scrolled": true
   },
   "outputs": [
    {
     "name": "stdout",
     "output_type": "stream",
     "text": [
      "Requirement already satisfied: ipfs-api==0.2.3 in /opt/homebrew/lib/python3.12/site-packages (0.2.3)\n",
      "Requirement already satisfied: urllib3 in /opt/homebrew/lib/python3.12/site-packages (2.2.1)\n",
      "Requirement already satisfied: IPFS-Toolkit in /opt/homebrew/lib/python3.12/site-packages (0.5.23)\n",
      "Requirement already satisfied: subgrounds in /opt/homebrew/lib/python3.12/site-packages (1.8.1)\n",
      "Requirement already satisfied: torch in /opt/homebrew/lib/python3.12/site-packages (2.3.0)\n",
      "Requirement already satisfied: web3 in /opt/homebrew/lib/python3.12/site-packages (6.19.0)\n",
      "Collecting python-dotenv\n",
      "  Downloading python_dotenv-1.0.1-py3-none-any.whl.metadata (23 kB)\n",
      "Requirement already satisfied: requests>=2.2.1 in /opt/homebrew/lib/python3.12/site-packages (from ipfs-api==0.2.3) (2.31.0)\n",
      "Requirement already satisfied: six in /opt/homebrew/lib/python3.12/site-packages (from ipfs-api==0.2.3) (1.16.0)\n",
      "Requirement already satisfied: appdirs in /opt/homebrew/lib/python3.12/site-packages (from IPFS-Toolkit) (1.4.4)\n",
      "Requirement already satisfied: httpcore in /opt/homebrew/lib/python3.12/site-packages (from IPFS-Toolkit) (0.17.3)\n",
      "Requirement already satisfied: httpx in /opt/homebrew/lib/python3.12/site-packages (from IPFS-Toolkit) (0.24.1)\n",
      "Requirement already satisfied: idna in /opt/homebrew/lib/python3.12/site-packages (from IPFS-Toolkit) (3.6)\n",
      "Requirement already satisfied: multiaddr in /opt/homebrew/lib/python3.12/site-packages (from IPFS-Toolkit) (0.0.9)\n",
      "Requirement already satisfied: termcolor in /opt/homebrew/lib/python3.12/site-packages (from IPFS-Toolkit) (2.4.0)\n",
      "Requirement already satisfied: varint in /opt/homebrew/lib/python3.12/site-packages (from IPFS-Toolkit) (1.0.2)\n",
      "Requirement already satisfied: pandas<3.0,>=2.1 in /opt/homebrew/lib/python3.12/site-packages (from subgrounds) (2.2.2)\n",
      "Requirement already satisfied: pipe<3.0,>=2.0 in /opt/homebrew/lib/python3.12/site-packages (from subgrounds) (2.2)\n",
      "Requirement already satisfied: pydantic<3.0,>=2.0 in /opt/homebrew/lib/python3.12/site-packages (from subgrounds) (2.7.2)\n",
      "Requirement already satisfied: pytest-asyncio<0.22.0,>=0.21.0 in /opt/homebrew/lib/python3.12/site-packages (from subgrounds) (0.21.2)\n",
      "Requirement already satisfied: filelock in /opt/homebrew/lib/python3.12/site-packages (from torch) (3.13.3)\n",
      "Requirement already satisfied: typing-extensions>=4.8.0 in /opt/homebrew/lib/python3.12/site-packages (from torch) (4.11.0)\n",
      "Requirement already satisfied: sympy in /opt/homebrew/lib/python3.12/site-packages (from torch) (1.12.1)\n",
      "Requirement already satisfied: networkx in /opt/homebrew/lib/python3.12/site-packages (from torch) (3.3)\n",
      "Requirement already satisfied: jinja2 in /opt/homebrew/lib/python3.12/site-packages (from torch) (3.1.3)\n",
      "Requirement already satisfied: fsspec in /opt/homebrew/lib/python3.12/site-packages (from torch) (2024.3.1)\n",
      "Requirement already satisfied: aiohttp>=3.7.4.post0 in /opt/homebrew/lib/python3.12/site-packages (from web3) (3.9.5)\n",
      "Requirement already satisfied: eth-abi>=4.0.0 in /opt/homebrew/lib/python3.12/site-packages (from web3) (5.1.0)\n",
      "Requirement already satisfied: eth-account<0.13,>=0.8.0 in /opt/homebrew/lib/python3.12/site-packages (from web3) (0.11.2)\n",
      "Requirement already satisfied: eth-hash>=0.5.1 in /opt/homebrew/lib/python3.12/site-packages (from eth-hash[pycryptodome]>=0.5.1->web3) (0.7.0)\n",
      "Requirement already satisfied: eth-typing!=4.2.0,>=3.0.0 in /opt/homebrew/lib/python3.12/site-packages (from web3) (4.2.3)\n",
      "Requirement already satisfied: eth-utils>=2.1.0 in /opt/homebrew/lib/python3.12/site-packages (from web3) (4.1.1)\n",
      "Requirement already satisfied: hexbytes<0.4.0,>=0.1.0 in /opt/homebrew/lib/python3.12/site-packages (from web3) (0.3.1)\n",
      "Requirement already satisfied: jsonschema>=4.0.0 in /opt/homebrew/lib/python3.12/site-packages (from web3) (4.21.1)\n",
      "Requirement already satisfied: lru-dict<1.3.0,>=1.1.6 in /opt/homebrew/lib/python3.12/site-packages (from web3) (1.2.0)\n",
      "Requirement already satisfied: protobuf>=4.21.6 in /opt/homebrew/lib/python3.12/site-packages (from web3) (4.25.3)\n",
      "Requirement already satisfied: websockets>=10.0.0 in /opt/homebrew/lib/python3.12/site-packages (from web3) (12.0)\n",
      "Requirement already satisfied: pyunormalize>=15.0.0 in /opt/homebrew/lib/python3.12/site-packages (from web3) (15.1.0)\n",
      "Requirement already satisfied: aiosignal>=1.1.2 in /opt/homebrew/lib/python3.12/site-packages (from aiohttp>=3.7.4.post0->web3) (1.3.1)\n",
      "Requirement already satisfied: attrs>=17.3.0 in /opt/homebrew/lib/python3.12/site-packages (from aiohttp>=3.7.4.post0->web3) (23.2.0)\n",
      "Requirement already satisfied: frozenlist>=1.1.1 in /opt/homebrew/lib/python3.12/site-packages (from aiohttp>=3.7.4.post0->web3) (1.4.1)\n",
      "Requirement already satisfied: multidict<7.0,>=4.5 in /opt/homebrew/lib/python3.12/site-packages (from aiohttp>=3.7.4.post0->web3) (6.0.5)\n",
      "Requirement already satisfied: yarl<2.0,>=1.0 in /opt/homebrew/lib/python3.12/site-packages (from aiohttp>=3.7.4.post0->web3) (1.9.4)\n",
      "Requirement already satisfied: parsimonious<0.11.0,>=0.10.0 in /opt/homebrew/lib/python3.12/site-packages (from eth-abi>=4.0.0->web3) (0.10.0)\n",
      "Requirement already satisfied: bitarray>=2.4.0 in /opt/homebrew/lib/python3.12/site-packages (from eth-account<0.13,>=0.8.0->web3) (2.9.2)\n",
      "Requirement already satisfied: eth-keyfile>=0.6.0 in /opt/homebrew/lib/python3.12/site-packages (from eth-account<0.13,>=0.8.0->web3) (0.8.1)\n",
      "Requirement already satisfied: eth-keys>=0.4.0 in /opt/homebrew/lib/python3.12/site-packages (from eth-account<0.13,>=0.8.0->web3) (0.5.1)\n",
      "Requirement already satisfied: eth-rlp>=0.3.0 in /opt/homebrew/lib/python3.12/site-packages (from eth-account<0.13,>=0.8.0->web3) (1.0.1)\n",
      "Requirement already satisfied: rlp>=1.0.0 in /opt/homebrew/lib/python3.12/site-packages (from eth-account<0.13,>=0.8.0->web3) (4.0.1)\n",
      "Requirement already satisfied: ckzg>=0.4.3 in /opt/homebrew/lib/python3.12/site-packages (from eth-account<0.13,>=0.8.0->web3) (1.0.2)\n",
      "Requirement already satisfied: pycryptodome<4,>=3.6.6 in /opt/homebrew/lib/python3.12/site-packages (from eth-hash[pycryptodome]>=0.5.1->web3) (3.20.0)\n",
      "Requirement already satisfied: cytoolz>=0.10.1 in /opt/homebrew/lib/python3.12/site-packages (from eth-utils>=2.1.0->web3) (0.12.3)\n",
      "Requirement already satisfied: certifi in /opt/homebrew/lib/python3.12/site-packages (from httpx->IPFS-Toolkit) (2024.2.2)\n",
      "Requirement already satisfied: sniffio in /opt/homebrew/lib/python3.12/site-packages (from httpx->IPFS-Toolkit) (1.3.1)\n",
      "Requirement already satisfied: h11<0.15,>=0.13 in /opt/homebrew/lib/python3.12/site-packages (from httpcore->IPFS-Toolkit) (0.14.0)\n",
      "Requirement already satisfied: anyio<5.0,>=3.0 in /opt/homebrew/lib/python3.12/site-packages (from httpcore->IPFS-Toolkit) (4.3.0)\n",
      "Requirement already satisfied: h2<5,>=3 in /opt/homebrew/lib/python3.12/site-packages (from httpx[http2]<0.25.0,>=0.24.1->subgrounds) (4.1.0)\n",
      "Requirement already satisfied: jsonschema-specifications>=2023.03.6 in /opt/homebrew/lib/python3.12/site-packages (from jsonschema>=4.0.0->web3) (2023.12.1)\n",
      "Requirement already satisfied: referencing>=0.28.4 in /opt/homebrew/lib/python3.12/site-packages (from jsonschema>=4.0.0->web3) (0.34.0)\n",
      "Requirement already satisfied: rpds-py>=0.7.1 in /opt/homebrew/lib/python3.12/site-packages (from jsonschema>=4.0.0->web3) (0.18.0)\n",
      "Requirement already satisfied: numpy>=1.26.0 in /opt/homebrew/lib/python3.12/site-packages (from pandas<3.0,>=2.1->subgrounds) (1.26.4)\n",
      "Requirement already satisfied: python-dateutil>=2.8.2 in /opt/homebrew/lib/python3.12/site-packages (from pandas<3.0,>=2.1->subgrounds) (2.9.0.post0)\n",
      "Requirement already satisfied: pytz>=2020.1 in /opt/homebrew/lib/python3.12/site-packages (from pandas<3.0,>=2.1->subgrounds) (2024.1)\n",
      "Requirement already satisfied: tzdata>=2022.7 in /opt/homebrew/lib/python3.12/site-packages (from pandas<3.0,>=2.1->subgrounds) (2024.1)\n",
      "Requirement already satisfied: annotated-types>=0.4.0 in /opt/homebrew/lib/python3.12/site-packages (from pydantic<3.0,>=2.0->subgrounds) (0.7.0)\n",
      "Requirement already satisfied: pydantic-core==2.18.3 in /opt/homebrew/lib/python3.12/site-packages (from pydantic<3.0,>=2.0->subgrounds) (2.18.3)\n",
      "Requirement already satisfied: pytest>=7.0.0 in /opt/homebrew/lib/python3.12/site-packages (from pytest-asyncio<0.22.0,>=0.21.0->subgrounds) (8.2.1)\n",
      "Requirement already satisfied: charset-normalizer<4,>=2 in /opt/homebrew/lib/python3.12/site-packages (from requests>=2.2.1->ipfs-api==0.2.3) (3.3.2)\n",
      "Requirement already satisfied: MarkupSafe>=2.0 in /opt/homebrew/lib/python3.12/site-packages (from jinja2->torch) (2.1.5)\n",
      "Requirement already satisfied: base58 in /opt/homebrew/lib/python3.12/site-packages (from multiaddr->IPFS-Toolkit) (2.1.1)\n",
      "Requirement already satisfied: netaddr in /opt/homebrew/lib/python3.12/site-packages (from multiaddr->IPFS-Toolkit) (1.3.0)\n",
      "Requirement already satisfied: mpmath<1.4.0,>=1.1.0 in /opt/homebrew/lib/python3.12/site-packages (from sympy->torch) (1.3.0)\n",
      "Requirement already satisfied: toolz>=0.8.0 in /opt/homebrew/lib/python3.12/site-packages (from cytoolz>=0.10.1->eth-utils>=2.1.0->web3) (0.12.1)\n",
      "Requirement already satisfied: hyperframe<7,>=6.0 in /opt/homebrew/lib/python3.12/site-packages (from h2<5,>=3->httpx[http2]<0.25.0,>=0.24.1->subgrounds) (6.0.1)\n",
      "Requirement already satisfied: hpack<5,>=4.0 in /opt/homebrew/lib/python3.12/site-packages (from h2<5,>=3->httpx[http2]<0.25.0,>=0.24.1->subgrounds) (4.0.0)\n",
      "Requirement already satisfied: regex>=2022.3.15 in /opt/homebrew/lib/python3.12/site-packages (from parsimonious<0.11.0,>=0.10.0->eth-abi>=4.0.0->web3) (2023.12.25)\n",
      "Requirement already satisfied: iniconfig in /opt/homebrew/lib/python3.12/site-packages (from pytest>=7.0.0->pytest-asyncio<0.22.0,>=0.21.0->subgrounds) (2.0.0)\n",
      "Requirement already satisfied: packaging in /opt/homebrew/lib/python3.12/site-packages (from pytest>=7.0.0->pytest-asyncio<0.22.0,>=0.21.0->subgrounds) (24.0)\n",
      "Requirement already satisfied: pluggy<2.0,>=1.5 in /opt/homebrew/lib/python3.12/site-packages (from pytest>=7.0.0->pytest-asyncio<0.22.0,>=0.21.0->subgrounds) (1.5.0)\n",
      "Downloading python_dotenv-1.0.1-py3-none-any.whl (19 kB)\n",
      "Installing collected packages: python-dotenv\n",
      "Successfully installed python-dotenv-1.0.1\n"
     ]
    }
   ],
   "source": [
    "!python3 -m pip install ipfs-api==0.2.3 urllib3 IPFS-Toolkit subgrounds torch web3 python-dotenv --upgrade --break-system-packages"
   ]
  },
  {
   "cell_type": "code",
   "execution_count": 12,
   "id": "05bf3fb4-6eb4-41c6-9073-028a059d73ef",
   "metadata": {
    "editable": true,
    "slideshow": {
     "slide_type": ""
    },
    "tags": []
   },
   "outputs": [],
   "source": [
    "import ipfsApi\n",
    "\n",
    "def write_to_ipfs(client, file_path):\n",
    "    # Connect to the local IPFS node\n",
    "\n",
    "    # Add a file to IPFS\n",
    "    res = client.add(file_path)\n",
    "    \n",
    "    # Print the IPFS hash (CID) of the added file\n",
    "    print(f\"Added file to IPFS with CID: {res['Hash']}\")\n",
    "\n",
    "    return res['Hash']"
   ]
  },
  {
   "cell_type": "code",
   "execution_count": 13,
   "id": "3e32879f-b4a6-415e-939b-730a8488fbe3",
   "metadata": {},
   "outputs": [],
   "source": [
    "client = ipfsApi.Client('127.0.0.1', 5001)\n",
    "# client = ipfshttpclient.connect()"
   ]
  },
  {
   "cell_type": "code",
   "execution_count": 14,
   "id": "93e7eb38-1972-40ea-a9b8-2db4ac8a7d4e",
   "metadata": {},
   "outputs": [],
   "source": [
    "# client.id()"
   ]
  },
  {
   "cell_type": "code",
   "execution_count": 15,
   "id": "18ae66b8-c782-43f1-8925-0da28d3d05a7",
   "metadata": {},
   "outputs": [],
   "source": [
    "# client.version()"
   ]
  },
  {
   "cell_type": "code",
   "execution_count": 16,
   "id": "1d77e42d-1450-4362-9b2b-9cdf68d8198b",
   "metadata": {},
   "outputs": [
    {
     "data": {
      "text/plain": [
       "'QmVocnDjam1EUunBKVNQpX4RGftscxKYkUfC4RDL1uq5to'"
      ]
     },
     "execution_count": 16,
     "metadata": {},
     "output_type": "execute_result"
    }
   ],
   "source": [
    "lst = [1, 77, 'lol']\n",
    "h = client.add_pyobj(lst)\n",
    "h"
   ]
  },
  {
   "cell_type": "code",
   "execution_count": 8,
   "id": "3c4e1540-5245-4b95-8ebb-385f200584bf",
   "metadata": {},
   "outputs": [
    {
     "data": {
      "text/plain": [
       "'QmYfNcRcvvyPKmc1DoDkZsA7HnZnyMoeoADegEsimXaxSL'"
      ]
     },
     "execution_count": 8,
     "metadata": {},
     "output_type": "execute_result"
    }
   ],
   "source": [
    "client.add_json({\"a\": \"b\"})"
   ]
  },
  {
   "cell_type": "code",
   "execution_count": 9,
   "id": "a0c28dc1-c63e-43b1-91d3-c48234bab64b",
   "metadata": {
    "scrolled": true
   },
   "outputs": [
    {
     "ename": "HTTPError",
     "evalue": "405 Client Error: Method Not Allowed for url: http://127.0.0.1:5001/api/v0/cat?stream-channels=true&encoding=json&arg=QmYfNcRcvvyPKmc1DoDkZsA7HnZnyMoeoADegEsimXaxSL",
     "output_type": "error",
     "traceback": [
      "\u001b[0;31m---------------------------------------------------------------------------\u001b[0m",
      "\u001b[0;31mHTTPError\u001b[0m                                 Traceback (most recent call last)",
      "Cell \u001b[0;32mIn[9], line 1\u001b[0m\n\u001b[0;32m----> 1\u001b[0m \u001b[43mclient\u001b[49m\u001b[38;5;241;43m.\u001b[39;49m\u001b[43mget_json\u001b[49m\u001b[43m(\u001b[49m\u001b[38;5;124;43m\"\u001b[39;49m\u001b[38;5;124;43mQmYfNcRcvvyPKmc1DoDkZsA7HnZnyMoeoADegEsimXaxSL\u001b[39;49m\u001b[38;5;124;43m\"\u001b[39;49m\u001b[43m)\u001b[49m\n",
      "File \u001b[0;32m/opt/homebrew/lib/python3.12/site-packages/ipfsApi/client.py:529\u001b[0m, in \u001b[0;36mClient.get_json\u001b[0;34m(self, multihash, **kwargs)\u001b[0m\n\u001b[1;32m    522\u001b[0m \u001b[38;5;28;01mdef\u001b[39;00m \u001b[38;5;21mget_json\u001b[39m(\u001b[38;5;28mself\u001b[39m, multihash, \u001b[38;5;241m*\u001b[39m\u001b[38;5;241m*\u001b[39mkwargs):\n\u001b[1;32m    523\u001b[0m \u001b[38;5;250m    \u001b[39m\u001b[38;5;124;03m\"\"\"\u001b[39;00m\n\u001b[1;32m    524\u001b[0m \u001b[38;5;124;03m    Loads a json object from IPFS.\u001b[39;00m\n\u001b[1;32m    525\u001b[0m \n\u001b[1;32m    526\u001b[0m \u001b[38;5;124;03m    >> c.get_json('QmVz9g7m5u3oHiNKHj2CJX1dbG1gtismRS3g9NaPBBLbob')\u001b[39;00m\n\u001b[1;32m    527\u001b[0m \u001b[38;5;124;03m    {u'one': 1, u'two': 2, u'three': 3}\u001b[39;00m\n\u001b[1;32m    528\u001b[0m \u001b[38;5;124;03m    \"\"\"\u001b[39;00m\n\u001b[0;32m--> 529\u001b[0m     \u001b[38;5;28;01mreturn\u001b[39;00m \u001b[38;5;28;43mself\u001b[39;49m\u001b[38;5;241;43m.\u001b[39;49m\u001b[43mcat\u001b[49m\u001b[43m(\u001b[49m\u001b[43mmultihash\u001b[49m\u001b[43m,\u001b[49m\u001b[43m \u001b[49m\u001b[43mdecoder\u001b[49m\u001b[38;5;241;43m=\u001b[39;49m\u001b[38;5;124;43m'\u001b[39;49m\u001b[38;5;124;43mjson\u001b[39;49m\u001b[38;5;124;43m'\u001b[39;49m\u001b[43m,\u001b[49m\u001b[43m \u001b[49m\u001b[38;5;241;43m*\u001b[39;49m\u001b[38;5;241;43m*\u001b[39;49m\u001b[43mkwargs\u001b[49m\u001b[43m)\u001b[49m\n",
      "File \u001b[0;32m/opt/homebrew/lib/python3.12/site-packages/ipfsApi/client.py:126\u001b[0m, in \u001b[0;36mClient.cat\u001b[0;34m(self, multihash, **kwargs)\u001b[0m\n\u001b[1;32m    115\u001b[0m \u001b[38;5;28;01mdef\u001b[39;00m \u001b[38;5;21mcat\u001b[39m(\u001b[38;5;28mself\u001b[39m, multihash, \u001b[38;5;241m*\u001b[39m\u001b[38;5;241m*\u001b[39mkwargs):\n\u001b[1;32m    116\u001b[0m \u001b[38;5;250m    \u001b[39m\u001b[38;5;124mr\u001b[39m\u001b[38;5;124;03m\"\"\"\u001b[39;00m\n\u001b[1;32m    117\u001b[0m \u001b[38;5;124;03m    Returns the contents of a file identified by hash, as a string\u001b[39;00m\n\u001b[1;32m    118\u001b[0m \n\u001b[0;32m   (...)\u001b[0m\n\u001b[1;32m    124\u001b[0m \u001b[38;5;124;03m    u'<!DOCTYPE html>\\n<html>\\n\\n<head>\\n<title>ipfs example viewer</t'\u001b[39;00m\n\u001b[1;32m    125\u001b[0m \u001b[38;5;124;03m    \"\"\"\u001b[39;00m\n\u001b[0;32m--> 126\u001b[0m     \u001b[38;5;28;01mreturn\u001b[39;00m \u001b[38;5;28;43mself\u001b[39;49m\u001b[38;5;241;43m.\u001b[39;49m\u001b[43m_cat\u001b[49m\u001b[38;5;241;43m.\u001b[39;49m\u001b[43mrequest\u001b[49m\u001b[43m(\u001b[49m\u001b[38;5;28;43mself\u001b[39;49m\u001b[38;5;241;43m.\u001b[39;49m\u001b[43m_client\u001b[49m\u001b[43m,\u001b[49m\u001b[43m \u001b[49m\u001b[43mmultihash\u001b[49m\u001b[43m,\u001b[49m\u001b[43m \u001b[49m\u001b[38;5;241;43m*\u001b[39;49m\u001b[38;5;241;43m*\u001b[39;49m\u001b[43mkwargs\u001b[49m\u001b[43m)\u001b[49m\n",
      "File \u001b[0;32m/opt/homebrew/lib/python3.12/site-packages/ipfsApi/commands.py:31\u001b[0m, in \u001b[0;36mArgCommand.request\u001b[0;34m(self, client, *args, **kwargs)\u001b[0m\n\u001b[1;32m     28\u001b[0m \u001b[38;5;28;01mif\u001b[39;00m \u001b[38;5;28mself\u001b[39m\u001b[38;5;241m.\u001b[39margc \u001b[38;5;129;01mand\u001b[39;00m \u001b[38;5;28mlen\u001b[39m(args) \u001b[38;5;241m!=\u001b[39m \u001b[38;5;28mself\u001b[39m\u001b[38;5;241m.\u001b[39margc:\n\u001b[1;32m     29\u001b[0m     \u001b[38;5;28;01mraise\u001b[39;00m InvalidArguments(\u001b[38;5;124m\"\u001b[39m\u001b[38;5;124m[\u001b[39m\u001b[38;5;132;01m%s\u001b[39;00m\u001b[38;5;124m] command requires \u001b[39m\u001b[38;5;132;01m%d\u001b[39;00m\u001b[38;5;124m arguments.\u001b[39m\u001b[38;5;124m\"\u001b[39m \u001b[38;5;241m%\u001b[39m (\n\u001b[1;32m     30\u001b[0m         \u001b[38;5;28mself\u001b[39m\u001b[38;5;241m.\u001b[39mpath, \u001b[38;5;28mself\u001b[39m\u001b[38;5;241m.\u001b[39margc))\n\u001b[0;32m---> 31\u001b[0m \u001b[38;5;28;01mreturn\u001b[39;00m \u001b[43mclient\u001b[49m\u001b[38;5;241;43m.\u001b[39;49m\u001b[43mrequest\u001b[49m\u001b[43m(\u001b[49m\u001b[38;5;28;43mself\u001b[39;49m\u001b[38;5;241;43m.\u001b[39;49m\u001b[43mpath\u001b[49m\u001b[43m,\u001b[49m\u001b[43m \u001b[49m\u001b[43margs\u001b[49m\u001b[38;5;241;43m=\u001b[39;49m\u001b[43margs\u001b[49m\u001b[43m,\u001b[49m\u001b[43m \u001b[49m\u001b[38;5;241;43m*\u001b[39;49m\u001b[38;5;241;43m*\u001b[39;49m\u001b[43mkwargs\u001b[49m\u001b[43m)\u001b[49m\n",
      "File \u001b[0;32m/opt/homebrew/lib/python3.12/site-packages/ipfsApi/http.py:25\u001b[0m, in \u001b[0;36mpass_defaults.<locals>.wrapper\u001b[0;34m(self, *args, **kwargs)\u001b[0m\n\u001b[1;32m     23\u001b[0m merged\u001b[38;5;241m.\u001b[39mupdate(\u001b[38;5;28mself\u001b[39m\u001b[38;5;241m.\u001b[39mdefaults)\n\u001b[1;32m     24\u001b[0m merged\u001b[38;5;241m.\u001b[39mupdate(kwargs)\n\u001b[0;32m---> 25\u001b[0m \u001b[38;5;28;01mreturn\u001b[39;00m \u001b[43mf\u001b[49m\u001b[43m(\u001b[49m\u001b[38;5;28;43mself\u001b[39;49m\u001b[43m,\u001b[49m\u001b[43m \u001b[49m\u001b[38;5;241;43m*\u001b[39;49m\u001b[43margs\u001b[49m\u001b[43m,\u001b[49m\u001b[43m \u001b[49m\u001b[38;5;241;43m*\u001b[39;49m\u001b[38;5;241;43m*\u001b[39;49m\u001b[43mmerged\u001b[49m\u001b[43m)\u001b[49m\n",
      "File \u001b[0;32m/opt/homebrew/lib/python3.12/site-packages/ipfsApi/http.py:95\u001b[0m, in \u001b[0;36mHTTPClient.request\u001b[0;34m(self, path, args, files, opts, decoder, **kwargs)\u001b[0m\n\u001b[1;32m     92\u001b[0m         ret \u001b[38;5;241m=\u001b[39m res\u001b[38;5;241m.\u001b[39mtext\n\u001b[1;32m     94\u001b[0m \u001b[38;5;28;01mtry\u001b[39;00m:\n\u001b[0;32m---> 95\u001b[0m     \u001b[43mres\u001b[49m\u001b[38;5;241;43m.\u001b[39;49m\u001b[43mraise_for_status\u001b[49m\u001b[43m(\u001b[49m\u001b[43m)\u001b[49m\n\u001b[1;32m     96\u001b[0m \u001b[38;5;28;01mexcept\u001b[39;00m requests\u001b[38;5;241m.\u001b[39mexceptions\u001b[38;5;241m.\u001b[39mHTTPError:\n\u001b[1;32m     97\u001b[0m     \u001b[38;5;66;03m# If we have decoded an error response from the server,\u001b[39;00m\n\u001b[1;32m     98\u001b[0m     \u001b[38;5;66;03m# use that as the exception message; otherwise, just pass\u001b[39;00m\n\u001b[1;32m     99\u001b[0m     \u001b[38;5;66;03m# the exception on to the caller.\u001b[39;00m\n\u001b[1;32m    100\u001b[0m     \u001b[38;5;28;01mif\u001b[39;00m \u001b[38;5;124m'\u001b[39m\u001b[38;5;124mMessage\u001b[39m\u001b[38;5;124m'\u001b[39m \u001b[38;5;129;01min\u001b[39;00m ret:\n",
      "File \u001b[0;32m/opt/homebrew/lib/python3.12/site-packages/requests/models.py:1021\u001b[0m, in \u001b[0;36mResponse.raise_for_status\u001b[0;34m(self)\u001b[0m\n\u001b[1;32m   1016\u001b[0m     http_error_msg \u001b[38;5;241m=\u001b[39m (\n\u001b[1;32m   1017\u001b[0m         \u001b[38;5;124mf\u001b[39m\u001b[38;5;124m\"\u001b[39m\u001b[38;5;132;01m{\u001b[39;00m\u001b[38;5;28mself\u001b[39m\u001b[38;5;241m.\u001b[39mstatus_code\u001b[38;5;132;01m}\u001b[39;00m\u001b[38;5;124m Server Error: \u001b[39m\u001b[38;5;132;01m{\u001b[39;00mreason\u001b[38;5;132;01m}\u001b[39;00m\u001b[38;5;124m for url: \u001b[39m\u001b[38;5;132;01m{\u001b[39;00m\u001b[38;5;28mself\u001b[39m\u001b[38;5;241m.\u001b[39murl\u001b[38;5;132;01m}\u001b[39;00m\u001b[38;5;124m\"\u001b[39m\n\u001b[1;32m   1018\u001b[0m     )\n\u001b[1;32m   1020\u001b[0m \u001b[38;5;28;01mif\u001b[39;00m http_error_msg:\n\u001b[0;32m-> 1021\u001b[0m     \u001b[38;5;28;01mraise\u001b[39;00m HTTPError(http_error_msg, response\u001b[38;5;241m=\u001b[39m\u001b[38;5;28mself\u001b[39m)\n",
      "\u001b[0;31mHTTPError\u001b[0m: 405 Client Error: Method Not Allowed for url: http://127.0.0.1:5001/api/v0/cat?stream-channels=true&encoding=json&arg=QmYfNcRcvvyPKmc1DoDkZsA7HnZnyMoeoADegEsimXaxSL"
     ]
    }
   ],
   "source": [
    "client.get_json(\"QmYfNcRcvvyPKmc1DoDkZsA7HnZnyMoeoADegEsimXaxSL\")"
   ]
  },
  {
   "cell_type": "code",
   "execution_count": 92,
   "id": "9cda03a7-3295-49e4-9fc8-92ea947b453d",
   "metadata": {
    "scrolled": true
   },
   "outputs": [],
   "source": [
    "import requests"
   ]
  },
  {
   "cell_type": "code",
   "execution_count": 93,
   "id": "b2571871-2240-4dda-b5d0-e504339fe379",
   "metadata": {},
   "outputs": [],
   "source": [
    "r = requests.get(\"https://ipfs.io/ipfs/Qmdc4HtimQNcjUyQUp1FPQ8SQSMa54eqN1azUPUifX13jc\")"
   ]
  },
  {
   "cell_type": "code",
   "execution_count": 94,
   "id": "424bd236-07b7-4147-99d9-c2ebef306e72",
   "metadata": {},
   "outputs": [
    {
     "data": {
      "text/plain": [
       "'\"test\"\\n'"
      ]
     },
     "execution_count": 94,
     "metadata": {},
     "output_type": "execute_result"
    }
   ],
   "source": [
    "r.content.decode()"
   ]
  },
  {
   "cell_type": "code",
   "execution_count": 17,
   "id": "109d288c-c54e-4479-9728-2a9c6039aeb9",
   "metadata": {},
   "outputs": [],
   "source": [
    "import torch\n",
    "\n",
    "model_fn = lambda: torch.nn.Sequential(\n",
    "    torch.nn.Linear(4, 8),\n",
    "    torch.nn.ReLU(),\n",
    "    torch.nn.Linear(8, 4))"
   ]
  },
  {
   "cell_type": "code",
   "execution_count": 18,
   "id": "7d992fa3-0683-4507-9ff0-12bd5da6f142",
   "metadata": {},
   "outputs": [],
   "source": [
    "model = model_fn()\n",
    "torch.save(model.state_dict(), \"/Users/sergmiller/Downloads/test_state.pth\")"
   ]
  },
  {
   "cell_type": "code",
   "execution_count": 87,
   "id": "8db99cc6-a14f-46f0-9d21-7edf56c912fb",
   "metadata": {},
   "outputs": [
    {
     "name": "stdout",
     "output_type": "stream",
     "text": [
      "QmZG8N5mxLiNCzE8Vnvtcr7UXbSVMQnHw4oCauJzpRkPM6\n",
      "QmZPLDcxYVxwTwpKU36xmmJ6kiFiVL5BqWjf6K5bWfLD8n\n",
      "QmW3Tar6cPjufwkgAfZrfsRRWM7RJSqCxiRJNPfv6X54Uy\n",
      "QmaufME9pY9m416Z5UW5XFMaNyykGLmJnoe78oFr86TFcP\n",
      "QmZRLQqeazAjcu3PMdJstq2hN1vC8oMrEMBS3eGiHcnP5E\n"
     ]
    }
   ],
   "source": [
    "import ipfs_api\n",
    "\n",
    "N = 5\n",
    "for i in range(N):\n",
    "    model = model_fn()\n",
    "    torch.save(model.state_dict(), \"/Users/sergmiller/Downloads/test_state.pth\")\n",
    "    r = ipfs_api.http_client.add(\"/Users/sergmiller/Downloads/test_state.pth\")\n",
    "    print(r.as_json()[\"Hash\"])"
   ]
  },
  {
   "cell_type": "code",
   "execution_count": 91,
   "id": "e1c3e28b-cc9b-4f38-b4be-18079f4de2cb",
   "metadata": {},
   "outputs": [
    {
     "data": {
      "text/plain": [
       "OrderedDict([('0.weight',\n",
       "              tensor([[-0.0738,  0.0869,  0.3928, -0.3066],\n",
       "                      [ 0.2424,  0.3876, -0.1660, -0.4336],\n",
       "                      [ 0.1969, -0.4670,  0.3551,  0.0669],\n",
       "                      [-0.3318,  0.2161, -0.0250, -0.1481],\n",
       "                      [-0.4831,  0.2456,  0.3855, -0.1747],\n",
       "                      [ 0.4800, -0.4479,  0.4367,  0.0232],\n",
       "                      [ 0.2181,  0.3120,  0.1250,  0.3864],\n",
       "                      [-0.2516, -0.0652,  0.0953, -0.1061]])),\n",
       "             ('0.bias',\n",
       "              tensor([-0.0860, -0.1118, -0.0499, -0.0563, -0.3263,  0.4066,  0.4809, -0.1290])),\n",
       "             ('2.weight',\n",
       "              tensor([[ 0.1098,  0.1189, -0.3490,  0.2884, -0.2645,  0.1749, -0.2509, -0.0190],\n",
       "                      [-0.2114, -0.2610,  0.0658, -0.3206, -0.2349,  0.0206, -0.0151,  0.1680],\n",
       "                      [-0.1545, -0.1870,  0.2346, -0.2231,  0.0326, -0.2143, -0.3130,  0.0949],\n",
       "                      [-0.1196, -0.1716,  0.3493,  0.2558,  0.1881,  0.0762, -0.2476, -0.3327]])),\n",
       "             ('2.bias', tensor([-0.0853, -0.2996, -0.2258, -0.0642]))])"
      ]
     },
     "execution_count": 91,
     "metadata": {},
     "output_type": "execute_result"
    }
   ],
   "source": [
    "ipfs_hash = \"QmZG8N5mxLiNCzE8Vnvtcr7UXbSVMQnHw4oCauJzpRkPM6\"\n",
    "ipfs_api.http_client.get(ipfs_hash, \"data\")\n",
    "state_dict = torch.load(\"data/\" + ipfs_hash)\n",
    "state_dict"
   ]
  },
  {
   "cell_type": "code",
   "execution_count": 85,
   "id": "86b7669e-32e2-4ec9-9bd9-2c23f34a75fa",
   "metadata": {
    "scrolled": true
   },
   "outputs": [
    {
     "data": {
      "text/plain": [
       "<All keys matched successfully>"
      ]
     },
     "execution_count": 85,
     "metadata": {},
     "output_type": "execute_result"
    }
   ],
   "source": [
    "model.load_state_dict(torch.load(r.as_json()[\"Hash\"]))"
   ]
  },
  {
   "cell_type": "code",
   "execution_count": 46,
   "id": "633ecec1-8379-481c-8097-454dca7d294a",
   "metadata": {},
   "outputs": [
    {
     "data": {
      "text/plain": [
       "Sequential(\n",
       "  (0): Linear(in_features=4, out_features=8, bias=True)\n",
       "  (1): ReLU()\n",
       "  (2): Linear(in_features=8, out_features=4, bias=True)\n",
       ")"
      ]
     },
     "execution_count": 46,
     "metadata": {},
     "output_type": "execute_result"
    }
   ],
   "source": [
    "model"
   ]
  },
  {
   "cell_type": "code",
   "execution_count": 56,
   "id": "48e8589b-9451-46b9-a4a1-3f4434265028",
   "metadata": {},
   "outputs": [
    {
     "name": "stderr",
     "output_type": "stream",
     "text": [
      "/var/folders/t7/03tm_x3j5_g71h1nsvq1wv780000gq/T/ipykernel_58312/397916585.py:3: ResourceWarning: unclosed <socket.socket fd=91, family=30, type=1, proto=6, laddr=('::1', 49619, 0, 0), raddr=('::1', 8000, 0, 0)>\n",
      "  sg = Subgrounds()\n",
      "ResourceWarning: Enable tracemalloc to get the object allocation traceback\n"
     ]
    }
   ],
   "source": [
    "from subgrounds import Subgrounds\n",
    "\n",
    "sg = Subgrounds()\n",
    "\n",
    "# Load the subgraph\n",
    "sub = sg.load_subgraph(\n",
    "    \"http://localhost:8000/subgraphs/name/unstoppable-models\")"
   ]
  },
  {
   "cell_type": "code",
   "execution_count": null,
   "id": "9d8ff0a8-eb8c-40aa-a65c-6c3c9a6a505f",
   "metadata": {},
   "outputs": [],
   "source": [
    "sub."
   ]
  },
  {
   "cell_type": "code",
   "execution_count": 199,
   "id": "9dd550fa-0909-4bad-a07b-f67e7b5f0df2",
   "metadata": {},
   "outputs": [],
   "source": [
    "states = sg.query_df(sub.Query.modelStates())"
   ]
  },
  {
   "cell_type": "code",
   "execution_count": 200,
   "id": "ccbefd8a-463f-412f-9306-06670740ec65",
   "metadata": {},
   "outputs": [
    {
     "data": {
      "text/plain": [
       "0    False\n",
       "1     True\n",
       "2    False\n",
       "Name: modelStates_deleted, dtype: bool"
      ]
     },
     "execution_count": 200,
     "metadata": {},
     "output_type": "execute_result"
    }
   ],
   "source": [
    "states[\"modelStates_deleted\"]"
   ]
  },
  {
   "cell_type": "code",
   "execution_count": 201,
   "id": "dd88674a-424d-45ad-b01b-d63dc7fd5ce3",
   "metadata": {},
   "outputs": [
    {
     "data": {
      "text/html": [
       "<div>\n",
       "<style scoped>\n",
       "    .dataframe tbody tr th:only-of-type {\n",
       "        vertical-align: middle;\n",
       "    }\n",
       "\n",
       "    .dataframe tbody tr th {\n",
       "        vertical-align: top;\n",
       "    }\n",
       "\n",
       "    .dataframe thead th {\n",
       "        text-align: right;\n",
       "    }\n",
       "</style>\n",
       "<table border=\"1\" class=\"dataframe\">\n",
       "  <thead>\n",
       "    <tr style=\"text-align: right;\">\n",
       "      <th></th>\n",
       "      <th>modelStates_id</th>\n",
       "      <th>modelStates_url</th>\n",
       "      <th>modelStates_submittedAt</th>\n",
       "      <th>modelStates_suspectedAt</th>\n",
       "      <th>modelStates_suspectedBy</th>\n",
       "      <th>modelStates_learningPeriod_id</th>\n",
       "      <th>modelStates_deleted</th>\n",
       "    </tr>\n",
       "  </thead>\n",
       "  <tbody>\n",
       "    <tr>\n",
       "      <th>0</th>\n",
       "      <td>QmW3Tar6cPjufwkgAfZrfsRRWM7RJSqCxiRJNPfv6X54Uy</td>\n",
       "      <td>QmW3Tar6cPjufwkgAfZrfsRRWM7RJSqCxiRJNPfv6X54Uy</td>\n",
       "      <td>1717288667</td>\n",
       "      <td>NaN</td>\n",
       "      <td>None</td>\n",
       "      <td>0x2</td>\n",
       "      <td>False</td>\n",
       "    </tr>\n",
       "    <tr>\n",
       "      <th>1</th>\n",
       "      <td>QmZG8N5mxLiNCzE8Vnvtcr7UXbSVMQnHw4oCauJzpRkPM6</td>\n",
       "      <td>QmZG8N5mxLiNCzE8Vnvtcr7UXbSVMQnHw4oCauJzpRkPM6</td>\n",
       "      <td>1717288665</td>\n",
       "      <td>NaN</td>\n",
       "      <td>None</td>\n",
       "      <td>0x1</td>\n",
       "      <td>True</td>\n",
       "    </tr>\n",
       "    <tr>\n",
       "      <th>2</th>\n",
       "      <td>QmZPLDcxYVxwTwpKU36xmmJ6kiFiVL5BqWjf6K5bWfLD8n</td>\n",
       "      <td>QmZPLDcxYVxwTwpKU36xmmJ6kiFiVL5BqWjf6K5bWfLD8n</td>\n",
       "      <td>1717288667</td>\n",
       "      <td>1.717289e+09</td>\n",
       "      <td>0xf39fd6e51aad88f6f4ce6ab8827279cfffb92266</td>\n",
       "      <td>0x2</td>\n",
       "      <td>False</td>\n",
       "    </tr>\n",
       "  </tbody>\n",
       "</table>\n",
       "</div>"
      ],
      "text/plain": [
       "                                   modelStates_id  \\\n",
       "0  QmW3Tar6cPjufwkgAfZrfsRRWM7RJSqCxiRJNPfv6X54Uy   \n",
       "1  QmZG8N5mxLiNCzE8Vnvtcr7UXbSVMQnHw4oCauJzpRkPM6   \n",
       "2  QmZPLDcxYVxwTwpKU36xmmJ6kiFiVL5BqWjf6K5bWfLD8n   \n",
       "\n",
       "                                  modelStates_url  modelStates_submittedAt  \\\n",
       "0  QmW3Tar6cPjufwkgAfZrfsRRWM7RJSqCxiRJNPfv6X54Uy               1717288667   \n",
       "1  QmZG8N5mxLiNCzE8Vnvtcr7UXbSVMQnHw4oCauJzpRkPM6               1717288665   \n",
       "2  QmZPLDcxYVxwTwpKU36xmmJ6kiFiVL5BqWjf6K5bWfLD8n               1717288667   \n",
       "\n",
       "   modelStates_suspectedAt                     modelStates_suspectedBy  \\\n",
       "0                      NaN                                        None   \n",
       "1                      NaN                                        None   \n",
       "2             1.717289e+09  0xf39fd6e51aad88f6f4ce6ab8827279cfffb92266   \n",
       "\n",
       "  modelStates_learningPeriod_id  modelStates_deleted  \n",
       "0                           0x2                False  \n",
       "1                           0x1                 True  \n",
       "2                           0x2                False  "
      ]
     },
     "execution_count": 201,
     "metadata": {},
     "output_type": "execute_result"
    }
   ],
   "source": [
    "states"
   ]
  },
  {
   "cell_type": "code",
   "execution_count": 64,
   "id": "315c7a18-eb14-4a51-87fc-296b56a83297",
   "metadata": {},
   "outputs": [
    {
     "data": {
      "text/plain": [
       "0    https://linktodatafoo1\n",
       "1    https://linktodatafoo2\n",
       "Name: modelStates_url, dtype: object"
      ]
     },
     "execution_count": 64,
     "metadata": {},
     "output_type": "execute_result"
    }
   ],
   "source": [
    "states[\"modelStates_url\"]"
   ]
  },
  {
   "cell_type": "code",
   "execution_count": 193,
   "id": "9ec7a022-a53a-4c99-9060-f539804db9ce",
   "metadata": {
    "editable": true,
    "slideshow": {
     "slide_type": ""
    },
    "tags": []
   },
   "outputs": [
    {
     "data": {
      "text/plain": [
       "<module 'web3_utils' from '/Users/sergmiller/Documents/my/eth-prague-2024/research/web3_utils.py'>"
      ]
     },
     "execution_count": 193,
     "metadata": {},
     "output_type": "execute_result"
    }
   ],
   "source": [
    "import web3_utils\n",
    "from importlib import reload\n",
    "reload(web3_utils)"
   ]
  },
  {
   "cell_type": "code",
   "execution_count": 194,
   "id": "6d8cf827-d28f-4df9-a40d-c04c2bd035f3",
   "metadata": {},
   "outputs": [],
   "source": [
    "import json"
   ]
  },
  {
   "cell_type": "code",
   "execution_count": 195,
   "id": "a5f67c8e-7265-448d-b90a-24ab27338c0a",
   "metadata": {
    "editable": true,
    "slideshow": {
     "slide_type": ""
    },
    "tags": []
   },
   "outputs": [],
   "source": [
    "h = \"QmZRLQqeazAjcu3PMdJstq2hN1vC8oMrEMBS3eGiHcnP5E\""
   ]
  },
  {
   "cell_type": "code",
   "execution_count": 197,
   "id": "c74e7ed7-90d0-49e4-8433-e0a1ea048266",
   "metadata": {
    "editable": true,
    "scrolled": true,
    "slideshow": {
     "slide_type": ""
    },
    "tags": []
   },
   "outputs": [
    {
     "data": {
      "text/plain": [
       "AttributeDict({'type': 2,\n",
       " 'status': 1,\n",
       " 'cumulativeGasUsed': 118283,\n",
       " 'logs': [AttributeDict({'address': '0x1429859428C0aBc9C2C47C8Ee9FBaf82cFA0F20f',\n",
       "   'topics': [HexBytes('0x88da22df40e594023efac666521a621f15c10cba4708e3bb26853d578fff25ef'),\n",
       "    HexBytes('0x000000000000000000000000f39fd6e51aad88f6f4ce6ab8827279cfffb92266')],\n",
       "   'data': HexBytes('0x00000000000000000000000000000000000000000000000000000000665bbba100000000000000000000000000000000000000000000000000000000665bbccd00000000000000000000000000000000000000000000000000000000000000030000000000000000000000000000000000000000000000000000000000000002'),\n",
       "   'blockHash': HexBytes('0x54e170f947ad1c65bfac4cdbc1619981d115a0dfc1396cd61fd4822c137f984d'),\n",
       "   'blockNumber': 70,\n",
       "   'blockTimestamp': '0x665bbba3',\n",
       "   'transactionHash': HexBytes('0xd0802d01b23101b8fd4ecb77051691212e0d8d939a9d1612e12475b96d32b662'),\n",
       "   'transactionIndex': 0,\n",
       "   'logIndex': 0,\n",
       "   'removed': False})],\n",
       " 'logsBloom': HexBytes('0x00020000000000000000000000000000000000000000000000000000000000000000000000000000000000000000000000000000000000000000000004000000000000000000000000000000000000000000000000000000000000000000000000000000000000000000000100000000000000000100000000000000000000000000010000000000000000000000000000000000000000000000000000400000000000000000000000000000000000000000000000010000000000000000000000000000000000200000000000000000000000002000000000000000000000000000000000000000000000000000000000000000000000000000000000000000'),\n",
       " 'transactionHash': HexBytes('0xd0802d01b23101b8fd4ecb77051691212e0d8d939a9d1612e12475b96d32b662'),\n",
       " 'transactionIndex': 0,\n",
       " 'blockHash': HexBytes('0x54e170f947ad1c65bfac4cdbc1619981d115a0dfc1396cd61fd4822c137f984d'),\n",
       " 'blockNumber': 70,\n",
       " 'gasUsed': 118283,\n",
       " 'effectiveGasPrice': 1000165824,\n",
       " 'blobGasPrice': 1,\n",
       " 'from': '0xf39Fd6e51aad88F6F4ce6aB8827279cffFb92266',\n",
       " 'to': '0x1429859428C0aBc9C2C47C8Ee9FBaf82cFA0F20f',\n",
       " 'contractAddress': None,\n",
       " 'root': '0xc445d18b4cb4e382314e0ab48380e9ccf4579066df6ec2fda8dfc45ac3281364'})"
      ]
     },
     "execution_count": 197,
     "metadata": {},
     "output_type": "execute_result"
    }
   ],
   "source": [
    "web3_utils.call_contract(\"applyToLearnPeriod\", int(time.time()), 1000000000000000)"
   ]
  },
  {
   "cell_type": "code",
   "execution_count": 198,
   "id": "ffb5c3d3-839a-437a-8d53-28e90c42462d",
   "metadata": {},
   "outputs": [
    {
     "data": {
      "text/plain": [
       "AttributeDict({'type': 2,\n",
       " 'status': 1,\n",
       " 'cumulativeGasUsed': 175414,\n",
       " 'logs': [AttributeDict({'address': '0x1429859428C0aBc9C2C47C8Ee9FBaf82cFA0F20f',\n",
       "   'topics': [HexBytes('0x30639130eea58a82aa3b1c5767d739114b2b1cd3f752b4d7b8fb16de61d74fde'),\n",
       "    HexBytes('0x0000000000000000000000000000000000000000000000000000000000000002')],\n",
       "   'data': HexBytes('0x000000000000000000000000000000000000000000000000000000000000004000000000000000000000000000000000000000000000000000000000665bbbac000000000000000000000000000000000000000000000000000000000000002e516d5a524c517165617a416a637533504d644a73747132684e317643386f4d72454d42533365476948636e503545000000000000000000000000000000000000'),\n",
       "   'blockHash': HexBytes('0x3b1660ab398fe9ab51d6eddbccf64dd8f9701d1c1a2f29c5842b331cbe2da1a5'),\n",
       "   'blockNumber': 71,\n",
       "   'blockTimestamp': '0x665bbbac',\n",
       "   'transactionHash': HexBytes('0x377ee3efa32e3b70f845f08d5aeaaa722214d45b32050c2a38d01dd0b3201c6e'),\n",
       "   'transactionIndex': 0,\n",
       "   'logIndex': 0,\n",
       "   'removed': False})],\n",
       " 'logsBloom': HexBytes('0x04000020000000000000000000000000000000000000000000000000000000010000000000000000000000000000000000000000000000000000000000000000000000000000000000000000000000000000000000000000000000000000000000000000000000000000000000000000000000000100008000000000000000000000000000000000000000000000000000000000000000000000000000400000000000000000000000000100000000000000000000010000000000000000000000000000000000000000000000000000000000000000000000000000000000000000000000000000000000000000000000000000008000000000000000000000'),\n",
       " 'transactionHash': HexBytes('0x377ee3efa32e3b70f845f08d5aeaaa722214d45b32050c2a38d01dd0b3201c6e'),\n",
       " 'transactionIndex': 0,\n",
       " 'blockHash': HexBytes('0x3b1660ab398fe9ab51d6eddbccf64dd8f9701d1c1a2f29c5842b331cbe2da1a5'),\n",
       " 'blockNumber': 71,\n",
       " 'gasUsed': 175414,\n",
       " 'effectiveGasPrice': 1000145260,\n",
       " 'blobGasPrice': 1,\n",
       " 'from': '0xf39Fd6e51aad88F6F4ce6aB8827279cffFb92266',\n",
       " 'to': '0x1429859428C0aBc9C2C47C8Ee9FBaf82cFA0F20f',\n",
       " 'contractAddress': None,\n",
       " 'root': '0x6dc644e38b3b7f3794c2ca73294a984d8ef329d95cdffc44de8efdfcb1d5400e'})"
      ]
     },
     "execution_count": 198,
     "metadata": {},
     "output_type": "execute_result"
    }
   ],
   "source": [
    "web3_utils.call_contract(\"submitState\", h)"
   ]
  },
  {
   "cell_type": "code",
   "execution_count": 171,
   "id": "1646789d-036c-45f4-a850-ef82f27d99f5",
   "metadata": {
    "editable": true,
    "slideshow": {
     "slide_type": ""
    },
    "tags": []
   },
   "outputs": [],
   "source": [
    "from web3 import Web3\n",
    "from dotenv import load_dotenv\n",
    "import os\n",
    "import json\n",
    "\n",
    "load_dotenv()\n",
    "\n",
    "w3 = Web3(Web3.HTTPProvider('http://127.0.0.1:8545'))"
   ]
  },
  {
   "cell_type": "code",
   "execution_count": 172,
   "id": "3398a63a-c7cf-4963-874f-40f1053cb48a",
   "metadata": {
    "editable": true,
    "slideshow": {
     "slide_type": ""
    },
    "tags": []
   },
   "outputs": [],
   "source": [
    "pk = os.environ.get('PRIVATE_KEY')\n",
    "acct = w3.eth.account.from_key(pk)"
   ]
  },
  {
   "cell_type": "code",
   "execution_count": 173,
   "id": "80fbad71-a7fd-4d7e-b22a-fca5310bae66",
   "metadata": {
    "editable": true,
    "slideshow": {
     "slide_type": ""
    },
    "tags": []
   },
   "outputs": [
    {
     "data": {
      "text/plain": [
       "True"
      ]
     },
     "execution_count": 173,
     "metadata": {},
     "output_type": "execute_result"
    }
   ],
   "source": [
    "w3.is_connected()"
   ]
  },
  {
   "cell_type": "code",
   "execution_count": 174,
   "id": "caf46280-a37d-4b82-8ee8-6581514abd29",
   "metadata": {
    "editable": true,
    "slideshow": {
     "slide_type": ""
    },
    "tags": []
   },
   "outputs": [],
   "source": [
    "contract_addr = os.environ.get('CONTRACT_ADDRESS')\n",
    "contract_addr = \"0x04C89607413713Ec9775E14b954286519d836FEf\"\n",
    "with open(\"../abi.json\", \"r\") as f:\n",
    "    abi = json.load(f)\n",
    "contract = w3.eth.contract(address=contract_addr, abi=abi)"
   ]
  },
  {
   "cell_type": "code",
   "execution_count": 175,
   "id": "0ff6b1e2-8d68-431c-a5cb-1919483e187c",
   "metadata": {},
   "outputs": [
    {
     "data": {
      "text/plain": [
       "'0x04C89607413713Ec9775E14b954286519d836FEf'"
      ]
     },
     "execution_count": 175,
     "metadata": {},
     "output_type": "execute_result"
    }
   ],
   "source": [
    "contract_addr"
   ]
  },
  {
   "cell_type": "code",
   "execution_count": 176,
   "id": "0edc7559-6dfc-4588-8479-d6405939b7c1",
   "metadata": {},
   "outputs": [
    {
     "data": {
      "text/plain": [
       "'0xf39Fd6e51aad88F6F4ce6aB8827279cffFb92266'"
      ]
     },
     "execution_count": 176,
     "metadata": {},
     "output_type": "execute_result"
    }
   ],
   "source": [
    "acct.address"
   ]
  },
  {
   "cell_type": "code",
   "execution_count": 177,
   "id": "74a8adec-b751-4581-9f3d-f42f2aface41",
   "metadata": {},
   "outputs": [
    {
     "data": {
      "text/plain": [
       "74"
      ]
     },
     "execution_count": 177,
     "metadata": {},
     "output_type": "execute_result"
    }
   ],
   "source": [
    "w3.eth.get_transaction_count(acct.address)"
   ]
  },
  {
   "cell_type": "code",
   "execution_count": 183,
   "id": "8da5889d-0dc3-4dfc-a72d-db18bbab7204",
   "metadata": {
    "editable": true,
    "scrolled": true,
    "slideshow": {
     "slide_type": ""
    },
    "tags": []
   },
   "outputs": [],
   "source": [
    "import time\n",
    "unsent_tx = contract.functions.applyToLearnPeriod(int(time.time())).build_transaction({\n",
    "    \"from\": acct.address,\n",
    "    \"nonce\": w3.eth.get_transaction_count(acct.address),\n",
    "    'value': 1000000000000000\n",
    "})"
   ]
  },
  {
   "cell_type": "code",
   "execution_count": 187,
   "id": "dc088ce3-4bfd-484e-a192-12a4bc9438b0",
   "metadata": {
    "editable": true,
    "slideshow": {
     "slide_type": ""
    },
    "tags": []
   },
   "outputs": [
    {
     "data": {
      "text/plain": [
       "<Function submitState>"
      ]
     },
     "execution_count": 187,
     "metadata": {},
     "output_type": "execute_result"
    }
   ],
   "source": []
  },
  {
   "cell_type": "code",
   "execution_count": 184,
   "id": "03a638b5-f488-4514-b0c7-2eb2e978eacd",
   "metadata": {
    "editable": true,
    "slideshow": {
     "slide_type": ""
    },
    "tags": []
   },
   "outputs": [
    {
     "data": {
      "text/plain": [
       "AttributeDict({'type': 2,\n",
       " 'status': 1,\n",
       " 'cumulativeGasUsed': 118271,\n",
       " 'logs': [AttributeDict({'address': '0x04C89607413713Ec9775E14b954286519d836FEf',\n",
       "   'topics': [HexBytes('0x88da22df40e594023efac666521a621f15c10cba4708e3bb26853d578fff25ef'),\n",
       "    HexBytes('0x000000000000000000000000f39fd6e51aad88f6f4ce6ab8827279cfffb92266')],\n",
       "   'data': HexBytes('0x00000000000000000000000000000000000000000000000000000000665bb9bf00000000000000000000000000000000000000000000000000000000665bbaeb00000000000000000000000000000000000000000000000000000000000000030000000000000000000000000000000000000000000000000000000000000002'),\n",
       "   'blockHash': HexBytes('0x33de8855ebb386a32382be68d716d9c5958963cca42dc1666c20fb5eb73f60a8'),\n",
       "   'blockNumber': 59,\n",
       "   'blockTimestamp': '0x665bb9d2',\n",
       "   'transactionHash': HexBytes('0xd99d625a2e11ab60f38e3587abd11239ae7d1d746dd6bedb2c0758bf3532f570'),\n",
       "   'transactionIndex': 0,\n",
       "   'logIndex': 0,\n",
       "   'removed': False})],\n",
       " 'logsBloom': HexBytes('0x00020000000000000000000000000040000000000000000000000000000000000000000000000000000000000000000000000000000000000000000004000000000000000000000000000000000000000000000000000000000000000000000000000800000000000000000100000001000000000000000000000000000000000000010000000000000000000000000000000000000000000000000000000000000000000000000000000000000000000000000000000000000000000000000000000000000000200000000000000000000000002000000000000000000000000000000000000000000000000000000000000000000000000000000000000000'),\n",
       " 'transactionHash': HexBytes('0xd99d625a2e11ab60f38e3587abd11239ae7d1d746dd6bedb2c0758bf3532f570'),\n",
       " 'transactionIndex': 0,\n",
       " 'blockHash': HexBytes('0x33de8855ebb386a32382be68d716d9c5958963cca42dc1666c20fb5eb73f60a8'),\n",
       " 'blockNumber': 59,\n",
       " 'gasUsed': 118271,\n",
       " 'effectiveGasPrice': 1000669915,\n",
       " 'blobGasPrice': 1,\n",
       " 'from': '0xf39Fd6e51aad88F6F4ce6aB8827279cffFb92266',\n",
       " 'to': '0x04C89607413713Ec9775E14b954286519d836FEf',\n",
       " 'contractAddress': None,\n",
       " 'root': '0x759fbce3d62b3af190453070e53ccad3c75c082576825e340e355ee479e29937'})"
      ]
     },
     "execution_count": 184,
     "metadata": {},
     "output_type": "execute_result"
    }
   ],
   "source": [
    "signed_tx = w3.eth.account.sign_transaction(unsent_tx, private_key=acct.key)\n",
    "tx_hash = w3.eth.send_raw_transaction(signed_tx.rawTransaction)\n",
    "w3.eth.wait_for_transaction_receipt(tx_hash)"
   ]
  },
  {
   "cell_type": "code",
   "execution_count": 188,
   "id": "025684c6-3307-48cb-a892-0c8e83f5f112",
   "metadata": {
    "editable": true,
    "slideshow": {
     "slide_type": ""
    },
    "tags": []
   },
   "outputs": [],
   "source": [
    "import time\n",
    "unsent_tx = contract.functions.submitState(h).build_transaction({\n",
    "    \"from\": acct.address,\n",
    "    \"nonce\": w3.eth.get_transaction_count(acct.address),\n",
    "    'value': 0\n",
    "})"
   ]
  },
  {
   "cell_type": "code",
   "execution_count": 189,
   "id": "1ab7578a-ff45-4f15-b365-7553c03f75d7",
   "metadata": {
    "editable": true,
    "slideshow": {
     "slide_type": ""
    },
    "tags": []
   },
   "outputs": [
    {
     "data": {
      "text/plain": [
       "AttributeDict({'type': 2,\n",
       " 'status': 1,\n",
       " 'cumulativeGasUsed': 158314,\n",
       " 'logs': [AttributeDict({'address': '0x04C89607413713Ec9775E14b954286519d836FEf',\n",
       "   'topics': [HexBytes('0x30639130eea58a82aa3b1c5767d739114b2b1cd3f752b4d7b8fb16de61d74fde'),\n",
       "    HexBytes('0x0000000000000000000000000000000000000000000000000000000000000002')],\n",
       "   'data': HexBytes('0x000000000000000000000000000000000000000000000000000000000000004000000000000000000000000000000000000000000000000000000000665bba99000000000000000000000000000000000000000000000000000000000000002e516d5a524c517165617a416a637533504d644a73747132684e317643386f4d72454d42533365476948636e503545000000000000000000000000000000000000'),\n",
       "   'blockHash': HexBytes('0xb6c3a1baada8a0ced03762cddbdac2419832c35e23316569df46129dec6b09df'),\n",
       "   'blockNumber': 61,\n",
       "   'blockTimestamp': '0x665bba99',\n",
       "   'transactionHash': HexBytes('0x8820a017ca1ff9594cc39b3cb0828dd17827eaea99c69527074496e827f601db'),\n",
       "   'transactionIndex': 0,\n",
       "   'logIndex': 0,\n",
       "   'removed': False})],\n",
       " 'logsBloom': HexBytes('0x04000020000000000000000000000040000000000000000000000000000000010000000000000000000000000000000000000000000000000000000000000000000000000000000000000000000000000000000000000000000000000000000000000800000000000000000000000001000000000000008000000000000000000000000000000000000000000000000000000000000000000000000000000000000000000000000000000100000000000000000000000000000000000000000000000000000000000000000000000000000000000000000000000000000000000000000000000000000000000000000000000000008000000000000000000000'),\n",
       " 'transactionHash': HexBytes('0x8820a017ca1ff9594cc39b3cb0828dd17827eaea99c69527074496e827f601db'),\n",
       " 'transactionIndex': 0,\n",
       " 'blockHash': HexBytes('0xb6c3a1baada8a0ced03762cddbdac2419832c35e23316569df46129dec6b09df'),\n",
       " 'blockNumber': 61,\n",
       " 'gasUsed': 158314,\n",
       " 'effectiveGasPrice': 1000514340,\n",
       " 'blobGasPrice': 1,\n",
       " 'from': '0xf39Fd6e51aad88F6F4ce6aB8827279cffFb92266',\n",
       " 'to': '0x04C89607413713Ec9775E14b954286519d836FEf',\n",
       " 'contractAddress': None,\n",
       " 'root': '0xacbbfb9878c25cf35388c962db6ef974950e05c88472dbe5ad655cd26c9aab2d'})"
      ]
     },
     "execution_count": 189,
     "metadata": {},
     "output_type": "execute_result"
    }
   ],
   "source": [
    "signed_tx = w3.eth.account.sign_transaction(unsent_tx, private_key=acct.key)\n",
    "tx_hash = w3.eth.send_raw_transaction(signed_tx.rawTransaction)\n",
    "w3.eth.wait_for_transaction_receipt(tx_hash)"
   ]
  },
  {
   "cell_type": "code",
   "execution_count": null,
   "id": "68529fac-51d8-4210-9c2f-edbb6d229b6c",
   "metadata": {},
   "outputs": [],
   "source": []
  }
 ],
 "metadata": {
  "kernelspec": {
   "display_name": "Python 3 (ipykernel)",
   "language": "python",
   "name": "python3"
  },
  "language_info": {
   "codemirror_mode": {
    "name": "ipython",
    "version": 3
   },
   "file_extension": ".py",
   "mimetype": "text/x-python",
   "name": "python",
   "nbconvert_exporter": "python",
   "pygments_lexer": "ipython3",
   "version": "3.12.3"
  }
 },
 "nbformat": 4,
 "nbformat_minor": 5
}
