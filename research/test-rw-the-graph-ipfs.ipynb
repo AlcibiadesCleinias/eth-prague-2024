{
 "cells": [
  {
   "cell_type": "code",
   "execution_count": 11,
   "id": "29be2f89-d553-42bb-91c3-043932fb508d",
   "metadata": {
    "scrolled": true
   },
   "outputs": [
    {
     "name": "stdout",
     "output_type": "stream",
     "text": [
      "Requirement already satisfied: ipfs-api==0.2.3 in /opt/homebrew/lib/python3.12/site-packages (0.2.3)\n",
      "Requirement already satisfied: urllib3 in /opt/homebrew/lib/python3.12/site-packages (2.2.1)\n",
      "Requirement already satisfied: IPFS-Toolkit in /opt/homebrew/lib/python3.12/site-packages (0.5.23)\n",
      "Requirement already satisfied: subgrounds in /opt/homebrew/lib/python3.12/site-packages (1.8.1)\n",
      "Collecting torch\n",
      "  Using cached torch-2.3.0-cp312-none-macosx_11_0_arm64.whl.metadata (26 kB)\n",
      "Requirement already satisfied: requests>=2.2.1 in /opt/homebrew/lib/python3.12/site-packages (from ipfs-api==0.2.3) (2.31.0)\n",
      "Requirement already satisfied: six in /opt/homebrew/lib/python3.12/site-packages (from ipfs-api==0.2.3) (1.16.0)\n",
      "Requirement already satisfied: appdirs in /opt/homebrew/lib/python3.12/site-packages (from IPFS-Toolkit) (1.4.4)\n",
      "Requirement already satisfied: httpcore in /opt/homebrew/lib/python3.12/site-packages (from IPFS-Toolkit) (0.17.3)\n",
      "Requirement already satisfied: httpx in /opt/homebrew/lib/python3.12/site-packages (from IPFS-Toolkit) (0.24.1)\n",
      "Requirement already satisfied: idna in /opt/homebrew/lib/python3.12/site-packages (from IPFS-Toolkit) (3.6)\n",
      "Requirement already satisfied: multiaddr in /opt/homebrew/lib/python3.12/site-packages (from IPFS-Toolkit) (0.0.9)\n",
      "Requirement already satisfied: termcolor in /opt/homebrew/lib/python3.12/site-packages (from IPFS-Toolkit) (2.4.0)\n",
      "Requirement already satisfied: varint in /opt/homebrew/lib/python3.12/site-packages (from IPFS-Toolkit) (1.0.2)\n",
      "Requirement already satisfied: pandas<3.0,>=2.1 in /opt/homebrew/lib/python3.12/site-packages (from subgrounds) (2.2.2)\n",
      "Requirement already satisfied: pipe<3.0,>=2.0 in /opt/homebrew/lib/python3.12/site-packages (from subgrounds) (2.2)\n",
      "Requirement already satisfied: pydantic<3.0,>=2.0 in /opt/homebrew/lib/python3.12/site-packages (from subgrounds) (2.7.2)\n",
      "Requirement already satisfied: pytest-asyncio<0.22.0,>=0.21.0 in /opt/homebrew/lib/python3.12/site-packages (from subgrounds) (0.21.2)\n",
      "Requirement already satisfied: filelock in /opt/homebrew/lib/python3.12/site-packages (from torch) (3.13.3)\n",
      "Requirement already satisfied: typing-extensions>=4.8.0 in /opt/homebrew/lib/python3.12/site-packages (from torch) (4.11.0)\n",
      "Collecting sympy (from torch)\n",
      "  Using cached sympy-1.12.1-py3-none-any.whl.metadata (12 kB)\n",
      "Collecting networkx (from torch)\n",
      "  Using cached networkx-3.3-py3-none-any.whl.metadata (5.1 kB)\n",
      "Requirement already satisfied: jinja2 in /opt/homebrew/lib/python3.12/site-packages (from torch) (3.1.3)\n",
      "Requirement already satisfied: fsspec in /opt/homebrew/lib/python3.12/site-packages (from torch) (2024.3.1)\n",
      "Requirement already satisfied: certifi in /opt/homebrew/lib/python3.12/site-packages (from httpx->IPFS-Toolkit) (2024.2.2)\n",
      "Requirement already satisfied: sniffio in /opt/homebrew/lib/python3.12/site-packages (from httpx->IPFS-Toolkit) (1.3.1)\n",
      "Requirement already satisfied: h11<0.15,>=0.13 in /opt/homebrew/lib/python3.12/site-packages (from httpcore->IPFS-Toolkit) (0.14.0)\n",
      "Requirement already satisfied: anyio<5.0,>=3.0 in /opt/homebrew/lib/python3.12/site-packages (from httpcore->IPFS-Toolkit) (4.3.0)\n",
      "Requirement already satisfied: h2<5,>=3 in /opt/homebrew/lib/python3.12/site-packages (from httpx[http2]<0.25.0,>=0.24.1->subgrounds) (4.1.0)\n",
      "Requirement already satisfied: numpy>=1.26.0 in /opt/homebrew/lib/python3.12/site-packages (from pandas<3.0,>=2.1->subgrounds) (1.26.4)\n",
      "Requirement already satisfied: python-dateutil>=2.8.2 in /opt/homebrew/lib/python3.12/site-packages (from pandas<3.0,>=2.1->subgrounds) (2.9.0.post0)\n",
      "Requirement already satisfied: pytz>=2020.1 in /opt/homebrew/lib/python3.12/site-packages (from pandas<3.0,>=2.1->subgrounds) (2024.1)\n",
      "Requirement already satisfied: tzdata>=2022.7 in /opt/homebrew/lib/python3.12/site-packages (from pandas<3.0,>=2.1->subgrounds) (2024.1)\n",
      "Requirement already satisfied: annotated-types>=0.4.0 in /opt/homebrew/lib/python3.12/site-packages (from pydantic<3.0,>=2.0->subgrounds) (0.7.0)\n",
      "Requirement already satisfied: pydantic-core==2.18.3 in /opt/homebrew/lib/python3.12/site-packages (from pydantic<3.0,>=2.0->subgrounds) (2.18.3)\n",
      "Requirement already satisfied: pytest>=7.0.0 in /opt/homebrew/lib/python3.12/site-packages (from pytest-asyncio<0.22.0,>=0.21.0->subgrounds) (8.2.1)\n",
      "Requirement already satisfied: charset-normalizer<4,>=2 in /opt/homebrew/lib/python3.12/site-packages (from requests>=2.2.1->ipfs-api==0.2.3) (3.3.2)\n",
      "Requirement already satisfied: MarkupSafe>=2.0 in /opt/homebrew/lib/python3.12/site-packages (from jinja2->torch) (2.1.5)\n",
      "Requirement already satisfied: base58 in /opt/homebrew/lib/python3.12/site-packages (from multiaddr->IPFS-Toolkit) (2.1.1)\n",
      "Requirement already satisfied: netaddr in /opt/homebrew/lib/python3.12/site-packages (from multiaddr->IPFS-Toolkit) (1.3.0)\n",
      "Collecting mpmath<1.4.0,>=1.1.0 (from sympy->torch)\n",
      "  Using cached mpmath-1.3.0-py3-none-any.whl.metadata (8.6 kB)\n",
      "Requirement already satisfied: hyperframe<7,>=6.0 in /opt/homebrew/lib/python3.12/site-packages (from h2<5,>=3->httpx[http2]<0.25.0,>=0.24.1->subgrounds) (6.0.1)\n",
      "Requirement already satisfied: hpack<5,>=4.0 in /opt/homebrew/lib/python3.12/site-packages (from h2<5,>=3->httpx[http2]<0.25.0,>=0.24.1->subgrounds) (4.0.0)\n",
      "Requirement already satisfied: iniconfig in /opt/homebrew/lib/python3.12/site-packages (from pytest>=7.0.0->pytest-asyncio<0.22.0,>=0.21.0->subgrounds) (2.0.0)\n",
      "Requirement already satisfied: packaging in /opt/homebrew/lib/python3.12/site-packages (from pytest>=7.0.0->pytest-asyncio<0.22.0,>=0.21.0->subgrounds) (24.0)\n",
      "Requirement already satisfied: pluggy<2.0,>=1.5 in /opt/homebrew/lib/python3.12/site-packages (from pytest>=7.0.0->pytest-asyncio<0.22.0,>=0.21.0->subgrounds) (1.5.0)\n",
      "Downloading torch-2.3.0-cp312-none-macosx_11_0_arm64.whl (61.0 MB)\n",
      "\u001b[2K   \u001b[38;2;114;156;31m━━━━━━━━━━━━━━━━━━━━━━━━━━━━━━━━━━━━━━━━\u001b[0m \u001b[32m61.0/61.0 MB\u001b[0m \u001b[31m6.1 MB/s\u001b[0m eta \u001b[36m0:00:00\u001b[0mm eta \u001b[36m0:00:01\u001b[0m[36m0:00:01\u001b[0m\n",
      "\u001b[?25hDownloading networkx-3.3-py3-none-any.whl (1.7 MB)\n",
      "\u001b[2K   \u001b[38;2;114;156;31m━━━━━━━━━━━━━━━━━━━━━━━━━━━━━━━━━━━━━━━━\u001b[0m \u001b[32m1.7/1.7 MB\u001b[0m \u001b[31m6.1 MB/s\u001b[0m eta \u001b[36m0:00:00\u001b[0m MB/s\u001b[0m eta \u001b[36m0:00:01\u001b[0m:01\u001b[0m\n",
      "\u001b[?25hDownloading sympy-1.12.1-py3-none-any.whl (5.7 MB)\n",
      "\u001b[2K   \u001b[38;2;114;156;31m━━━━━━━━━━━━━━━━━━━━━━━━━━━━━━━━━━━━━━━━\u001b[0m \u001b[32m5.7/5.7 MB\u001b[0m \u001b[31m6.1 MB/s\u001b[0m eta \u001b[36m0:00:00\u001b[0m[31m6.2 MB/s\u001b[0m eta \u001b[36m0:00:01\u001b[0m\n",
      "\u001b[?25hDownloading mpmath-1.3.0-py3-none-any.whl (536 kB)\n",
      "\u001b[2K   \u001b[38;2;114;156;31m━━━━━━━━━━━━━━━━━━━━━━━━━━━━━━━━━━━━━━━━\u001b[0m \u001b[32m536.2/536.2 kB\u001b[0m \u001b[31m6.0 MB/s\u001b[0m eta \u001b[36m0:00:00\u001b[0m[31m6.6 MB/s\u001b[0m eta \u001b[36m0:00:01\u001b[0m\n",
      "\u001b[?25hInstalling collected packages: mpmath, sympy, networkx, torch\n",
      "Successfully installed mpmath-1.3.0 networkx-3.3 sympy-1.12.1 torch-2.3.0\n"
     ]
    }
   ],
   "source": [
    "!python3 -m pip install ipfs-api==0.2.3 urllib3 IPFS-Toolkit subgrounds torch --upgrade --break-system-packages"
   ]
  },
  {
   "cell_type": "code",
   "execution_count": 12,
   "id": "05bf3fb4-6eb4-41c6-9073-028a059d73ef",
   "metadata": {},
   "outputs": [],
   "source": [
    "import ipfsApi\n",
    "\n",
    "def write_to_ipfs(client, file_path):\n",
    "    # Connect to the local IPFS node\n",
    "\n",
    "    # Add a file to IPFS\n",
    "    res = client.add(file_path)\n",
    "    \n",
    "    # Print the IPFS hash (CID) of the added file\n",
    "    print(f\"Added file to IPFS with CID: {res['Hash']}\")\n",
    "\n",
    "    return res['Hash']"
   ]
  },
  {
   "cell_type": "code",
   "execution_count": 13,
   "id": "3e32879f-b4a6-415e-939b-730a8488fbe3",
   "metadata": {},
   "outputs": [],
   "source": [
    "client = ipfsApi.Client('127.0.0.1', 5001)\n",
    "# client = ipfshttpclient.connect()"
   ]
  },
  {
   "cell_type": "code",
   "execution_count": 14,
   "id": "93e7eb38-1972-40ea-a9b8-2db4ac8a7d4e",
   "metadata": {},
   "outputs": [],
   "source": [
    "# client.id()"
   ]
  },
  {
   "cell_type": "code",
   "execution_count": 15,
   "id": "18ae66b8-c782-43f1-8925-0da28d3d05a7",
   "metadata": {},
   "outputs": [],
   "source": [
    "# client.version()"
   ]
  },
  {
   "cell_type": "code",
   "execution_count": 16,
   "id": "1d77e42d-1450-4362-9b2b-9cdf68d8198b",
   "metadata": {},
   "outputs": [
    {
     "data": {
      "text/plain": [
       "'QmVocnDjam1EUunBKVNQpX4RGftscxKYkUfC4RDL1uq5to'"
      ]
     },
     "execution_count": 16,
     "metadata": {},
     "output_type": "execute_result"
    }
   ],
   "source": [
    "lst = [1, 77, 'lol']\n",
    "h = client.add_pyobj(lst)\n",
    "h"
   ]
  },
  {
   "cell_type": "code",
   "execution_count": 8,
   "id": "3c4e1540-5245-4b95-8ebb-385f200584bf",
   "metadata": {},
   "outputs": [
    {
     "data": {
      "text/plain": [
       "'QmYfNcRcvvyPKmc1DoDkZsA7HnZnyMoeoADegEsimXaxSL'"
      ]
     },
     "execution_count": 8,
     "metadata": {},
     "output_type": "execute_result"
    }
   ],
   "source": [
    "client.add_json({\"a\": \"b\"})"
   ]
  },
  {
   "cell_type": "code",
   "execution_count": 9,
   "id": "a0c28dc1-c63e-43b1-91d3-c48234bab64b",
   "metadata": {
    "scrolled": true
   },
   "outputs": [
    {
     "ename": "HTTPError",
     "evalue": "405 Client Error: Method Not Allowed for url: http://127.0.0.1:5001/api/v0/cat?stream-channels=true&encoding=json&arg=QmYfNcRcvvyPKmc1DoDkZsA7HnZnyMoeoADegEsimXaxSL",
     "output_type": "error",
     "traceback": [
      "\u001b[0;31m---------------------------------------------------------------------------\u001b[0m",
      "\u001b[0;31mHTTPError\u001b[0m                                 Traceback (most recent call last)",
      "Cell \u001b[0;32mIn[9], line 1\u001b[0m\n\u001b[0;32m----> 1\u001b[0m \u001b[43mclient\u001b[49m\u001b[38;5;241;43m.\u001b[39;49m\u001b[43mget_json\u001b[49m\u001b[43m(\u001b[49m\u001b[38;5;124;43m\"\u001b[39;49m\u001b[38;5;124;43mQmYfNcRcvvyPKmc1DoDkZsA7HnZnyMoeoADegEsimXaxSL\u001b[39;49m\u001b[38;5;124;43m\"\u001b[39;49m\u001b[43m)\u001b[49m\n",
      "File \u001b[0;32m/opt/homebrew/lib/python3.12/site-packages/ipfsApi/client.py:529\u001b[0m, in \u001b[0;36mClient.get_json\u001b[0;34m(self, multihash, **kwargs)\u001b[0m\n\u001b[1;32m    522\u001b[0m \u001b[38;5;28;01mdef\u001b[39;00m \u001b[38;5;21mget_json\u001b[39m(\u001b[38;5;28mself\u001b[39m, multihash, \u001b[38;5;241m*\u001b[39m\u001b[38;5;241m*\u001b[39mkwargs):\n\u001b[1;32m    523\u001b[0m \u001b[38;5;250m    \u001b[39m\u001b[38;5;124;03m\"\"\"\u001b[39;00m\n\u001b[1;32m    524\u001b[0m \u001b[38;5;124;03m    Loads a json object from IPFS.\u001b[39;00m\n\u001b[1;32m    525\u001b[0m \n\u001b[1;32m    526\u001b[0m \u001b[38;5;124;03m    >> c.get_json('QmVz9g7m5u3oHiNKHj2CJX1dbG1gtismRS3g9NaPBBLbob')\u001b[39;00m\n\u001b[1;32m    527\u001b[0m \u001b[38;5;124;03m    {u'one': 1, u'two': 2, u'three': 3}\u001b[39;00m\n\u001b[1;32m    528\u001b[0m \u001b[38;5;124;03m    \"\"\"\u001b[39;00m\n\u001b[0;32m--> 529\u001b[0m     \u001b[38;5;28;01mreturn\u001b[39;00m \u001b[38;5;28;43mself\u001b[39;49m\u001b[38;5;241;43m.\u001b[39;49m\u001b[43mcat\u001b[49m\u001b[43m(\u001b[49m\u001b[43mmultihash\u001b[49m\u001b[43m,\u001b[49m\u001b[43m \u001b[49m\u001b[43mdecoder\u001b[49m\u001b[38;5;241;43m=\u001b[39;49m\u001b[38;5;124;43m'\u001b[39;49m\u001b[38;5;124;43mjson\u001b[39;49m\u001b[38;5;124;43m'\u001b[39;49m\u001b[43m,\u001b[49m\u001b[43m \u001b[49m\u001b[38;5;241;43m*\u001b[39;49m\u001b[38;5;241;43m*\u001b[39;49m\u001b[43mkwargs\u001b[49m\u001b[43m)\u001b[49m\n",
      "File \u001b[0;32m/opt/homebrew/lib/python3.12/site-packages/ipfsApi/client.py:126\u001b[0m, in \u001b[0;36mClient.cat\u001b[0;34m(self, multihash, **kwargs)\u001b[0m\n\u001b[1;32m    115\u001b[0m \u001b[38;5;28;01mdef\u001b[39;00m \u001b[38;5;21mcat\u001b[39m(\u001b[38;5;28mself\u001b[39m, multihash, \u001b[38;5;241m*\u001b[39m\u001b[38;5;241m*\u001b[39mkwargs):\n\u001b[1;32m    116\u001b[0m \u001b[38;5;250m    \u001b[39m\u001b[38;5;124mr\u001b[39m\u001b[38;5;124;03m\"\"\"\u001b[39;00m\n\u001b[1;32m    117\u001b[0m \u001b[38;5;124;03m    Returns the contents of a file identified by hash, as a string\u001b[39;00m\n\u001b[1;32m    118\u001b[0m \n\u001b[0;32m   (...)\u001b[0m\n\u001b[1;32m    124\u001b[0m \u001b[38;5;124;03m    u'<!DOCTYPE html>\\n<html>\\n\\n<head>\\n<title>ipfs example viewer</t'\u001b[39;00m\n\u001b[1;32m    125\u001b[0m \u001b[38;5;124;03m    \"\"\"\u001b[39;00m\n\u001b[0;32m--> 126\u001b[0m     \u001b[38;5;28;01mreturn\u001b[39;00m \u001b[38;5;28;43mself\u001b[39;49m\u001b[38;5;241;43m.\u001b[39;49m\u001b[43m_cat\u001b[49m\u001b[38;5;241;43m.\u001b[39;49m\u001b[43mrequest\u001b[49m\u001b[43m(\u001b[49m\u001b[38;5;28;43mself\u001b[39;49m\u001b[38;5;241;43m.\u001b[39;49m\u001b[43m_client\u001b[49m\u001b[43m,\u001b[49m\u001b[43m \u001b[49m\u001b[43mmultihash\u001b[49m\u001b[43m,\u001b[49m\u001b[43m \u001b[49m\u001b[38;5;241;43m*\u001b[39;49m\u001b[38;5;241;43m*\u001b[39;49m\u001b[43mkwargs\u001b[49m\u001b[43m)\u001b[49m\n",
      "File \u001b[0;32m/opt/homebrew/lib/python3.12/site-packages/ipfsApi/commands.py:31\u001b[0m, in \u001b[0;36mArgCommand.request\u001b[0;34m(self, client, *args, **kwargs)\u001b[0m\n\u001b[1;32m     28\u001b[0m \u001b[38;5;28;01mif\u001b[39;00m \u001b[38;5;28mself\u001b[39m\u001b[38;5;241m.\u001b[39margc \u001b[38;5;129;01mand\u001b[39;00m \u001b[38;5;28mlen\u001b[39m(args) \u001b[38;5;241m!=\u001b[39m \u001b[38;5;28mself\u001b[39m\u001b[38;5;241m.\u001b[39margc:\n\u001b[1;32m     29\u001b[0m     \u001b[38;5;28;01mraise\u001b[39;00m InvalidArguments(\u001b[38;5;124m\"\u001b[39m\u001b[38;5;124m[\u001b[39m\u001b[38;5;132;01m%s\u001b[39;00m\u001b[38;5;124m] command requires \u001b[39m\u001b[38;5;132;01m%d\u001b[39;00m\u001b[38;5;124m arguments.\u001b[39m\u001b[38;5;124m\"\u001b[39m \u001b[38;5;241m%\u001b[39m (\n\u001b[1;32m     30\u001b[0m         \u001b[38;5;28mself\u001b[39m\u001b[38;5;241m.\u001b[39mpath, \u001b[38;5;28mself\u001b[39m\u001b[38;5;241m.\u001b[39margc))\n\u001b[0;32m---> 31\u001b[0m \u001b[38;5;28;01mreturn\u001b[39;00m \u001b[43mclient\u001b[49m\u001b[38;5;241;43m.\u001b[39;49m\u001b[43mrequest\u001b[49m\u001b[43m(\u001b[49m\u001b[38;5;28;43mself\u001b[39;49m\u001b[38;5;241;43m.\u001b[39;49m\u001b[43mpath\u001b[49m\u001b[43m,\u001b[49m\u001b[43m \u001b[49m\u001b[43margs\u001b[49m\u001b[38;5;241;43m=\u001b[39;49m\u001b[43margs\u001b[49m\u001b[43m,\u001b[49m\u001b[43m \u001b[49m\u001b[38;5;241;43m*\u001b[39;49m\u001b[38;5;241;43m*\u001b[39;49m\u001b[43mkwargs\u001b[49m\u001b[43m)\u001b[49m\n",
      "File \u001b[0;32m/opt/homebrew/lib/python3.12/site-packages/ipfsApi/http.py:25\u001b[0m, in \u001b[0;36mpass_defaults.<locals>.wrapper\u001b[0;34m(self, *args, **kwargs)\u001b[0m\n\u001b[1;32m     23\u001b[0m merged\u001b[38;5;241m.\u001b[39mupdate(\u001b[38;5;28mself\u001b[39m\u001b[38;5;241m.\u001b[39mdefaults)\n\u001b[1;32m     24\u001b[0m merged\u001b[38;5;241m.\u001b[39mupdate(kwargs)\n\u001b[0;32m---> 25\u001b[0m \u001b[38;5;28;01mreturn\u001b[39;00m \u001b[43mf\u001b[49m\u001b[43m(\u001b[49m\u001b[38;5;28;43mself\u001b[39;49m\u001b[43m,\u001b[49m\u001b[43m \u001b[49m\u001b[38;5;241;43m*\u001b[39;49m\u001b[43margs\u001b[49m\u001b[43m,\u001b[49m\u001b[43m \u001b[49m\u001b[38;5;241;43m*\u001b[39;49m\u001b[38;5;241;43m*\u001b[39;49m\u001b[43mmerged\u001b[49m\u001b[43m)\u001b[49m\n",
      "File \u001b[0;32m/opt/homebrew/lib/python3.12/site-packages/ipfsApi/http.py:95\u001b[0m, in \u001b[0;36mHTTPClient.request\u001b[0;34m(self, path, args, files, opts, decoder, **kwargs)\u001b[0m\n\u001b[1;32m     92\u001b[0m         ret \u001b[38;5;241m=\u001b[39m res\u001b[38;5;241m.\u001b[39mtext\n\u001b[1;32m     94\u001b[0m \u001b[38;5;28;01mtry\u001b[39;00m:\n\u001b[0;32m---> 95\u001b[0m     \u001b[43mres\u001b[49m\u001b[38;5;241;43m.\u001b[39;49m\u001b[43mraise_for_status\u001b[49m\u001b[43m(\u001b[49m\u001b[43m)\u001b[49m\n\u001b[1;32m     96\u001b[0m \u001b[38;5;28;01mexcept\u001b[39;00m requests\u001b[38;5;241m.\u001b[39mexceptions\u001b[38;5;241m.\u001b[39mHTTPError:\n\u001b[1;32m     97\u001b[0m     \u001b[38;5;66;03m# If we have decoded an error response from the server,\u001b[39;00m\n\u001b[1;32m     98\u001b[0m     \u001b[38;5;66;03m# use that as the exception message; otherwise, just pass\u001b[39;00m\n\u001b[1;32m     99\u001b[0m     \u001b[38;5;66;03m# the exception on to the caller.\u001b[39;00m\n\u001b[1;32m    100\u001b[0m     \u001b[38;5;28;01mif\u001b[39;00m \u001b[38;5;124m'\u001b[39m\u001b[38;5;124mMessage\u001b[39m\u001b[38;5;124m'\u001b[39m \u001b[38;5;129;01min\u001b[39;00m ret:\n",
      "File \u001b[0;32m/opt/homebrew/lib/python3.12/site-packages/requests/models.py:1021\u001b[0m, in \u001b[0;36mResponse.raise_for_status\u001b[0;34m(self)\u001b[0m\n\u001b[1;32m   1016\u001b[0m     http_error_msg \u001b[38;5;241m=\u001b[39m (\n\u001b[1;32m   1017\u001b[0m         \u001b[38;5;124mf\u001b[39m\u001b[38;5;124m\"\u001b[39m\u001b[38;5;132;01m{\u001b[39;00m\u001b[38;5;28mself\u001b[39m\u001b[38;5;241m.\u001b[39mstatus_code\u001b[38;5;132;01m}\u001b[39;00m\u001b[38;5;124m Server Error: \u001b[39m\u001b[38;5;132;01m{\u001b[39;00mreason\u001b[38;5;132;01m}\u001b[39;00m\u001b[38;5;124m for url: \u001b[39m\u001b[38;5;132;01m{\u001b[39;00m\u001b[38;5;28mself\u001b[39m\u001b[38;5;241m.\u001b[39murl\u001b[38;5;132;01m}\u001b[39;00m\u001b[38;5;124m\"\u001b[39m\n\u001b[1;32m   1018\u001b[0m     )\n\u001b[1;32m   1020\u001b[0m \u001b[38;5;28;01mif\u001b[39;00m http_error_msg:\n\u001b[0;32m-> 1021\u001b[0m     \u001b[38;5;28;01mraise\u001b[39;00m HTTPError(http_error_msg, response\u001b[38;5;241m=\u001b[39m\u001b[38;5;28mself\u001b[39m)\n",
      "\u001b[0;31mHTTPError\u001b[0m: 405 Client Error: Method Not Allowed for url: http://127.0.0.1:5001/api/v0/cat?stream-channels=true&encoding=json&arg=QmYfNcRcvvyPKmc1DoDkZsA7HnZnyMoeoADegEsimXaxSL"
     ]
    }
   ],
   "source": [
    "client.get_json(\"QmYfNcRcvvyPKmc1DoDkZsA7HnZnyMoeoADegEsimXaxSL\")"
   ]
  },
  {
   "cell_type": "code",
   "execution_count": 92,
   "id": "9cda03a7-3295-49e4-9fc8-92ea947b453d",
   "metadata": {
    "scrolled": true
   },
   "outputs": [],
   "source": [
    "import requests"
   ]
  },
  {
   "cell_type": "code",
   "execution_count": 93,
   "id": "b2571871-2240-4dda-b5d0-e504339fe379",
   "metadata": {},
   "outputs": [],
   "source": [
    "r = requests.get(\"https://ipfs.io/ipfs/Qmdc4HtimQNcjUyQUp1FPQ8SQSMa54eqN1azUPUifX13jc\")"
   ]
  },
  {
   "cell_type": "code",
   "execution_count": 94,
   "id": "424bd236-07b7-4147-99d9-c2ebef306e72",
   "metadata": {},
   "outputs": [
    {
     "data": {
      "text/plain": [
       "'\"test\"\\n'"
      ]
     },
     "execution_count": 94,
     "metadata": {},
     "output_type": "execute_result"
    }
   ],
   "source": [
    "r.content.decode()"
   ]
  },
  {
   "cell_type": "code",
   "execution_count": 17,
   "id": "109d288c-c54e-4479-9728-2a9c6039aeb9",
   "metadata": {},
   "outputs": [],
   "source": [
    "import torch\n",
    "\n",
    "model_fn = lambda: torch.nn.Sequential(\n",
    "    torch.nn.Linear(4, 8),\n",
    "    torch.nn.ReLU(),\n",
    "    torch.nn.Linear(8, 4))"
   ]
  },
  {
   "cell_type": "code",
   "execution_count": 18,
   "id": "7d992fa3-0683-4507-9ff0-12bd5da6f142",
   "metadata": {},
   "outputs": [],
   "source": [
    "model = model_fn()\n",
    "torch.save(model.state_dict(), \"/Users/sergmiller/Downloads/test_state.pth\")"
   ]
  },
  {
   "cell_type": "code",
   "execution_count": 19,
   "id": "8db99cc6-a14f-46f0-9d21-7edf56c912fb",
   "metadata": {},
   "outputs": [
    {
     "data": {
      "text/plain": [
       "<ipfshttpclient2.client.base.ResponseBase: {'Name': 'test_state.pth', 'Hash': 'QmXgQLqG7NyN6xBoMpZzATrxi1gk8JNnbo3WvqMPZEnMv5', 'Size': '2355'}>"
      ]
     },
     "execution_count": 19,
     "metadata": {},
     "output_type": "execute_result"
    }
   ],
   "source": [
    "import ipfs_api\n",
    "ipfs_api.http_client.add(\"/Users/sergmiller/Downloads/test_state.pth\")"
   ]
  },
  {
   "cell_type": "code",
   "execution_count": 20,
   "id": "eeac6854-306b-44ea-b0c8-0804cd3a8431",
   "metadata": {},
   "outputs": [],
   "source": [
    "ipfs_api.http_client.get(\"QmQ3Qswrzzdkic412CAgHyFuyyVuTuybEPJCUDF3Shp2cr\")"
   ]
  },
  {
   "cell_type": "code",
   "execution_count": 21,
   "id": "86b7669e-32e2-4ec9-9bd9-2c23f34a75fa",
   "metadata": {
    "scrolled": true
   },
   "outputs": [
    {
     "data": {
      "text/plain": [
       "<All keys matched successfully>"
      ]
     },
     "execution_count": 21,
     "metadata": {},
     "output_type": "execute_result"
    }
   ],
   "source": [
    "model.load_state_dict(torch.load(\"QmQ3Qswrzzdkic412CAgHyFuyyVuTuybEPJCUDF3Shp2cr\"))"
   ]
  },
  {
   "cell_type": "code",
   "execution_count": 22,
   "id": "633ecec1-8379-481c-8097-454dca7d294a",
   "metadata": {},
   "outputs": [
    {
     "data": {
      "text/plain": [
       "Sequential(\n",
       "  (0): Linear(in_features=4, out_features=8, bias=True)\n",
       "  (1): ReLU()\n",
       "  (2): Linear(in_features=8, out_features=4, bias=True)\n",
       ")"
      ]
     },
     "execution_count": 22,
     "metadata": {},
     "output_type": "execute_result"
    }
   ],
   "source": [
    "model"
   ]
  },
  {
   "cell_type": "code",
   "execution_count": 23,
   "id": "48e8589b-9451-46b9-a4a1-3f4434265028",
   "metadata": {},
   "outputs": [
    {
     "data": {
      "text/html": [
       "<div>\n",
       "<style scoped>\n",
       "    .dataframe tbody tr th:only-of-type {\n",
       "        vertical-align: middle;\n",
       "    }\n",
       "\n",
       "    .dataframe tbody tr th {\n",
       "        vertical-align: top;\n",
       "    }\n",
       "\n",
       "    .dataframe thead th {\n",
       "        text-align: right;\n",
       "    }\n",
       "</style>\n",
       "<table border=\"1\" class=\"dataframe\">\n",
       "  <thead>\n",
       "    <tr style=\"text-align: right;\">\n",
       "      <th></th>\n",
       "      <th>markets_name</th>\n",
       "      <th>markets_totalValueLockedUSD</th>\n",
       "    </tr>\n",
       "  </thead>\n",
       "  <tbody>\n",
       "    <tr>\n",
       "      <th>0</th>\n",
       "      <td>Aave interest bearing STETH</td>\n",
       "      <td>7.074754e+08</td>\n",
       "    </tr>\n",
       "    <tr>\n",
       "      <th>1</th>\n",
       "      <td>Aave interest bearing WETH</td>\n",
       "      <td>6.368358e+08</td>\n",
       "    </tr>\n",
       "    <tr>\n",
       "      <th>2</th>\n",
       "      <td>Aave interest bearing WBTC</td>\n",
       "      <td>5.535987e+08</td>\n",
       "    </tr>\n",
       "    <tr>\n",
       "      <th>3</th>\n",
       "      <td>Aave interest bearing USDC</td>\n",
       "      <td>2.001712e+08</td>\n",
       "    </tr>\n",
       "    <tr>\n",
       "      <th>4</th>\n",
       "      <td>Aave interest bearing USDT</td>\n",
       "      <td>1.599850e+08</td>\n",
       "    </tr>\n",
       "  </tbody>\n",
       "</table>\n",
       "</div>"
      ],
      "text/plain": [
       "                  markets_name  markets_totalValueLockedUSD\n",
       "0  Aave interest bearing STETH                 7.074754e+08\n",
       "1   Aave interest bearing WETH                 6.368358e+08\n",
       "2   Aave interest bearing WBTC                 5.535987e+08\n",
       "3   Aave interest bearing USDC                 2.001712e+08\n",
       "4   Aave interest bearing USDT                 1.599850e+08"
      ]
     },
     "execution_count": 23,
     "metadata": {},
     "output_type": "execute_result"
    }
   ],
   "source": [
    "from subgrounds import Subgrounds\n",
    "\n",
    "sg = Subgrounds()\n",
    "\n",
    "# Load the subgraph\n",
    "aave_v2 = sg.load_subgraph(\n",
    "    \"https://api.thegraph.com/subgraphs/name/messari/aave-v2-ethereum\")\n",
    "\n",
    "# Construct the query\n",
    "latest_markets = aave_v2.Query.markets(\n",
    "    orderBy=aave_v2.Market.totalValueLockedUSD,\n",
    "    orderDirection='desc',\n",
    "    first=5,\n",
    ")\n",
    "# Return query to a dataframe\n",
    "sg.query_df([\n",
    "    latest_markets.name,\n",
    "    latest_markets.totalValueLockedUSD,\n",
    "])"
   ]
  },
  {
   "cell_type": "code",
   "execution_count": null,
   "id": "bbc52392-6b72-447b-a1e5-42460f0a3d8e",
   "metadata": {},
   "outputs": [],
   "source": []
  }
 ],
 "metadata": {
  "kernelspec": {
   "display_name": "Python 3 (ipykernel)",
   "language": "python",
   "name": "python3"
  },
  "language_info": {
   "codemirror_mode": {
    "name": "ipython",
    "version": 3
   },
   "file_extension": ".py",
   "mimetype": "text/x-python",
   "name": "python",
   "nbconvert_exporter": "python",
   "pygments_lexer": "ipython3",
   "version": "3.12.3"
  }
 },
 "nbformat": 4,
 "nbformat_minor": 5
}
