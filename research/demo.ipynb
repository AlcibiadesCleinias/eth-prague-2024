{
 "cells": [
  {
   "cell_type": "code",
   "execution_count": 1,
   "id": "21fffe20-3a54-4691-8b54-049bd7d8747c",
   "metadata": {},
   "outputs": [],
   "source": [
    "import numpy as np\n",
    "import pandas as pd\n",
    "import torch\n",
    "\n",
    "import time\n",
    "\n",
    "from sklearn.datasets import load_iris\n",
    "\n",
    "import matplotlib.pyplot as plt\n",
    "from IPython.display import display, clear_output"
   ]
  },
  {
   "cell_type": "code",
   "execution_count": 2,
   "id": "3168f0f0-0f8b-4837-8627-4817819a416a",
   "metadata": {},
   "outputs": [],
   "source": [
    "%matplotlib inline"
   ]
  },
  {
   "cell_type": "code",
   "execution_count": 171,
   "id": "76ec8342-f12b-492a-b750-8e2e386440e4",
   "metadata": {},
   "outputs": [],
   "source": [
    "class Task:\n",
    "    def __init__(self, X, y, batch_size, model_fn):\n",
    "        self.X = X\n",
    "        self.y = y\n",
    "        self.batch_size = batch_size\n",
    "        self.state = 0\n",
    "        self.total_batches = len(self.X) // batch_size\n",
    "        self.model_fn = model_fn\n",
    "        model = self.model_fn()\n",
    "        self.model_weights = [model.state_dict(),]\n",
    "        self.losses = [self.calc_global_loss(model).item()]\n",
    "\n",
    "    def batch(self, state=-1):\n",
    "        if state == -1:\n",
    "            state = self.state\n",
    "        batch = self.state % self.total_batches\n",
    "        begin = batch * self.batch_size\n",
    "        end = (batch + 1) * self.batch_size\n",
    "        return self.X[begin:end], self.y[begin:end]\n",
    "    \n",
    "    def submit_update(self, weights, loss):\n",
    "        self.state += 1\n",
    "        self.model_weights.append(weights)\n",
    "        self.losses.append(loss)\n",
    "\n",
    "    def set_state(self, state):\n",
    "        self.state = state\n",
    "        self.model_weigthts = self.model_weights[:self.state + 1]\n",
    "        self.losses = self.losses[:self.state + 1]\n",
    "    \n",
    "    def model(self, state=-1):\n",
    "        model = self.model_fn() \n",
    "        model.load_state_dict(self.model_weights[state])\n",
    "        return model\n",
    "\n",
    "\n",
    "    def calc_global_loss(self, model):\n",
    "        model.train(False)\n",
    "        y_pred_global = model(self.X)\n",
    "        loss_global = criterion(y_pred_global, self.y)\n",
    "        return loss_global"
   ]
  },
  {
   "cell_type": "code",
   "execution_count": null,
   "id": "608efe2a-4c81-4943-97a1-277ac2c33174",
   "metadata": {},
   "outputs": [],
   "source": []
  },
  {
   "cell_type": "code",
   "execution_count": 172,
   "id": "b18300cd-e9ef-4d82-bd70-fea29d6435fd",
   "metadata": {},
   "outputs": [
    {
     "data": {
      "text/plain": [
       "Sequential(\n",
       "  (0): Linear(in_features=4, out_features=8, bias=True)\n",
       "  (1): ReLU()\n",
       "  (2): Linear(in_features=8, out_features=4, bias=True)\n",
       ")"
      ]
     },
     "execution_count": 172,
     "metadata": {},
     "output_type": "execute_result"
    }
   ],
   "source": [
    "model_fn = lambda: torch.nn.Sequential(\n",
    "    torch.nn.Linear(4, 8),\n",
    "    torch.nn.ReLU(),\n",
    "    torch.nn.Linear(8, 4))\n",
    "model_fn()"
   ]
  },
  {
   "cell_type": "code",
   "execution_count": null,
   "id": "450b18b9-8adf-4861-9658-d555b98941be",
   "metadata": {},
   "outputs": [],
   "source": []
  },
  {
   "cell_type": "code",
   "execution_count": 173,
   "id": "0ec5fded-1432-45e3-a7f3-01ddbc1fb440",
   "metadata": {},
   "outputs": [
    {
     "name": "stdout",
     "output_type": "stream",
     "text": [
      "69.6\n"
     ]
    },
    {
     "data": {
      "text/plain": [
       "(tensor([[5.8000, 2.8000, 5.1000, 2.4000],\n",
       "         [6.0000, 2.2000, 4.0000, 1.0000],\n",
       "         [5.5000, 4.2000, 1.4000, 0.2000]]),\n",
       " tensor([[2],\n",
       "         [1],\n",
       "         [0]]))"
      ]
     },
     "execution_count": 173,
     "metadata": {},
     "output_type": "execute_result"
    }
   ],
   "source": [
    "X, y = load_iris(return_X_y=True)\n",
    "X.shape, y.shape\n",
    "np.random.seed(0)\n",
    "idx = np.arange(len(X))\n",
    "np.random.shuffle(idx)\n",
    "print(np.mean(idx[:10]))\n",
    "                        \n",
    "Xt = torch.Tensor(X[idx])\n",
    "yt = torch.LongTensor(y[idx]).reshape(-1,1)\n",
    "Xt[:3], yt[:3]"
   ]
  },
  {
   "cell_type": "code",
   "execution_count": 174,
   "id": "1a6086a2-ede4-4cb2-adde-db5494e4d085",
   "metadata": {},
   "outputs": [],
   "source": [
    "def criterion(logits, labels):\n",
    "    log_softmax = torch.nn.LogSoftmax(dim=1)(logits)\n",
    "    batch_size = logits.shape[0]\n",
    "    batch_idx = torch.arange(batch_size).unsqueeze(1)\n",
    "    return -torch.mean(log_softmax[batch_idx, labels.reshape(-1)])"
   ]
  },
  {
   "cell_type": "code",
   "execution_count": 175,
   "id": "c76a5179-8357-4deb-b95c-a016e03312b1",
   "metadata": {},
   "outputs": [],
   "source": [
    "def compare(model, other_model):\n",
    "    for t, tt in zip(model.parameters(), other_model.parameters()):\n",
    "        if not torch.allclose(t, tt, 1e-5):\n",
    "            return False\n",
    "    return True\n",
    "\n",
    "def get_algorithm(model):\n",
    "    return torch.optim.SGD(model.parameters(), lr=0.01)"
   ]
  },
  {
   "cell_type": "code",
   "execution_count": 176,
   "id": "ff667d24-bf0f-4297-a542-85d472693dc9",
   "metadata": {},
   "outputs": [],
   "source": [
    "def publish_task():\n",
    "    global task\n",
    "    torch.manual_seed(42)\n",
    "    task = Task(Xt, yt, batch_size=32, model_fn=model_fn)\n",
    "\n",
    "def draw(vals):\n",
    "    clear_output(wait=True)\n",
    "    ax.plot(vals)\n",
    "    ax.set_xlabel('Iter')\n",
    "    ax.set_ylabel('Loss')\n",
    "    ax.set_title(f'Model train loss')\n",
    "    display(fig)\n",
    "    time.sleep(1)\n",
    "\n",
    "def worker_make_update(i, malicious=False):\n",
    "    global task\n",
    "    assert i == task.state\n",
    "    x_batch, y_batch = task.batch(i)\n",
    "    model = task.model()\n",
    "    print(model)\n",
    "    y_pred = model(x_batch)\n",
    "    y_batch_true = y_batch\n",
    "    if malicious:\n",
    "        y_batch = torch.zeros_like(y_batch)\n",
    "    loss = criterion(y_pred, y_batch)\n",
    "    optimizer = get_algorithm(model)\n",
    "    optimizer.zero_grad()\n",
    "    loss.backward()\n",
    "    optimizer.step()\n",
    "    weights = model.state_dict()\n",
    "    loss_global = task.calc_global_loss(model)\n",
    "    print(loss.item(), loss_global.item(),malicious, y_batch, y_batch_true)\n",
    "    task.submit_update(model.state_dict(), loss_global.item())\n",
    "    draw(task.losses)\n",
    "\n",
    "def frod_proofer_suspect(i):\n",
    "    pass\n",
    "\n",
    "def validator_dao_check(i):\n",
    "    global task\n",
    "    model_i = task.model(i)\n",
    "    model_i_next = task.model(i+1)\n",
    "    x_batch, y_batch = task.batch(i)\n",
    "    y_pred = model_i(x_batch)\n",
    "    loss = criterion(y_pred, y_batch)\n",
    "    optimizer = get_algorithm(model_i)\n",
    "    optimizer.zero_grad()\n",
    "    loss.backward()\n",
    "    optimizer.step()\n",
    "    is_good = compare(model_i, model_i_next)\n",
    "    if not is_good:\n",
    "        task.set_state(i)\n",
    "    draw(task.losses)"
   ]
  },
  {
   "cell_type": "code",
   "execution_count": 177,
   "id": "82072d77-2947-4043-b779-4d5ac65b2a79",
   "metadata": {},
   "outputs": [],
   "source": [
    "def scenario():\n",
    "    publish_task()\n",
    "    worker_make_update(0)\n",
    "    worker_make_update(1)\n",
    "    worker_make_update(2, malicious=True)\n",
    "    worker_make_update(3)\n",
    "    worker_make_update(4)\n",
    "    frod_proofer_suspect(2)\n",
    "    worker_make_update(5)\n",
    "    validator_dao_check(2)\n",
    "    worker_make_update(2)\n",
    "    worker_make_update(3, malicious=True)\n",
    "    worker_make_update(4)\n",
    "    worker_make_update(5)\n",
    "    worker_make_update(6)\n",
    "    frod_proofer_suspect(3)\n",
    "    # validators do nothing bc of timeout for disput\n",
    "    worker_make_update(7)"
   ]
  },
  {
   "cell_type": "code",
   "execution_count": null,
   "id": "ffa6b34e-619f-4568-9320-a344618737df",
   "metadata": {},
   "outputs": [],
   "source": []
  },
  {
   "cell_type": "code",
   "execution_count": 178,
   "id": "58c36410-def5-450d-ab25-dad4628506f9",
   "metadata": {},
   "outputs": [
    {
     "data": {
      "image/png": "[encoded data removed]",
      "text/plain": [
       "<Figure size 640x480 with 1 Axes>"
      ]
     },
     "metadata": {},
     "output_type": "display_data"
    }
   ],
   "source": [
    "fig, ax = plt.subplots()\n",
    "\n",
    "scenario()\n",
    "\n",
    "clear_output(wait=True)"
   ]
  },
  {
   "cell_type": "code",
   "execution_count": null,
   "id": "e44eae43-9a5b-4679-b065-d8b4f6960945",
   "metadata": {},
   "outputs": [],
   "source": []
  }
 ],
 "metadata": {
  "kernelspec": {
   "display_name": "Python 3 (ipykernel)",
   "language": "python",
   "name": "python3"
  },
  "language_info": {
   "codemirror_mode": {
    "name": "ipython",
    "version": 3
   },
   "file_extension": ".py",
   "mimetype": "text/x-python",
   "name": "python",
   "nbconvert_exporter": "python",
   "pygments_lexer": "ipython3",
   "version": "3.9.19"
  }
 },
 "nbformat": 4,
 "nbformat_minor": 5
}
